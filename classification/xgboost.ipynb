{
 "cells": [
  {
   "cell_type": "code",
   "execution_count": 1,
   "id": "initial_id",
   "metadata": {
    "collapsed": true,
    "ExecuteTime": {
     "end_time": "2024-08-24T15:44:43.367151Z",
     "start_time": "2024-08-24T15:44:42.889939Z"
    }
   },
   "outputs": [
    {
     "name": "stdout",
     "output_type": "stream",
     "text": [
      "Requirement already satisfied: xgboost in /Library/Frameworks/Python.framework/Versions/3.11/lib/python3.11/site-packages (2.1.1)\r\n",
      "Requirement already satisfied: numpy in /Library/Frameworks/Python.framework/Versions/3.11/lib/python3.11/site-packages (from xgboost) (1.26.4)\r\n",
      "Requirement already satisfied: scipy in /Library/Frameworks/Python.framework/Versions/3.11/lib/python3.11/site-packages (from xgboost) (1.14.1)\r\n"
     ]
    }
   ],
   "source": [
    "!pip install xgboost"
   ]
  },
  {
   "cell_type": "code",
   "outputs": [
    {
     "data": {
      "text/plain": "   mean radius  mean texture  mean perimeter  mean area  mean smoothness  \\\n0        17.99         10.38           122.8     1001.0          0.11840   \n1        20.57         17.77           132.9     1326.0          0.08474   \n2        19.69         21.25           130.0     1203.0          0.10960   \n\n   mean compactness  mean concavity  mean concave points  mean symmetry  \\\n0           0.27760          0.3001              0.14710         0.2419   \n1           0.07864          0.0869              0.07017         0.1812   \n2           0.15990          0.1974              0.12790         0.2069   \n\n   mean fractal dimension  ...  worst texture  worst perimeter  worst area  \\\n0                 0.07871  ...          17.33            184.6      2019.0   \n1                 0.05667  ...          23.41            158.8      1956.0   \n2                 0.05999  ...          25.53            152.5      1709.0   \n\n   worst smoothness  worst compactness  worst concavity  worst concave points  \\\n0            0.1622             0.6656           0.7119                0.2654   \n1            0.1238             0.1866           0.2416                0.1860   \n2            0.1444             0.4245           0.4504                0.2430   \n\n   worst symmetry  worst fractal dimension  target  \n0          0.4601                  0.11890       0  \n1          0.2750                  0.08902       0  \n2          0.3613                  0.08758       0  \n\n[3 rows x 31 columns]",
      "text/html": "<div>\n<style scoped>\n    .dataframe tbody tr th:only-of-type {\n        vertical-align: middle;\n    }\n\n    .dataframe tbody tr th {\n        vertical-align: top;\n    }\n\n    .dataframe thead th {\n        text-align: right;\n    }\n</style>\n<table border=\"1\" class=\"dataframe\">\n  <thead>\n    <tr style=\"text-align: right;\">\n      <th></th>\n      <th>mean radius</th>\n      <th>mean texture</th>\n      <th>mean perimeter</th>\n      <th>mean area</th>\n      <th>mean smoothness</th>\n      <th>mean compactness</th>\n      <th>mean concavity</th>\n      <th>mean concave points</th>\n      <th>mean symmetry</th>\n      <th>mean fractal dimension</th>\n      <th>...</th>\n      <th>worst texture</th>\n      <th>worst perimeter</th>\n      <th>worst area</th>\n      <th>worst smoothness</th>\n      <th>worst compactness</th>\n      <th>worst concavity</th>\n      <th>worst concave points</th>\n      <th>worst symmetry</th>\n      <th>worst fractal dimension</th>\n      <th>target</th>\n    </tr>\n  </thead>\n  <tbody>\n    <tr>\n      <th>0</th>\n      <td>17.99</td>\n      <td>10.38</td>\n      <td>122.8</td>\n      <td>1001.0</td>\n      <td>0.11840</td>\n      <td>0.27760</td>\n      <td>0.3001</td>\n      <td>0.14710</td>\n      <td>0.2419</td>\n      <td>0.07871</td>\n      <td>...</td>\n      <td>17.33</td>\n      <td>184.6</td>\n      <td>2019.0</td>\n      <td>0.1622</td>\n      <td>0.6656</td>\n      <td>0.7119</td>\n      <td>0.2654</td>\n      <td>0.4601</td>\n      <td>0.11890</td>\n      <td>0</td>\n    </tr>\n    <tr>\n      <th>1</th>\n      <td>20.57</td>\n      <td>17.77</td>\n      <td>132.9</td>\n      <td>1326.0</td>\n      <td>0.08474</td>\n      <td>0.07864</td>\n      <td>0.0869</td>\n      <td>0.07017</td>\n      <td>0.1812</td>\n      <td>0.05667</td>\n      <td>...</td>\n      <td>23.41</td>\n      <td>158.8</td>\n      <td>1956.0</td>\n      <td>0.1238</td>\n      <td>0.1866</td>\n      <td>0.2416</td>\n      <td>0.1860</td>\n      <td>0.2750</td>\n      <td>0.08902</td>\n      <td>0</td>\n    </tr>\n    <tr>\n      <th>2</th>\n      <td>19.69</td>\n      <td>21.25</td>\n      <td>130.0</td>\n      <td>1203.0</td>\n      <td>0.10960</td>\n      <td>0.15990</td>\n      <td>0.1974</td>\n      <td>0.12790</td>\n      <td>0.2069</td>\n      <td>0.05999</td>\n      <td>...</td>\n      <td>25.53</td>\n      <td>152.5</td>\n      <td>1709.0</td>\n      <td>0.1444</td>\n      <td>0.4245</td>\n      <td>0.4504</td>\n      <td>0.2430</td>\n      <td>0.3613</td>\n      <td>0.08758</td>\n      <td>0</td>\n    </tr>\n  </tbody>\n</table>\n<p>3 rows × 31 columns</p>\n</div>"
     },
     "execution_count": 6,
     "metadata": {},
     "output_type": "execute_result"
    }
   ],
   "source": [
    "import pandas as pd\n",
    "import numpy as np\n",
    "from sklearn.datasets import load_breast_cancer\n",
    "from sklearn.model_selection import train_test_split\n",
    "# xgboost 패키지 로딩하기\n",
    "import xgboost as xgb\n",
    "from xgboost import plot_importance\n",
    "\n",
    "import warnings\n",
    "warnings.filterwarnings('ignore')\n",
    "\n",
    "dataset = load_breast_cancer()\n",
    "features= dataset.data\n",
    "labels = dataset.target\n",
    "\n",
    "cancer_df = pd.DataFrame(data=features, columns=dataset.feature_names)\n",
    "cancer_df['target']= labels\n",
    "cancer_df.head(3)\n"
   ],
   "metadata": {
    "collapsed": false,
    "ExecuteTime": {
     "end_time": "2024-08-24T15:46:22.905324Z",
     "start_time": "2024-08-24T15:46:22.879404Z"
    }
   },
   "id": "2d57abdb849ffa49",
   "execution_count": 6
  },
  {
   "cell_type": "code",
   "outputs": [
    {
     "name": "stdout",
     "output_type": "stream",
     "text": [
      "['malignant' 'benign']\n",
      "target\n",
      "1    357\n",
      "0    212\n",
      "Name: count, dtype: int64\n"
     ]
    }
   ],
   "source": [
    "print(dataset.target_names)\n",
    "print(cancer_df['target'].value_counts())"
   ],
   "metadata": {
    "collapsed": false,
    "ExecuteTime": {
     "end_time": "2024-08-24T15:46:39.113380Z",
     "start_time": "2024-08-24T15:46:39.110929Z"
    }
   },
   "id": "3728f22c70074876",
   "execution_count": 7
  },
  {
   "cell_type": "code",
   "outputs": [
    {
     "name": "stdout",
     "output_type": "stream",
     "text": [
      "(455, 30) (114, 30)\n",
      "(409, 30) (46, 30)\n"
     ]
    }
   ],
   "source": [
    "X_features = cancer_df.iloc[:, :-1]\n",
    "y_label = cancer_df.iloc[:, -1]\n",
    "\n",
    "X_train, X_test, y_train, y_test=train_test_split(X_features, y_label, test_size=0.2, random_state=156 )\n",
    "\n",
    "X_tr, X_val, y_tr, y_val= train_test_split(X_train, y_train, test_size=0.1, random_state=156 )\n",
    "\n",
    "\n",
    "print(X_train.shape , X_test.shape)\n",
    "print(X_tr.shape, X_val.shape)"
   ],
   "metadata": {
    "collapsed": false,
    "ExecuteTime": {
     "end_time": "2024-08-24T15:49:01.620748Z",
     "start_time": "2024-08-24T15:49:01.614568Z"
    }
   },
   "id": "f3b66da654f38e0d",
   "execution_count": 13
  },
  {
   "cell_type": "code",
   "outputs": [],
   "source": [
    "dtr = xgb.DMatrix(data=X_tr, label=y_tr)\n",
    "dval = xgb.DMatrix(data=X_val, label=y_val)\n",
    "dtest = xgb.DMatrix(data=X_test, label=y_test)"
   ],
   "metadata": {
    "collapsed": false,
    "ExecuteTime": {
     "end_time": "2024-08-24T15:54:36.178718Z",
     "start_time": "2024-08-24T15:54:36.158804Z"
    }
   },
   "id": "b9178de9127f165f",
   "execution_count": 18
  },
  {
   "cell_type": "code",
   "outputs": [
    {
     "name": "stdout",
     "output_type": "stream",
     "text": [
      "[0]\ttrain-logloss:0.58463\teval-logloss:0.60424\n",
      "[1]\ttrain-logloss:0.51775\teval-logloss:0.55829\n",
      "[2]\ttrain-logloss:0.46182\teval-logloss:0.51847\n",
      "[3]\ttrain-logloss:0.41249\teval-logloss:0.48347\n",
      "[4]\ttrain-logloss:0.37118\teval-logloss:0.45171\n",
      "[5]\ttrain-logloss:0.33570\teval-logloss:0.42462\n",
      "[6]\ttrain-logloss:0.30450\teval-logloss:0.40648\n",
      "[7]\ttrain-logloss:0.27745\teval-logloss:0.38853\n",
      "[8]\ttrain-logloss:0.25316\teval-logloss:0.37101\n",
      "[9]\ttrain-logloss:0.23085\teval-logloss:0.35692\n",
      "[10]\ttrain-logloss:0.21117\teval-logloss:0.34502\n",
      "[11]\ttrain-logloss:0.19436\teval-logloss:0.33490\n",
      "[12]\ttrain-logloss:0.17875\teval-logloss:0.32437\n",
      "[13]\ttrain-logloss:0.16486\teval-logloss:0.31729\n",
      "[14]\ttrain-logloss:0.15261\teval-logloss:0.31064\n",
      "[15]\ttrain-logloss:0.14143\teval-logloss:0.30495\n",
      "[16]\ttrain-logloss:0.13137\teval-logloss:0.30083\n",
      "[17]\ttrain-logloss:0.12255\teval-logloss:0.29604\n",
      "[18]\ttrain-logloss:0.11446\teval-logloss:0.29199\n",
      "[19]\ttrain-logloss:0.10729\teval-logloss:0.28952\n",
      "[20]\ttrain-logloss:0.10049\teval-logloss:0.28648\n",
      "[21]\ttrain-logloss:0.09431\teval-logloss:0.28386\n",
      "[22]\ttrain-logloss:0.08888\teval-logloss:0.28189\n",
      "[23]\ttrain-logloss:0.08386\teval-logloss:0.27946\n",
      "[24]\ttrain-logloss:0.07929\teval-logloss:0.27587\n",
      "[25]\ttrain-logloss:0.07483\teval-logloss:0.27516\n",
      "[26]\ttrain-logloss:0.07109\teval-logloss:0.27359\n",
      "[27]\ttrain-logloss:0.06763\teval-logloss:0.27122\n",
      "[28]\ttrain-logloss:0.06457\teval-logloss:0.26921\n",
      "[29]\ttrain-logloss:0.06166\teval-logloss:0.26741\n",
      "[30]\ttrain-logloss:0.05901\teval-logloss:0.26582\n",
      "[31]\ttrain-logloss:0.05612\teval-logloss:0.26529\n",
      "[32]\ttrain-logloss:0.05346\teval-logloss:0.26434\n",
      "[33]\ttrain-logloss:0.05111\teval-logloss:0.26077\n",
      "[34]\ttrain-logloss:0.04922\teval-logloss:0.26095\n",
      "[35]\ttrain-logloss:0.04716\teval-logloss:0.26125\n",
      "[36]\ttrain-logloss:0.04521\teval-logloss:0.26004\n",
      "[37]\ttrain-logloss:0.04342\teval-logloss:0.25851\n",
      "[38]\ttrain-logloss:0.04173\teval-logloss:0.25883\n",
      "[39]\ttrain-logloss:0.04030\teval-logloss:0.25975\n",
      "[40]\ttrain-logloss:0.03871\teval-logloss:0.25987\n",
      "[41]\ttrain-logloss:0.03724\teval-logloss:0.26171\n",
      "[42]\ttrain-logloss:0.03585\teval-logloss:0.26233\n",
      "[43]\ttrain-logloss:0.03462\teval-logloss:0.26052\n",
      "[44]\ttrain-logloss:0.03340\teval-logloss:0.25941\n",
      "[45]\ttrain-logloss:0.03225\teval-logloss:0.26013\n",
      "[46]\ttrain-logloss:0.03127\teval-logloss:0.25927\n",
      "[47]\ttrain-logloss:0.03025\teval-logloss:0.25843\n",
      "[48]\ttrain-logloss:0.02920\teval-logloss:0.26078\n",
      "[49]\ttrain-logloss:0.02832\teval-logloss:0.26011\n",
      "[50]\ttrain-logloss:0.02756\teval-logloss:0.26072\n",
      "[51]\ttrain-logloss:0.02677\teval-logloss:0.26017\n",
      "[52]\ttrain-logloss:0.02606\teval-logloss:0.26061\n",
      "[53]\ttrain-logloss:0.02527\teval-logloss:0.25482\n",
      "[54]\ttrain-logloss:0.02459\teval-logloss:0.25589\n",
      "[55]\ttrain-logloss:0.02391\teval-logloss:0.25510\n",
      "[56]\ttrain-logloss:0.02331\teval-logloss:0.25539\n",
      "[57]\ttrain-logloss:0.02278\teval-logloss:0.25343\n",
      "[58]\ttrain-logloss:0.02211\teval-logloss:0.25447\n",
      "[59]\ttrain-logloss:0.02160\teval-logloss:0.25501\n",
      "[60]\ttrain-logloss:0.02110\teval-logloss:0.25597\n",
      "[61]\ttrain-logloss:0.02056\teval-logloss:0.25558\n",
      "[62]\ttrain-logloss:0.02006\teval-logloss:0.25682\n",
      "[63]\ttrain-logloss:0.01956\teval-logloss:0.25223\n",
      "[64]\ttrain-logloss:0.01904\teval-logloss:0.25097\n",
      "[65]\ttrain-logloss:0.01861\teval-logloss:0.25029\n",
      "[66]\ttrain-logloss:0.01818\teval-logloss:0.25006\n",
      "[67]\ttrain-logloss:0.01790\teval-logloss:0.25038\n",
      "[68]\ttrain-logloss:0.01753\teval-logloss:0.25101\n",
      "[69]\ttrain-logloss:0.01719\teval-logloss:0.24871\n",
      "[70]\ttrain-logloss:0.01693\teval-logloss:0.24726\n",
      "[71]\ttrain-logloss:0.01656\teval-logloss:0.24660\n",
      "[72]\ttrain-logloss:0.01625\teval-logloss:0.24728\n",
      "[73]\ttrain-logloss:0.01588\teval-logloss:0.24744\n",
      "[74]\ttrain-logloss:0.01566\teval-logloss:0.24753\n",
      "[75]\ttrain-logloss:0.01538\teval-logloss:0.24722\n",
      "[76]\ttrain-logloss:0.01516\teval-logloss:0.24594\n",
      "[77]\ttrain-logloss:0.01484\teval-logloss:0.24695\n",
      "[78]\ttrain-logloss:0.01464\teval-logloss:0.24722\n",
      "[79]\ttrain-logloss:0.01440\teval-logloss:0.24693\n",
      "[80]\ttrain-logloss:0.01415\teval-logloss:0.24644\n",
      "[81]\ttrain-logloss:0.01391\teval-logloss:0.24607\n",
      "[82]\ttrain-logloss:0.01370\teval-logloss:0.24584\n",
      "[83]\ttrain-logloss:0.01342\teval-logloss:0.24760\n",
      "[84]\ttrain-logloss:0.01319\teval-logloss:0.24555\n",
      "[85]\ttrain-logloss:0.01304\teval-logloss:0.24347\n",
      "[86]\ttrain-logloss:0.01288\teval-logloss:0.24334\n",
      "[87]\ttrain-logloss:0.01269\teval-logloss:0.24350\n",
      "[88]\ttrain-logloss:0.01255\teval-logloss:0.24338\n",
      "[89]\ttrain-logloss:0.01241\teval-logloss:0.24237\n",
      "[90]\ttrain-logloss:0.01222\teval-logloss:0.24320\n",
      "[91]\ttrain-logloss:0.01204\teval-logloss:0.24124\n",
      "[92]\ttrain-logloss:0.01190\teval-logloss:0.24253\n",
      "[93]\ttrain-logloss:0.01178\teval-logloss:0.24248\n",
      "[94]\ttrain-logloss:0.01167\teval-logloss:0.24230\n",
      "[95]\ttrain-logloss:0.01151\teval-logloss:0.24055\n",
      "[96]\ttrain-logloss:0.01140\teval-logloss:0.23949\n",
      "[97]\ttrain-logloss:0.01126\teval-logloss:0.23969\n",
      "[98]\ttrain-logloss:0.01114\teval-logloss:0.23966\n",
      "[99]\ttrain-logloss:0.01104\teval-logloss:0.23794\n",
      "[100]\ttrain-logloss:0.01091\teval-logloss:0.23811\n",
      "[101]\ttrain-logloss:0.01081\teval-logloss:0.23771\n",
      "[102]\ttrain-logloss:0.01071\teval-logloss:0.23784\n",
      "[103]\ttrain-logloss:0.01057\teval-logloss:0.23805\n",
      "[104]\ttrain-logloss:0.01048\teval-logloss:0.23884\n",
      "[105]\ttrain-logloss:0.01043\teval-logloss:0.23847\n",
      "[106]\ttrain-logloss:0.01034\teval-logloss:0.23860\n",
      "[107]\ttrain-logloss:0.01023\teval-logloss:0.23881\n",
      "[108]\ttrain-logloss:0.01016\teval-logloss:0.23996\n",
      "[109]\ttrain-logloss:0.01006\teval-logloss:0.24039\n",
      "[110]\ttrain-logloss:0.01002\teval-logloss:0.24004\n",
      "[111]\ttrain-logloss:0.00994\teval-logloss:0.24017\n",
      "[112]\ttrain-logloss:0.00987\teval-logloss:0.24057\n",
      "[113]\ttrain-logloss:0.00983\teval-logloss:0.24007\n",
      "[114]\ttrain-logloss:0.00974\teval-logloss:0.24094\n",
      "[115]\ttrain-logloss:0.00966\teval-logloss:0.24052\n",
      "[116]\ttrain-logloss:0.00960\teval-logloss:0.24162\n",
      "[117]\ttrain-logloss:0.00956\teval-logloss:0.24151\n",
      "[118]\ttrain-logloss:0.00949\teval-logloss:0.24162\n",
      "[119]\ttrain-logloss:0.00940\teval-logloss:0.24182\n",
      "[120]\ttrain-logloss:0.00937\teval-logloss:0.24150\n",
      "[121]\ttrain-logloss:0.00931\teval-logloss:0.24188\n",
      "[122]\ttrain-logloss:0.00924\teval-logloss:0.24143\n",
      "[123]\ttrain-logloss:0.00921\teval-logloss:0.24141\n",
      "[124]\ttrain-logloss:0.00915\teval-logloss:0.24179\n",
      "[125]\ttrain-logloss:0.00912\teval-logloss:0.24177\n",
      "[126]\ttrain-logloss:0.00909\teval-logloss:0.24275\n",
      "[127]\ttrain-logloss:0.00906\teval-logloss:0.24244\n",
      "[128]\ttrain-logloss:0.00902\teval-logloss:0.24198\n",
      "[129]\ttrain-logloss:0.00899\teval-logloss:0.24287\n",
      "[130]\ttrain-logloss:0.00896\teval-logloss:0.24277\n",
      "[131]\ttrain-logloss:0.00887\teval-logloss:0.24116\n",
      "[132]\ttrain-logloss:0.00880\teval-logloss:0.24134\n",
      "[133]\ttrain-logloss:0.00877\teval-logloss:0.24227\n",
      "[134]\ttrain-logloss:0.00874\teval-logloss:0.24226\n",
      "[135]\ttrain-logloss:0.00871\teval-logloss:0.24196\n",
      "[136]\ttrain-logloss:0.00868\teval-logloss:0.24284\n",
      "[137]\ttrain-logloss:0.00860\teval-logloss:0.24161\n",
      "[138]\ttrain-logloss:0.00854\teval-logloss:0.24179\n",
      "[139]\ttrain-logloss:0.00851\teval-logloss:0.24135\n",
      "[140]\ttrain-logloss:0.00848\teval-logloss:0.24220\n",
      "[141]\ttrain-logloss:0.00846\teval-logloss:0.24190\n",
      "[142]\ttrain-logloss:0.00843\teval-logloss:0.24188\n",
      "[143]\ttrain-logloss:0.00840\teval-logloss:0.24278\n",
      "[144]\ttrain-logloss:0.00838\teval-logloss:0.24172\n",
      "[145]\ttrain-logloss:0.00835\teval-logloss:0.24227\n",
      "[146]\ttrain-logloss:0.00833\teval-logloss:0.24226\n",
      "[147]\ttrain-logloss:0.00830\teval-logloss:0.24309\n",
      "[148]\ttrain-logloss:0.00828\teval-logloss:0.24280\n",
      "[149]\ttrain-logloss:0.00825\teval-logloss:0.24238\n",
      "[150]\ttrain-logloss:0.00823\teval-logloss:0.24247\n",
      "[151]\ttrain-logloss:0.00821\teval-logloss:0.24137\n",
      "[152]\ttrain-logloss:0.00818\teval-logloss:0.24219\n",
      "[153]\ttrain-logloss:0.00816\teval-logloss:0.24218\n",
      "[154]\ttrain-logloss:0.00814\teval-logloss:0.24182\n",
      "[155]\ttrain-logloss:0.00811\teval-logloss:0.24190\n",
      "[156]\ttrain-logloss:0.00809\teval-logloss:0.24085\n",
      "[157]\ttrain-logloss:0.00807\teval-logloss:0.24165\n",
      "[158]\ttrain-logloss:0.00804\teval-logloss:0.24173\n",
      "[159]\ttrain-logloss:0.00802\teval-logloss:0.24074\n",
      "[160]\ttrain-logloss:0.00800\teval-logloss:0.24068\n",
      "[161]\ttrain-logloss:0.00798\teval-logloss:0.24066\n",
      "[162]\ttrain-logloss:0.00796\teval-logloss:0.24151\n",
      "[163]\ttrain-logloss:0.00793\teval-logloss:0.24124\n",
      "[164]\ttrain-logloss:0.00791\teval-logloss:0.24203\n",
      "[165]\ttrain-logloss:0.00789\teval-logloss:0.24192\n",
      "[166]\ttrain-logloss:0.00787\teval-logloss:0.24095\n",
      "[167]\ttrain-logloss:0.00785\teval-logloss:0.24115\n",
      "[168]\ttrain-logloss:0.00783\teval-logloss:0.24083\n",
      "[169]\ttrain-logloss:0.00781\teval-logloss:0.24075\n",
      "[170]\ttrain-logloss:0.00779\teval-logloss:0.24074\n"
     ]
    }
   ],
   "source": [
    "params = {\n",
    "    'max_depth':3,\n",
    "    'eta':0.1,\n",
    "    'objective':'binary:logistic',\n",
    "    'eval_metric':'logloss'\n",
    "}\n",
    "eval_list = [(dtr,'train'),(dval,'eval')] \n",
    "num_rounds = 400\n",
    "\n",
    "xgb_model = xgb.train(params = params , dtrain=dtr , num_boost_round=num_rounds , early_stopping_rounds=70, evals=eval_list )"
   ],
   "metadata": {
    "collapsed": false,
    "ExecuteTime": {
     "end_time": "2024-08-24T15:56:26.581564Z",
     "start_time": "2024-08-24T15:56:26.320689Z"
    }
   },
   "id": "4a2524b6608f5f0c",
   "execution_count": 21
  },
  {
   "cell_type": "code",
   "outputs": [
    {
     "name": "stdout",
     "output_type": "stream",
     "text": [
      "predict( ) 수행 결과값을 10개만 표시, 예측 확률 값으로 표시됨\n",
      "[0.966 0.003 0.789 0.039 0.987 1.    0.999 0.999 0.998 0.   ]\n",
      "예측값 10개만 표시: [1, 0, 1, 0, 1, 1, 1, 1, 1, 0]\n"
     ]
    }
   ],
   "source": [
    "pred_probs = xgb_model.predict(dtest)\n",
    "print('predict( ) 수행 결과값을 10개만 표시, 예측 확률 값으로 표시됨')\n",
    "print(np.round(pred_probs[:10],3))\n",
    "\n",
    "# 예측 확률이 0.5 보다 크면 1 , 그렇지 않으면 0 으로 예측값 결정하여 List 객체인 preds에 저장 \n",
    "preds = [ 1 if x > 0.5 else 0 for x in pred_probs ]\n",
    "print('예측값 10개만 표시:',preds[:10])"
   ],
   "metadata": {
    "collapsed": false,
    "ExecuteTime": {
     "end_time": "2024-08-24T15:57:12.665479Z",
     "start_time": "2024-08-24T15:57:12.662270Z"
    }
   },
   "id": "8efe7b1ed53d66a1",
   "execution_count": 22
  },
  {
   "cell_type": "code",
   "outputs": [
    {
     "data": {
      "text/plain": "array([9.6619374e-01, 2.8887417e-03, 7.8865629e-01, 3.8789354e-02,\n       9.8709303e-01, 9.9974066e-01, 9.9934727e-01, 9.9930251e-01,\n       9.9790668e-01, 2.6585336e-04, 6.1569660e-04, 3.8251138e-04,\n       9.9895811e-01, 9.9960357e-01, 9.9869698e-01, 9.9579084e-01,\n       9.9521255e-01, 9.9969161e-01, 9.9884677e-01, 9.9901593e-01,\n       1.0206529e-03, 1.7093095e-01, 4.0049537e-04, 9.9980074e-01,\n       4.2311588e-04, 7.8651774e-01, 3.5616730e-03, 5.8276311e-04,\n       9.9846208e-01, 8.0904454e-02, 9.8028022e-01, 5.9074757e-04,\n       9.8514104e-01, 9.1135973e-01, 6.5083508e-03, 2.7677204e-04,\n       9.9732673e-01, 9.9909866e-01, 1.2556122e-01, 9.9896848e-01,\n       3.8619921e-01, 9.9837399e-01, 9.9882108e-01, 9.9891293e-01,\n       9.9803990e-01, 9.2653602e-01, 3.2653239e-02, 9.9879199e-01,\n       9.9718022e-01, 9.9955183e-01, 9.9828076e-01, 9.8847400e-04,\n       9.9933159e-01, 9.9925071e-01, 9.9858057e-01, 9.9840409e-01,\n       9.9943691e-01, 9.9556929e-01, 9.9924779e-01, 5.5008519e-01,\n       9.9866784e-01, 9.5514166e-01, 1.2446045e-03, 5.4591498e-04,\n       9.9919850e-01, 9.9521565e-01, 1.5810506e-03, 9.8988378e-01,\n       9.9940515e-01, 9.9932849e-01, 9.6493785e-04, 9.9815685e-01,\n       4.6751916e-04, 9.9831367e-01, 9.9791211e-01, 4.9005327e-04,\n       9.9948752e-01, 9.9961770e-01, 9.9965155e-01, 2.6742596e-04,\n       4.2990356e-04, 9.4831598e-01, 9.9859720e-01, 9.9935526e-01,\n       9.9803704e-01, 9.9122357e-01, 9.9416614e-01, 9.9854761e-01,\n       9.9022549e-01, 4.1897019e-04, 9.6925773e-02, 9.9957341e-01,\n       2.5450967e-03, 2.1126743e-03, 9.9940836e-01, 1.5139968e-02,\n       1.4031510e-02, 9.9770230e-01, 7.6230231e-04, 8.4648955e-01,\n       4.1963439e-03, 1.0297549e-03, 9.9669611e-01, 9.9830818e-01,\n       3.7984157e-01, 9.9835819e-01, 9.9783140e-01, 9.8210353e-01,\n       9.9846208e-01, 9.9964797e-01, 7.3304051e-01, 9.9387264e-01,\n       9.9838316e-01, 9.9889719e-01], dtype=float32)"
     },
     "execution_count": 23,
     "metadata": {},
     "output_type": "execute_result"
    }
   ],
   "source": [
    "pred_probs"
   ],
   "metadata": {
    "collapsed": false,
    "ExecuteTime": {
     "end_time": "2024-08-24T15:57:52.369323Z",
     "start_time": "2024-08-24T15:57:52.366401Z"
    }
   },
   "id": "44b9c6ebeb196888",
   "execution_count": 23
  },
  {
   "cell_type": "code",
   "outputs": [],
   "source": [
    "from sklearn.metrics import confusion_matrix, accuracy_score\n",
    "from sklearn.metrics import precision_score, recall_score\n",
    "from sklearn.metrics import f1_score, roc_auc_score\n",
    "\n",
    "def get_clf_eval(y_test, pred=None, pred_proba=None):\n",
    "    confusion = confusion_matrix( y_test, pred)\n",
    "    accuracy = accuracy_score(y_test , pred)\n",
    "    precision = precision_score(y_test , pred)\n",
    "    recall = recall_score(y_test , pred)\n",
    "    f1 = f1_score(y_test,pred)\n",
    "    # ROC-AUC 추가 \n",
    "    roc_auc = roc_auc_score(y_test, pred_proba)\n",
    "    print('오차 행렬')\n",
    "    print(confusion)\n",
    "    # ROC-AUC print 추가\n",
    "    print('정확도: {0:.4f}, 정밀도: {1:.4f}, 재현율: {2:.4f},\\\n",
    "    F1: {3:.4f}, AUC:{4:.4f}'.format(accuracy, precision, recall, f1, roc_auc))"
   ],
   "metadata": {
    "collapsed": false,
    "ExecuteTime": {
     "end_time": "2024-08-24T15:58:04.250184Z",
     "start_time": "2024-08-24T15:58:04.247273Z"
    }
   },
   "id": "8a87db0b7bc40cb6",
   "execution_count": 24
  },
  {
   "cell_type": "code",
   "outputs": [
    {
     "name": "stdout",
     "output_type": "stream",
     "text": [
      "오차 행렬\n",
      "[[35  2]\n",
      " [ 2 75]]\n",
      "정확도: 0.9649, 정밀도: 0.9740, 재현율: 0.9740,    F1: 0.9740, AUC:0.9968\n"
     ]
    }
   ],
   "source": [
    "get_clf_eval(y_test , preds, pred_probs)"
   ],
   "metadata": {
    "collapsed": false,
    "ExecuteTime": {
     "end_time": "2024-08-24T15:58:12.065200Z",
     "start_time": "2024-08-24T15:58:12.056442Z"
    }
   },
   "id": "5f391216982489ec",
   "execution_count": 25
  },
  {
   "cell_type": "markdown",
   "source": [
    "### Feature Importance 시각화"
   ],
   "metadata": {
    "collapsed": false
   },
   "id": "fa367255c6b5ed5d"
  },
  {
   "cell_type": "code",
   "outputs": [
    {
     "data": {
      "text/plain": "<Axes: title={'center': 'Feature importance'}, xlabel='F score', ylabel='Features'>"
     },
     "execution_count": 26,
     "metadata": {},
     "output_type": "execute_result"
    },
    {
     "data": {
      "text/plain": "<Figure size 1000x1200 with 1 Axes>",
      "image/png": "[encoded data removed]"
     },
     "metadata": {},
     "output_type": "display_data"
    }
   ],
   "source": [
    "import matplotlib.pyplot as plt\n",
    "%matplotlib inline\n",
    "\n",
    "fig, ax = plt.subplots(figsize=(10, 12))\n",
    "plot_importance(xgb_model, ax=ax)"
   ],
   "metadata": {
    "collapsed": false,
    "ExecuteTime": {
     "end_time": "2024-08-24T15:58:38.427034Z",
     "start_time": "2024-08-24T15:58:38.101141Z"
    }
   },
   "id": "f6fbba9b9a6c99b4",
   "execution_count": 26
  },
  {
   "cell_type": "code",
   "outputs": [],
   "source": [
    "from xgboost import XGBClassifier\n",
    "\n",
    "xgb_wrapper = XGBClassifier(n_estimators=400, learning_rate=0.05, max_depth=3)\n",
    "xgb_wrapper.fit(X_train, y_train, verbose=True)\n",
    "w_preds = xgb_wrapper.predict(X_test)\n",
    "w_pred_proba = xgb_wrapper.predict_proba(X_test)[:, 1]"
   ],
   "metadata": {
    "collapsed": false,
    "ExecuteTime": {
     "end_time": "2024-08-24T16:05:41.352502Z",
     "start_time": "2024-08-24T16:05:41.349907Z"
    }
   },
   "id": "d9e9d4f88ef9308e",
   "execution_count": 33
  },
  {
   "cell_type": "code",
   "outputs": [
    {
     "name": "stdout",
     "output_type": "stream",
     "text": [
      "오차 행렬\n",
      "[[35  2]\n",
      " [ 1 76]]\n",
      "정확도: 0.9737, 정밀도: 0.9744, 재현율: 0.9870,    F1: 0.9806, AUC:0.9954\n"
     ]
    }
   ],
   "source": [
    "get_clf_eval(y_test , w_preds, w_pred_proba)"
   ],
   "metadata": {
    "collapsed": false,
    "ExecuteTime": {
     "end_time": "2024-08-24T16:05:41.774221Z",
     "start_time": "2024-08-24T16:05:41.762519Z"
    }
   },
   "id": "becc253e42a2e78e",
   "execution_count": 34
  },
  {
   "cell_type": "code",
   "outputs": [
    {
     "name": "stdout",
     "output_type": "stream",
     "text": [
      "[0]\tvalidation_0-logloss:0.62480\tvalidation_1-logloss:0.63104\n",
      "[1]\tvalidation_0-logloss:0.58674\tvalidation_1-logloss:0.60478\n",
      "[2]\tvalidation_0-logloss:0.55226\tvalidation_1-logloss:0.58223\n",
      "[3]\tvalidation_0-logloss:0.52086\tvalidation_1-logloss:0.56184\n",
      "[4]\tvalidation_0-logloss:0.49192\tvalidation_1-logloss:0.54118\n",
      "[5]\tvalidation_0-logloss:0.46537\tvalidation_1-logloss:0.52223\n",
      "[6]\tvalidation_0-logloss:0.44029\tvalidation_1-logloss:0.50287\n",
      "[7]\tvalidation_0-logloss:0.41666\tvalidation_1-logloss:0.48620\n",
      "[8]\tvalidation_0-logloss:0.39525\tvalidation_1-logloss:0.46974\n",
      "[9]\tvalidation_0-logloss:0.37542\tvalidation_1-logloss:0.45497\n",
      "[10]\tvalidation_0-logloss:0.35701\tvalidation_1-logloss:0.44131\n",
      "[11]\tvalidation_0-logloss:0.33982\tvalidation_1-logloss:0.43134\n",
      "[12]\tvalidation_0-logloss:0.32297\tvalidation_1-logloss:0.41972\n",
      "[13]\tvalidation_0-logloss:0.30725\tvalidation_1-logloss:0.40902\n",
      "[14]\tvalidation_0-logloss:0.29327\tvalidation_1-logloss:0.39883\n",
      "[15]\tvalidation_0-logloss:0.27946\tvalidation_1-logloss:0.38968\n",
      "[16]\tvalidation_0-logloss:0.26691\tvalidation_1-logloss:0.38150\n",
      "[17]\tvalidation_0-logloss:0.25473\tvalidation_1-logloss:0.37368\n",
      "[18]\tvalidation_0-logloss:0.24385\tvalidation_1-logloss:0.36666\n",
      "[19]\tvalidation_0-logloss:0.23338\tvalidation_1-logloss:0.35994\n",
      "[20]\tvalidation_0-logloss:0.22320\tvalidation_1-logloss:0.35374\n",
      "[21]\tvalidation_0-logloss:0.21363\tvalidation_1-logloss:0.34704\n",
      "[22]\tvalidation_0-logloss:0.20487\tvalidation_1-logloss:0.34206\n",
      "[23]\tvalidation_0-logloss:0.19634\tvalidation_1-logloss:0.33621\n",
      "[24]\tvalidation_0-logloss:0.18830\tvalidation_1-logloss:0.33178\n",
      "[25]\tvalidation_0-logloss:0.18093\tvalidation_1-logloss:0.32774\n",
      "[26]\tvalidation_0-logloss:0.17374\tvalidation_1-logloss:0.32297\n",
      "[27]\tvalidation_0-logloss:0.16695\tvalidation_1-logloss:0.31855\n",
      "[28]\tvalidation_0-logloss:0.16059\tvalidation_1-logloss:0.31495\n",
      "[29]\tvalidation_0-logloss:0.15450\tvalidation_1-logloss:0.31173\n",
      "[30]\tvalidation_0-logloss:0.14875\tvalidation_1-logloss:0.30735\n",
      "[31]\tvalidation_0-logloss:0.14329\tvalidation_1-logloss:0.30463\n",
      "[32]\tvalidation_0-logloss:0.13807\tvalidation_1-logloss:0.30242\n",
      "[33]\tvalidation_0-logloss:0.13325\tvalidation_1-logloss:0.29922\n",
      "[34]\tvalidation_0-logloss:0.12864\tvalidation_1-logloss:0.29722\n",
      "[35]\tvalidation_0-logloss:0.12429\tvalidation_1-logloss:0.29540\n",
      "[36]\tvalidation_0-logloss:0.12000\tvalidation_1-logloss:0.29300\n",
      "[37]\tvalidation_0-logloss:0.11581\tvalidation_1-logloss:0.29010\n",
      "[38]\tvalidation_0-logloss:0.11210\tvalidation_1-logloss:0.28883\n",
      "[39]\tvalidation_0-logloss:0.10838\tvalidation_1-logloss:0.28769\n",
      "[40]\tvalidation_0-logloss:0.10481\tvalidation_1-logloss:0.28574\n",
      "[41]\tvalidation_0-logloss:0.10160\tvalidation_1-logloss:0.28434\n",
      "[42]\tvalidation_0-logloss:0.09832\tvalidation_1-logloss:0.28226\n",
      "[43]\tvalidation_0-logloss:0.09534\tvalidation_1-logloss:0.28006\n",
      "[44]\tvalidation_0-logloss:0.09249\tvalidation_1-logloss:0.27854\n",
      "[45]\tvalidation_0-logloss:0.08972\tvalidation_1-logloss:0.27747\n",
      "[46]\tvalidation_0-logloss:0.08700\tvalidation_1-logloss:0.27654\n",
      "[47]\tvalidation_0-logloss:0.08461\tvalidation_1-logloss:0.27598\n",
      "[48]\tvalidation_0-logloss:0.08225\tvalidation_1-logloss:0.27415\n",
      "[49]\tvalidation_0-logloss:0.08001\tvalidation_1-logloss:0.27245\n",
      "[50]\tvalidation_0-logloss:0.07784\tvalidation_1-logloss:0.27104\n",
      "[51]\tvalidation_0-logloss:0.07578\tvalidation_1-logloss:0.26958\n",
      "[52]\tvalidation_0-logloss:0.07384\tvalidation_1-logloss:0.26869\n",
      "[53]\tvalidation_0-logloss:0.07196\tvalidation_1-logloss:0.26760\n",
      "[54]\tvalidation_0-logloss:0.07021\tvalidation_1-logloss:0.26661\n",
      "[55]\tvalidation_0-logloss:0.06833\tvalidation_1-logloss:0.26680\n",
      "[56]\tvalidation_0-logloss:0.06671\tvalidation_1-logloss:0.26517\n",
      "[57]\tvalidation_0-logloss:0.06519\tvalidation_1-logloss:0.26412\n",
      "[58]\tvalidation_0-logloss:0.06368\tvalidation_1-logloss:0.26444\n",
      "[59]\tvalidation_0-logloss:0.06202\tvalidation_1-logloss:0.26434\n",
      "[60]\tvalidation_0-logloss:0.06048\tvalidation_1-logloss:0.26208\n",
      "[61]\tvalidation_0-logloss:0.05898\tvalidation_1-logloss:0.26139\n",
      "[62]\tvalidation_0-logloss:0.05756\tvalidation_1-logloss:0.26155\n",
      "[63]\tvalidation_0-logloss:0.05614\tvalidation_1-logloss:0.26114\n",
      "[64]\tvalidation_0-logloss:0.05486\tvalidation_1-logloss:0.25973\n",
      "[65]\tvalidation_0-logloss:0.05372\tvalidation_1-logloss:0.25878\n",
      "[66]\tvalidation_0-logloss:0.05263\tvalidation_1-logloss:0.25758\n",
      "[67]\tvalidation_0-logloss:0.05140\tvalidation_1-logloss:0.25664\n",
      "[68]\tvalidation_0-logloss:0.05019\tvalidation_1-logloss:0.25625\n",
      "[69]\tvalidation_0-logloss:0.04910\tvalidation_1-logloss:0.25593\n",
      "[70]\tvalidation_0-logloss:0.04806\tvalidation_1-logloss:0.25438\n",
      "[71]\tvalidation_0-logloss:0.04704\tvalidation_1-logloss:0.25373\n",
      "[72]\tvalidation_0-logloss:0.04606\tvalidation_1-logloss:0.25411\n",
      "[73]\tvalidation_0-logloss:0.04514\tvalidation_1-logloss:0.25316\n",
      "[74]\tvalidation_0-logloss:0.04435\tvalidation_1-logloss:0.25248\n",
      "[75]\tvalidation_0-logloss:0.04347\tvalidation_1-logloss:0.25271\n",
      "[76]\tvalidation_0-logloss:0.04260\tvalidation_1-logloss:0.25282\n",
      "[77]\tvalidation_0-logloss:0.04178\tvalidation_1-logloss:0.25165\n",
      "[78]\tvalidation_0-logloss:0.04099\tvalidation_1-logloss:0.25181\n",
      "[79]\tvalidation_0-logloss:0.04022\tvalidation_1-logloss:0.25210\n",
      "[80]\tvalidation_0-logloss:0.03942\tvalidation_1-logloss:0.25194\n",
      "[81]\tvalidation_0-logloss:0.03875\tvalidation_1-logloss:0.25254\n",
      "[82]\tvalidation_0-logloss:0.03799\tvalidation_1-logloss:0.25264\n",
      "[83]\tvalidation_0-logloss:0.03727\tvalidation_1-logloss:0.25280\n",
      "[84]\tvalidation_0-logloss:0.03657\tvalidation_1-logloss:0.25281\n",
      "[85]\tvalidation_0-logloss:0.03586\tvalidation_1-logloss:0.25219\n",
      "[86]\tvalidation_0-logloss:0.03530\tvalidation_1-logloss:0.25288\n",
      "[87]\tvalidation_0-logloss:0.03464\tvalidation_1-logloss:0.25226\n",
      "[88]\tvalidation_0-logloss:0.03401\tvalidation_1-logloss:0.25167\n",
      "[89]\tvalidation_0-logloss:0.03347\tvalidation_1-logloss:0.25258\n",
      "[90]\tvalidation_0-logloss:0.03297\tvalidation_1-logloss:0.25331\n",
      "[91]\tvalidation_0-logloss:0.03240\tvalidation_1-logloss:0.25373\n",
      "[92]\tvalidation_0-logloss:0.03184\tvalidation_1-logloss:0.25323\n",
      "[93]\tvalidation_0-logloss:0.03136\tvalidation_1-logloss:0.25240\n",
      "[94]\tvalidation_0-logloss:0.03086\tvalidation_1-logloss:0.25324\n",
      "[95]\tvalidation_0-logloss:0.03035\tvalidation_1-logloss:0.25280\n",
      "[96]\tvalidation_0-logloss:0.02985\tvalidation_1-logloss:0.25215\n",
      "[97]\tvalidation_0-logloss:0.02937\tvalidation_1-logloss:0.25179\n",
      "[98]\tvalidation_0-logloss:0.02892\tvalidation_1-logloss:0.25143\n",
      "[99]\tvalidation_0-logloss:0.02853\tvalidation_1-logloss:0.25180\n",
      "[100]\tvalidation_0-logloss:0.02810\tvalidation_1-logloss:0.25151\n",
      "[101]\tvalidation_0-logloss:0.02769\tvalidation_1-logloss:0.25158\n",
      "[102]\tvalidation_0-logloss:0.02729\tvalidation_1-logloss:0.25130\n",
      "[103]\tvalidation_0-logloss:0.02689\tvalidation_1-logloss:0.25094\n",
      "[104]\tvalidation_0-logloss:0.02654\tvalidation_1-logloss:0.25054\n",
      "[105]\tvalidation_0-logloss:0.02617\tvalidation_1-logloss:0.25030\n",
      "[106]\tvalidation_0-logloss:0.02580\tvalidation_1-logloss:0.24850\n",
      "[107]\tvalidation_0-logloss:0.02545\tvalidation_1-logloss:0.24829\n",
      "[108]\tvalidation_0-logloss:0.02509\tvalidation_1-logloss:0.24828\n",
      "[109]\tvalidation_0-logloss:0.02475\tvalidation_1-logloss:0.24881\n",
      "[110]\tvalidation_0-logloss:0.02443\tvalidation_1-logloss:0.24912\n",
      "[111]\tvalidation_0-logloss:0.02405\tvalidation_1-logloss:0.24791\n",
      "[112]\tvalidation_0-logloss:0.02374\tvalidation_1-logloss:0.24846\n",
      "[113]\tvalidation_0-logloss:0.02341\tvalidation_1-logloss:0.24931\n",
      "[114]\tvalidation_0-logloss:0.02314\tvalidation_1-logloss:0.24832\n",
      "[115]\tvalidation_0-logloss:0.02286\tvalidation_1-logloss:0.24889\n",
      "[116]\tvalidation_0-logloss:0.02255\tvalidation_1-logloss:0.24866\n",
      "[117]\tvalidation_0-logloss:0.02227\tvalidation_1-logloss:0.24925\n",
      "[118]\tvalidation_0-logloss:0.02197\tvalidation_1-logloss:0.24679\n",
      "[119]\tvalidation_0-logloss:0.02172\tvalidation_1-logloss:0.24787\n",
      "[120]\tvalidation_0-logloss:0.02141\tvalidation_1-logloss:0.24846\n",
      "[121]\tvalidation_0-logloss:0.02112\tvalidation_1-logloss:0.24683\n",
      "[122]\tvalidation_0-logloss:0.02088\tvalidation_1-logloss:0.24650\n",
      "[123]\tvalidation_0-logloss:0.02061\tvalidation_1-logloss:0.24497\n",
      "[124]\tvalidation_0-logloss:0.02037\tvalidation_1-logloss:0.24529\n",
      "[125]\tvalidation_0-logloss:0.02012\tvalidation_1-logloss:0.24516\n",
      "[126]\tvalidation_0-logloss:0.01987\tvalidation_1-logloss:0.24576\n",
      "[127]\tvalidation_0-logloss:0.01967\tvalidation_1-logloss:0.24576\n",
      "[128]\tvalidation_0-logloss:0.01943\tvalidation_1-logloss:0.24563\n",
      "[129]\tvalidation_0-logloss:0.01922\tvalidation_1-logloss:0.24533\n",
      "[130]\tvalidation_0-logloss:0.01900\tvalidation_1-logloss:0.24591\n",
      "[131]\tvalidation_0-logloss:0.01881\tvalidation_1-logloss:0.24593\n",
      "[132]\tvalidation_0-logloss:0.01858\tvalidation_1-logloss:0.24582\n",
      "[133]\tvalidation_0-logloss:0.01839\tvalidation_1-logloss:0.24619\n",
      "[134]\tvalidation_0-logloss:0.01824\tvalidation_1-logloss:0.24631\n",
      "[135]\tvalidation_0-logloss:0.01805\tvalidation_1-logloss:0.24669\n",
      "[136]\tvalidation_0-logloss:0.01785\tvalidation_1-logloss:0.24660\n",
      "[137]\tvalidation_0-logloss:0.01770\tvalidation_1-logloss:0.24584\n",
      "[138]\tvalidation_0-logloss:0.01753\tvalidation_1-logloss:0.24465\n",
      "[139]\tvalidation_0-logloss:0.01734\tvalidation_1-logloss:0.24458\n",
      "[140]\tvalidation_0-logloss:0.01720\tvalidation_1-logloss:0.24385\n",
      "[141]\tvalidation_0-logloss:0.01703\tvalidation_1-logloss:0.24422\n",
      "[142]\tvalidation_0-logloss:0.01690\tvalidation_1-logloss:0.24423\n",
      "[143]\tvalidation_0-logloss:0.01673\tvalidation_1-logloss:0.24408\n",
      "[144]\tvalidation_0-logloss:0.01655\tvalidation_1-logloss:0.24381\n",
      "[145]\tvalidation_0-logloss:0.01641\tvalidation_1-logloss:0.24311\n",
      "[146]\tvalidation_0-logloss:0.01629\tvalidation_1-logloss:0.24322\n",
      "[147]\tvalidation_0-logloss:0.01614\tvalidation_1-logloss:0.24360\n",
      "[148]\tvalidation_0-logloss:0.01597\tvalidation_1-logloss:0.24328\n",
      "[149]\tvalidation_0-logloss:0.01582\tvalidation_1-logloss:0.24314\n",
      "[150]\tvalidation_0-logloss:0.01571\tvalidation_1-logloss:0.24315\n",
      "[151]\tvalidation_0-logloss:0.01556\tvalidation_1-logloss:0.24289\n",
      "[152]\tvalidation_0-logloss:0.01537\tvalidation_1-logloss:0.24363\n",
      "[153]\tvalidation_0-logloss:0.01523\tvalidation_1-logloss:0.24404\n",
      "[154]\tvalidation_0-logloss:0.01510\tvalidation_1-logloss:0.24383\n",
      "[155]\tvalidation_0-logloss:0.01493\tvalidation_1-logloss:0.24435\n",
      "[156]\tvalidation_0-logloss:0.01478\tvalidation_1-logloss:0.24425\n",
      "[157]\tvalidation_0-logloss:0.01467\tvalidation_1-logloss:0.24361\n",
      "[158]\tvalidation_0-logloss:0.01455\tvalidation_1-logloss:0.24294\n",
      "[159]\tvalidation_0-logloss:0.01440\tvalidation_1-logloss:0.24340\n",
      "[160]\tvalidation_0-logloss:0.01428\tvalidation_1-logloss:0.24323\n",
      "[161]\tvalidation_0-logloss:0.01417\tvalidation_1-logloss:0.24310\n",
      "[162]\tvalidation_0-logloss:0.01409\tvalidation_1-logloss:0.24247\n",
      "[163]\tvalidation_0-logloss:0.01393\tvalidation_1-logloss:0.24311\n",
      "[164]\tvalidation_0-logloss:0.01380\tvalidation_1-logloss:0.24269\n",
      "[165]\tvalidation_0-logloss:0.01368\tvalidation_1-logloss:0.24268\n",
      "[166]\tvalidation_0-logloss:0.01360\tvalidation_1-logloss:0.24242\n",
      "[167]\tvalidation_0-logloss:0.01345\tvalidation_1-logloss:0.24306\n",
      "[168]\tvalidation_0-logloss:0.01335\tvalidation_1-logloss:0.24220\n",
      "[169]\tvalidation_0-logloss:0.01328\tvalidation_1-logloss:0.24116\n",
      "[170]\tvalidation_0-logloss:0.01317\tvalidation_1-logloss:0.24117\n",
      "[171]\tvalidation_0-logloss:0.01308\tvalidation_1-logloss:0.24126\n",
      "[172]\tvalidation_0-logloss:0.01299\tvalidation_1-logloss:0.24046\n",
      "[173]\tvalidation_0-logloss:0.01292\tvalidation_1-logloss:0.23993\n",
      "[174]\tvalidation_0-logloss:0.01284\tvalidation_1-logloss:0.23985\n",
      "[175]\tvalidation_0-logloss:0.01275\tvalidation_1-logloss:0.23994\n",
      "[176]\tvalidation_0-logloss:0.01268\tvalidation_1-logloss:0.23986\n",
      "[177]\tvalidation_0-logloss:0.01260\tvalidation_1-logloss:0.23996\n",
      "[178]\tvalidation_0-logloss:0.01253\tvalidation_1-logloss:0.23943\n",
      "[179]\tvalidation_0-logloss:0.01243\tvalidation_1-logloss:0.23847\n",
      "[180]\tvalidation_0-logloss:0.01236\tvalidation_1-logloss:0.23842\n",
      "[181]\tvalidation_0-logloss:0.01226\tvalidation_1-logloss:0.23885\n",
      "[182]\tvalidation_0-logloss:0.01220\tvalidation_1-logloss:0.23828\n",
      "[183]\tvalidation_0-logloss:0.01214\tvalidation_1-logloss:0.23892\n",
      "[184]\tvalidation_0-logloss:0.01205\tvalidation_1-logloss:0.23804\n",
      "[185]\tvalidation_0-logloss:0.01198\tvalidation_1-logloss:0.23799\n",
      "[186]\tvalidation_0-logloss:0.01191\tvalidation_1-logloss:0.23809\n",
      "[187]\tvalidation_0-logloss:0.01185\tvalidation_1-logloss:0.23752\n",
      "[188]\tvalidation_0-logloss:0.01176\tvalidation_1-logloss:0.23662\n",
      "[189]\tvalidation_0-logloss:0.01170\tvalidation_1-logloss:0.23659\n",
      "[190]\tvalidation_0-logloss:0.01163\tvalidation_1-logloss:0.23668\n",
      "[191]\tvalidation_0-logloss:0.01157\tvalidation_1-logloss:0.23732\n",
      "[192]\tvalidation_0-logloss:0.01152\tvalidation_1-logloss:0.23726\n",
      "[193]\tvalidation_0-logloss:0.01146\tvalidation_1-logloss:0.23722\n",
      "[194]\tvalidation_0-logloss:0.01141\tvalidation_1-logloss:0.23715\n",
      "[195]\tvalidation_0-logloss:0.01136\tvalidation_1-logloss:0.23661\n",
      "[196]\tvalidation_0-logloss:0.01128\tvalidation_1-logloss:0.23673\n",
      "[197]\tvalidation_0-logloss:0.01126\tvalidation_1-logloss:0.23651\n",
      "[198]\tvalidation_0-logloss:0.01120\tvalidation_1-logloss:0.23628\n",
      "[199]\tvalidation_0-logloss:0.01113\tvalidation_1-logloss:0.23641\n",
      "[200]\tvalidation_0-logloss:0.01108\tvalidation_1-logloss:0.23554\n",
      "[201]\tvalidation_0-logloss:0.01103\tvalidation_1-logloss:0.23533\n",
      "[202]\tvalidation_0-logloss:0.01097\tvalidation_1-logloss:0.23543\n",
      "[203]\tvalidation_0-logloss:0.01091\tvalidation_1-logloss:0.23546\n",
      "[204]\tvalidation_0-logloss:0.01086\tvalidation_1-logloss:0.23588\n",
      "[205]\tvalidation_0-logloss:0.01079\tvalidation_1-logloss:0.23600\n",
      "[206]\tvalidation_0-logloss:0.01074\tvalidation_1-logloss:0.23578\n",
      "[207]\tvalidation_0-logloss:0.01069\tvalidation_1-logloss:0.23597\n",
      "[208]\tvalidation_0-logloss:0.01064\tvalidation_1-logloss:0.23601\n",
      "[209]\tvalidation_0-logloss:0.01058\tvalidation_1-logloss:0.23613\n",
      "[210]\tvalidation_0-logloss:0.01054\tvalidation_1-logloss:0.23592\n",
      "[211]\tvalidation_0-logloss:0.01047\tvalidation_1-logloss:0.23605\n",
      "[212]\tvalidation_0-logloss:0.01045\tvalidation_1-logloss:0.23586\n",
      "[213]\tvalidation_0-logloss:0.01041\tvalidation_1-logloss:0.23626\n",
      "[214]\tvalidation_0-logloss:0.01036\tvalidation_1-logloss:0.23646\n",
      "[215]\tvalidation_0-logloss:0.01031\tvalidation_1-logloss:0.23649\n",
      "[216]\tvalidation_0-logloss:0.01026\tvalidation_1-logloss:0.23697\n",
      "[217]\tvalidation_0-logloss:0.01024\tvalidation_1-logloss:0.23679\n",
      "[218]\tvalidation_0-logloss:0.01019\tvalidation_1-logloss:0.23689\n",
      "[219]\tvalidation_0-logloss:0.01014\tvalidation_1-logloss:0.23693\n",
      "[220]\tvalidation_0-logloss:0.01011\tvalidation_1-logloss:0.23714\n",
      "[221]\tvalidation_0-logloss:0.01006\tvalidation_1-logloss:0.23732\n",
      "[222]\tvalidation_0-logloss:0.01004\tvalidation_1-logloss:0.23714\n",
      "[223]\tvalidation_0-logloss:0.01001\tvalidation_1-logloss:0.23736\n",
      "[224]\tvalidation_0-logloss:0.00999\tvalidation_1-logloss:0.23711\n",
      "[225]\tvalidation_0-logloss:0.00997\tvalidation_1-logloss:0.23703\n",
      "[226]\tvalidation_0-logloss:0.00994\tvalidation_1-logloss:0.23757\n",
      "[227]\tvalidation_0-logloss:0.00992\tvalidation_1-logloss:0.23740\n",
      "[228]\tvalidation_0-logloss:0.00986\tvalidation_1-logloss:0.23673\n",
      "[229]\tvalidation_0-logloss:0.00984\tvalidation_1-logloss:0.23649\n",
      "[230]\tvalidation_0-logloss:0.00981\tvalidation_1-logloss:0.23670\n",
      "[231]\tvalidation_0-logloss:0.00979\tvalidation_1-logloss:0.23653\n",
      "[232]\tvalidation_0-logloss:0.00975\tvalidation_1-logloss:0.23671\n",
      "[233]\tvalidation_0-logloss:0.00971\tvalidation_1-logloss:0.23674\n",
      "[234]\tvalidation_0-logloss:0.00968\tvalidation_1-logloss:0.23696\n",
      "[235]\tvalidation_0-logloss:0.00966\tvalidation_1-logloss:0.23673\n",
      "[236]\tvalidation_0-logloss:0.00964\tvalidation_1-logloss:0.23656\n",
      "[237]\tvalidation_0-logloss:0.00961\tvalidation_1-logloss:0.23708\n",
      "[238]\tvalidation_0-logloss:0.00957\tvalidation_1-logloss:0.23764\n",
      "[239]\tvalidation_0-logloss:0.00954\tvalidation_1-logloss:0.23766\n",
      "[240]\tvalidation_0-logloss:0.00949\tvalidation_1-logloss:0.23778\n",
      "[241]\tvalidation_0-logloss:0.00948\tvalidation_1-logloss:0.23775\n",
      "[242]\tvalidation_0-logloss:0.00945\tvalidation_1-logloss:0.23796\n",
      "[243]\tvalidation_0-logloss:0.00943\tvalidation_1-logloss:0.23780\n",
      "[244]\tvalidation_0-logloss:0.00941\tvalidation_1-logloss:0.23827\n",
      "[245]\tvalidation_0-logloss:0.00940\tvalidation_1-logloss:0.23819\n",
      "[246]\tvalidation_0-logloss:0.00937\tvalidation_1-logloss:0.23840\n",
      "[247]\tvalidation_0-logloss:0.00935\tvalidation_1-logloss:0.23838\n",
      "[248]\tvalidation_0-logloss:0.00933\tvalidation_1-logloss:0.23821\n",
      "[249]\tvalidation_0-logloss:0.00931\tvalidation_1-logloss:0.23872\n",
      "[250]\tvalidation_0-logloss:0.00925\tvalidation_1-logloss:0.23805\n",
      "[251]\tvalidation_0-logloss:0.00924\tvalidation_1-logloss:0.23783\n",
      "[252]\tvalidation_0-logloss:0.00920\tvalidation_1-logloss:0.23757\n",
      "[253]\tvalidation_0-logloss:0.00918\tvalidation_1-logloss:0.23750\n",
      "[254]\tvalidation_0-logloss:0.00915\tvalidation_1-logloss:0.23794\n",
      "[255]\tvalidation_0-logloss:0.00911\tvalidation_1-logloss:0.23847\n",
      "[256]\tvalidation_0-logloss:0.00908\tvalidation_1-logloss:0.23850\n",
      "[257]\tvalidation_0-logloss:0.00906\tvalidation_1-logloss:0.23894\n",
      "[258]\tvalidation_0-logloss:0.00905\tvalidation_1-logloss:0.23878\n",
      "[259]\tvalidation_0-logloss:0.00903\tvalidation_1-logloss:0.23876\n",
      "[260]\tvalidation_0-logloss:0.00900\tvalidation_1-logloss:0.23886\n",
      "[261]\tvalidation_0-logloss:0.00898\tvalidation_1-logloss:0.23931\n",
      "[262]\tvalidation_0-logloss:0.00897\tvalidation_1-logloss:0.23910\n",
      "[263]\tvalidation_0-logloss:0.00895\tvalidation_1-logloss:0.23953\n",
      "[264]\tvalidation_0-logloss:0.00894\tvalidation_1-logloss:0.23937\n",
      "[265]\tvalidation_0-logloss:0.00892\tvalidation_1-logloss:0.23935\n",
      "[266]\tvalidation_0-logloss:0.00889\tvalidation_1-logloss:0.23978\n",
      "[267]\tvalidation_0-logloss:0.00887\tvalidation_1-logloss:0.24022\n",
      "[268]\tvalidation_0-logloss:0.00886\tvalidation_1-logloss:0.24006\n",
      "[269]\tvalidation_0-logloss:0.00884\tvalidation_1-logloss:0.23984\n",
      "[270]\tvalidation_0-logloss:0.00883\tvalidation_1-logloss:0.24028\n",
      "[271]\tvalidation_0-logloss:0.00881\tvalidation_1-logloss:0.24013\n",
      "[272]\tvalidation_0-logloss:0.00880\tvalidation_1-logloss:0.24056\n",
      "[273]\tvalidation_0-logloss:0.00879\tvalidation_1-logloss:0.24048\n",
      "[274]\tvalidation_0-logloss:0.00875\tvalidation_1-logloss:0.24058\n",
      "[275]\tvalidation_0-logloss:0.00874\tvalidation_1-logloss:0.24056\n",
      "[276]\tvalidation_0-logloss:0.00869\tvalidation_1-logloss:0.23980\n",
      "[277]\tvalidation_0-logloss:0.00868\tvalidation_1-logloss:0.24023\n",
      "[278]\tvalidation_0-logloss:0.00867\tvalidation_1-logloss:0.24002\n",
      "[279]\tvalidation_0-logloss:0.00865\tvalidation_1-logloss:0.23987\n",
      "[280]\tvalidation_0-logloss:0.00862\tvalidation_1-logloss:0.23997\n",
      "[281]\tvalidation_0-logloss:0.00861\tvalidation_1-logloss:0.24040\n",
      "[282]\tvalidation_0-logloss:0.00859\tvalidation_1-logloss:0.24038\n",
      "[283]\tvalidation_0-logloss:0.00858\tvalidation_1-logloss:0.24019\n",
      "[284]\tvalidation_0-logloss:0.00857\tvalidation_1-logloss:0.24061\n",
      "[285]\tvalidation_0-logloss:0.00856\tvalidation_1-logloss:0.24065\n",
      "[286]\tvalidation_0-logloss:0.00852\tvalidation_1-logloss:0.23993\n",
      "[287]\tvalidation_0-logloss:0.00851\tvalidation_1-logloss:0.23990\n",
      "[288]\tvalidation_0-logloss:0.00849\tvalidation_1-logloss:0.23972\n",
      "[289]\tvalidation_0-logloss:0.00848\tvalidation_1-logloss:0.24002\n",
      "[290]\tvalidation_0-logloss:0.00847\tvalidation_1-logloss:0.23982\n",
      "[291]\tvalidation_0-logloss:0.00845\tvalidation_1-logloss:0.23966\n",
      "[292]\tvalidation_0-logloss:0.00844\tvalidation_1-logloss:0.24008\n",
      "[293]\tvalidation_0-logloss:0.00843\tvalidation_1-logloss:0.23954\n",
      "[294]\tvalidation_0-logloss:0.00842\tvalidation_1-logloss:0.23959\n",
      "[295]\tvalidation_0-logloss:0.00840\tvalidation_1-logloss:0.23999\n",
      "[296]\tvalidation_0-logloss:0.00839\tvalidation_1-logloss:0.23997\n",
      "[297]\tvalidation_0-logloss:0.00838\tvalidation_1-logloss:0.23979\n",
      "[298]\tvalidation_0-logloss:0.00837\tvalidation_1-logloss:0.24009\n",
      "[299]\tvalidation_0-logloss:0.00835\tvalidation_1-logloss:0.24007\n",
      "[300]\tvalidation_0-logloss:0.00834\tvalidation_1-logloss:0.24048\n",
      "[301]\tvalidation_0-logloss:0.00833\tvalidation_1-logloss:0.23994\n"
     ]
    }
   ],
   "source": [
    "from xgboost import XGBClassifier\n",
    "\n",
    "xgb_wrapper = XGBClassifier(n_estimators=400, learning_rate=0.05, max_depth=3, early_stopping_rounds = 100)\n",
    "evals = [(X_tr, y_tr), (X_val, y_val)]\n",
    "xgb_wrapper.fit(X_tr, y_tr, eval_set=evals, verbose=True)\n",
    "ws50_preds = xgb_wrapper.predict(X_test)\n",
    "ws50_pred_proba = xgb_wrapper.predict_proba(X_test)[:, 1]"
   ],
   "metadata": {
    "collapsed": false,
    "ExecuteTime": {
     "end_time": "2024-08-24T16:08:15.549726Z",
     "start_time": "2024-08-24T16:08:15.085159Z"
    }
   },
   "id": "cb71afdabaffed0e",
   "execution_count": 42
  },
  {
   "cell_type": "code",
   "outputs": [
    {
     "name": "stdout",
     "output_type": "stream",
     "text": [
      "오차 행렬\n",
      "[[35  2]\n",
      " [ 2 75]]\n",
      "정확도: 0.9649, 정밀도: 0.9740, 재현율: 0.9740,    F1: 0.9740, AUC:0.9961\n"
     ]
    }
   ],
   "source": [
    "get_clf_eval(y_test , ws50_preds, ws50_pred_proba)"
   ],
   "metadata": {
    "collapsed": false,
    "ExecuteTime": {
     "end_time": "2024-08-24T16:08:16.310277Z",
     "start_time": "2024-08-24T16:08:16.302901Z"
    }
   },
   "id": "2fa1d90ec830a372",
   "execution_count": 43
  },
  {
   "cell_type": "code",
   "outputs": [
    {
     "name": "stdout",
     "output_type": "stream",
     "text": [
      "[0]\tvalidation_0-logloss:0.62480\tvalidation_1-logloss:0.63104\n",
      "[1]\tvalidation_0-logloss:0.58674\tvalidation_1-logloss:0.60478\n",
      "[2]\tvalidation_0-logloss:0.55226\tvalidation_1-logloss:0.58223\n",
      "[3]\tvalidation_0-logloss:0.52086\tvalidation_1-logloss:0.56184\n",
      "[4]\tvalidation_0-logloss:0.49192\tvalidation_1-logloss:0.54118\n",
      "[5]\tvalidation_0-logloss:0.46537\tvalidation_1-logloss:0.52223\n",
      "[6]\tvalidation_0-logloss:0.44029\tvalidation_1-logloss:0.50287\n",
      "[7]\tvalidation_0-logloss:0.41666\tvalidation_1-logloss:0.48620\n",
      "[8]\tvalidation_0-logloss:0.39525\tvalidation_1-logloss:0.46974\n",
      "[9]\tvalidation_0-logloss:0.37542\tvalidation_1-logloss:0.45497\n",
      "[10]\tvalidation_0-logloss:0.35701\tvalidation_1-logloss:0.44131\n",
      "[11]\tvalidation_0-logloss:0.33982\tvalidation_1-logloss:0.43134\n",
      "[12]\tvalidation_0-logloss:0.32297\tvalidation_1-logloss:0.41972\n",
      "[13]\tvalidation_0-logloss:0.30725\tvalidation_1-logloss:0.40902\n",
      "[14]\tvalidation_0-logloss:0.29327\tvalidation_1-logloss:0.39883\n",
      "[15]\tvalidation_0-logloss:0.27946\tvalidation_1-logloss:0.38968\n",
      "[16]\tvalidation_0-logloss:0.26691\tvalidation_1-logloss:0.38150\n",
      "[17]\tvalidation_0-logloss:0.25473\tvalidation_1-logloss:0.37368\n",
      "[18]\tvalidation_0-logloss:0.24385\tvalidation_1-logloss:0.36666\n",
      "[19]\tvalidation_0-logloss:0.23338\tvalidation_1-logloss:0.35994\n",
      "[20]\tvalidation_0-logloss:0.22320\tvalidation_1-logloss:0.35374\n",
      "[21]\tvalidation_0-logloss:0.21363\tvalidation_1-logloss:0.34704\n",
      "[22]\tvalidation_0-logloss:0.20487\tvalidation_1-logloss:0.34206\n",
      "[23]\tvalidation_0-logloss:0.19634\tvalidation_1-logloss:0.33621\n",
      "[24]\tvalidation_0-logloss:0.18830\tvalidation_1-logloss:0.33178\n",
      "[25]\tvalidation_0-logloss:0.18093\tvalidation_1-logloss:0.32774\n",
      "[26]\tvalidation_0-logloss:0.17374\tvalidation_1-logloss:0.32297\n",
      "[27]\tvalidation_0-logloss:0.16695\tvalidation_1-logloss:0.31855\n",
      "[28]\tvalidation_0-logloss:0.16059\tvalidation_1-logloss:0.31495\n",
      "[29]\tvalidation_0-logloss:0.15450\tvalidation_1-logloss:0.31173\n",
      "[30]\tvalidation_0-logloss:0.14875\tvalidation_1-logloss:0.30735\n",
      "[31]\tvalidation_0-logloss:0.14329\tvalidation_1-logloss:0.30463\n",
      "[32]\tvalidation_0-logloss:0.13807\tvalidation_1-logloss:0.30242\n",
      "[33]\tvalidation_0-logloss:0.13325\tvalidation_1-logloss:0.29922\n",
      "[34]\tvalidation_0-logloss:0.12864\tvalidation_1-logloss:0.29722\n",
      "[35]\tvalidation_0-logloss:0.12429\tvalidation_1-logloss:0.29540\n",
      "[36]\tvalidation_0-logloss:0.12000\tvalidation_1-logloss:0.29300\n",
      "[37]\tvalidation_0-logloss:0.11581\tvalidation_1-logloss:0.29010\n",
      "[38]\tvalidation_0-logloss:0.11210\tvalidation_1-logloss:0.28883\n",
      "[39]\tvalidation_0-logloss:0.10838\tvalidation_1-logloss:0.28769\n",
      "[40]\tvalidation_0-logloss:0.10481\tvalidation_1-logloss:0.28574\n",
      "[41]\tvalidation_0-logloss:0.10160\tvalidation_1-logloss:0.28434\n",
      "[42]\tvalidation_0-logloss:0.09832\tvalidation_1-logloss:0.28226\n",
      "[43]\tvalidation_0-logloss:0.09534\tvalidation_1-logloss:0.28006\n",
      "[44]\tvalidation_0-logloss:0.09249\tvalidation_1-logloss:0.27854\n",
      "[45]\tvalidation_0-logloss:0.08972\tvalidation_1-logloss:0.27747\n",
      "[46]\tvalidation_0-logloss:0.08700\tvalidation_1-logloss:0.27654\n",
      "[47]\tvalidation_0-logloss:0.08461\tvalidation_1-logloss:0.27598\n",
      "[48]\tvalidation_0-logloss:0.08225\tvalidation_1-logloss:0.27415\n",
      "[49]\tvalidation_0-logloss:0.08001\tvalidation_1-logloss:0.27245\n",
      "[50]\tvalidation_0-logloss:0.07784\tvalidation_1-logloss:0.27104\n",
      "[51]\tvalidation_0-logloss:0.07578\tvalidation_1-logloss:0.26958\n",
      "[52]\tvalidation_0-logloss:0.07384\tvalidation_1-logloss:0.26869\n",
      "[53]\tvalidation_0-logloss:0.07196\tvalidation_1-logloss:0.26760\n",
      "[54]\tvalidation_0-logloss:0.07021\tvalidation_1-logloss:0.26661\n",
      "[55]\tvalidation_0-logloss:0.06833\tvalidation_1-logloss:0.26680\n",
      "[56]\tvalidation_0-logloss:0.06671\tvalidation_1-logloss:0.26517\n",
      "[57]\tvalidation_0-logloss:0.06519\tvalidation_1-logloss:0.26412\n",
      "[58]\tvalidation_0-logloss:0.06368\tvalidation_1-logloss:0.26444\n",
      "[59]\tvalidation_0-logloss:0.06202\tvalidation_1-logloss:0.26434\n",
      "[60]\tvalidation_0-logloss:0.06048\tvalidation_1-logloss:0.26208\n",
      "[61]\tvalidation_0-logloss:0.05898\tvalidation_1-logloss:0.26139\n",
      "[62]\tvalidation_0-logloss:0.05756\tvalidation_1-logloss:0.26155\n",
      "[63]\tvalidation_0-logloss:0.05614\tvalidation_1-logloss:0.26114\n",
      "[64]\tvalidation_0-logloss:0.05486\tvalidation_1-logloss:0.25973\n",
      "[65]\tvalidation_0-logloss:0.05372\tvalidation_1-logloss:0.25878\n",
      "[66]\tvalidation_0-logloss:0.05263\tvalidation_1-logloss:0.25758\n",
      "[67]\tvalidation_0-logloss:0.05140\tvalidation_1-logloss:0.25664\n",
      "[68]\tvalidation_0-logloss:0.05019\tvalidation_1-logloss:0.25625\n",
      "[69]\tvalidation_0-logloss:0.04910\tvalidation_1-logloss:0.25593\n",
      "[70]\tvalidation_0-logloss:0.04806\tvalidation_1-logloss:0.25438\n",
      "[71]\tvalidation_0-logloss:0.04704\tvalidation_1-logloss:0.25373\n",
      "[72]\tvalidation_0-logloss:0.04606\tvalidation_1-logloss:0.25411\n",
      "[73]\tvalidation_0-logloss:0.04514\tvalidation_1-logloss:0.25316\n",
      "[74]\tvalidation_0-logloss:0.04435\tvalidation_1-logloss:0.25248\n",
      "[75]\tvalidation_0-logloss:0.04347\tvalidation_1-logloss:0.25271\n",
      "[76]\tvalidation_0-logloss:0.04260\tvalidation_1-logloss:0.25282\n",
      "[77]\tvalidation_0-logloss:0.04178\tvalidation_1-logloss:0.25165\n",
      "[78]\tvalidation_0-logloss:0.04099\tvalidation_1-logloss:0.25181\n",
      "[79]\tvalidation_0-logloss:0.04022\tvalidation_1-logloss:0.25210\n",
      "[80]\tvalidation_0-logloss:0.03942\tvalidation_1-logloss:0.25194\n",
      "[81]\tvalidation_0-logloss:0.03875\tvalidation_1-logloss:0.25254\n",
      "[82]\tvalidation_0-logloss:0.03799\tvalidation_1-logloss:0.25264\n",
      "[83]\tvalidation_0-logloss:0.03727\tvalidation_1-logloss:0.25280\n",
      "[84]\tvalidation_0-logloss:0.03657\tvalidation_1-logloss:0.25281\n",
      "[85]\tvalidation_0-logloss:0.03586\tvalidation_1-logloss:0.25219\n",
      "[86]\tvalidation_0-logloss:0.03530\tvalidation_1-logloss:0.25288\n",
      "[87]\tvalidation_0-logloss:0.03464\tvalidation_1-logloss:0.25226\n"
     ]
    }
   ],
   "source": [
    "from xgboost import XGBClassifier\n",
    "\n",
    "xgb_wrapper = XGBClassifier(n_estimators=400, learning_rate=0.05, max_depth=3, early_stopping_rounds = 10)\n",
    "evals = [(X_tr, y_tr), (X_val, y_val)]\n",
    "xgb_wrapper.fit(X_tr, y_tr, eval_set=evals, verbose=True)\n",
    "ws50_preds = xgb_wrapper.predict(X_test)\n",
    "ws50_pred_proba = xgb_wrapper.predict_proba(X_test)[:, 1]"
   ],
   "metadata": {
    "collapsed": false,
    "ExecuteTime": {
     "end_time": "2024-08-24T16:08:20.381117Z",
     "start_time": "2024-08-24T16:08:20.213334Z"
    }
   },
   "id": "547d0006cb2a1ac8",
   "execution_count": 44
  },
  {
   "cell_type": "code",
   "outputs": [
    {
     "name": "stdout",
     "output_type": "stream",
     "text": [
      "오차 행렬\n",
      "[[36  1]\n",
      " [ 2 75]]\n",
      "정확도: 0.9737, 정밀도: 0.9868, 재현율: 0.9740,    F1: 0.9804, AUC:0.9954\n"
     ]
    }
   ],
   "source": [
    "get_clf_eval(y_test , ws50_preds, ws50_pred_proba)"
   ],
   "metadata": {
    "collapsed": false,
    "ExecuteTime": {
     "end_time": "2024-08-24T16:08:25.148368Z",
     "start_time": "2024-08-24T16:08:25.140026Z"
    }
   },
   "id": "db912dc074f2ae84",
   "execution_count": 45
  },
  {
   "cell_type": "code",
   "outputs": [],
   "source": [],
   "metadata": {
    "collapsed": false
   },
   "id": "e100ac5b26787577"
  }
 ],
 "metadata": {
  "kernelspec": {
   "display_name": "Python 3",
   "language": "python",
   "name": "python3"
  },
  "language_info": {
   "codemirror_mode": {
    "name": "ipython",
    "version": 2
   },
   "file_extension": ".py",
   "mimetype": "text/x-python",
   "name": "python",
   "nbconvert_exporter": "python",
   "pygments_lexer": "ipython2",
   "version": "2.7.6"
  }
 },
 "nbformat": 4,
 "nbformat_minor": 5
}
