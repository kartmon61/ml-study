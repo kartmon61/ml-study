{
 "cells": [
  {
   "cell_type": "code",
   "execution_count": 1,
   "id": "initial_id",
   "metadata": {
    "collapsed": true,
    "ExecuteTime": {
     "end_time": "2024-08-25T09:24:22.699829Z",
     "start_time": "2024-08-25T09:24:20.572665Z"
    }
   },
   "outputs": [
    {
     "name": "stdout",
     "output_type": "stream",
     "text": [
      "Collecting hyperopt\r\n",
      "  Downloading hyperopt-0.2.7-py2.py3-none-any.whl.metadata (1.7 kB)\r\n",
      "Requirement already satisfied: numpy in /Library/Frameworks/Python.framework/Versions/3.11/lib/python3.11/site-packages (from hyperopt) (1.26.4)\r\n",
      "Requirement already satisfied: scipy in /Library/Frameworks/Python.framework/Versions/3.11/lib/python3.11/site-packages (from hyperopt) (1.14.1)\r\n",
      "Requirement already satisfied: six in /Library/Frameworks/Python.framework/Versions/3.11/lib/python3.11/site-packages (from hyperopt) (1.16.0)\r\n",
      "Collecting networkx>=2.2 (from hyperopt)\r\n",
      "  Downloading networkx-3.3-py3-none-any.whl.metadata (5.1 kB)\r\n",
      "Collecting future (from hyperopt)\r\n",
      "  Downloading future-1.0.0-py3-none-any.whl.metadata (4.0 kB)\r\n",
      "Requirement already satisfied: tqdm in /Library/Frameworks/Python.framework/Versions/3.11/lib/python3.11/site-packages (from hyperopt) (4.66.2)\r\n",
      "Collecting cloudpickle (from hyperopt)\r\n",
      "  Downloading cloudpickle-3.0.0-py3-none-any.whl.metadata (7.0 kB)\r\n",
      "Collecting py4j (from hyperopt)\r\n",
      "  Downloading py4j-0.10.9.7-py2.py3-none-any.whl.metadata (1.5 kB)\r\n",
      "Downloading hyperopt-0.2.7-py2.py3-none-any.whl (1.6 MB)\r\n",
      "\u001B[2K   \u001B[90m━━━━━━━━━━━━━━━━━━━━━━━━━━━━━━━━━━━━━━━━\u001B[0m \u001B[32m1.6/1.6 MB\u001B[0m \u001B[31m29.8 MB/s\u001B[0m eta \u001B[36m0:00:00\u001B[0m\r\n",
      "\u001B[?25hDownloading networkx-3.3-py3-none-any.whl (1.7 MB)\r\n",
      "\u001B[2K   \u001B[90m━━━━━━━━━━━━━━━━━━━━━━━━━━━━━━━━━━━━━━━━\u001B[0m \u001B[32m1.7/1.7 MB\u001B[0m \u001B[31m33.1 MB/s\u001B[0m eta \u001B[36m0:00:00\u001B[0m\r\n",
      "\u001B[?25hDownloading cloudpickle-3.0.0-py3-none-any.whl (20 kB)\r\n",
      "Downloading future-1.0.0-py3-none-any.whl (491 kB)\r\n",
      "Downloading py4j-0.10.9.7-py2.py3-none-any.whl (200 kB)\r\n",
      "Installing collected packages: py4j, networkx, future, cloudpickle, hyperopt\r\n",
      "Successfully installed cloudpickle-3.0.0 future-1.0.0 hyperopt-0.2.7 networkx-3.3 py4j-0.10.9.7\r\n"
     ]
    }
   ],
   "source": [
    "!pip install hyperopt"
   ]
  },
  {
   "cell_type": "code",
   "outputs": [],
   "source": [
    "from hyperopt import hp\n",
    "\n",
    "# -10 ~ 10까지 1간격을 가지는 입력 변수 x 집합값과 -15 ~ 15까지 1간격을 가지는 입력 변수  y 집합값 설정.\n",
    "search_space = {'x': hp.quniform('x', -10, 10, 1),  'y': hp.quniform('y', -15, 15, 1) }"
   ],
   "metadata": {
    "collapsed": false,
    "ExecuteTime": {
     "end_time": "2024-08-25T09:24:40.683671Z",
     "start_time": "2024-08-25T09:24:40.070195Z"
    }
   },
   "id": "8da65ebce0f0e24a",
   "execution_count": 2
  },
  {
   "cell_type": "code",
   "outputs": [
    {
     "data": {
      "text/plain": "{'x': <hyperopt.pyll.base.Apply at 0x168a8d5d0>,\n 'y': <hyperopt.pyll.base.Apply at 0x168aeb410>}"
     },
     "execution_count": 3,
     "metadata": {},
     "output_type": "execute_result"
    }
   ],
   "source": [
    "search_space"
   ],
   "metadata": {
    "collapsed": false,
    "ExecuteTime": {
     "end_time": "2024-08-25T09:24:46.404639Z",
     "start_time": "2024-08-25T09:24:46.401438Z"
    }
   },
   "id": "ca5ebf2ab869f401",
   "execution_count": 3
  },
  {
   "cell_type": "code",
   "outputs": [],
   "source": [
    "from hyperopt import STATUS_OK\n",
    "\n",
    "def objective_func(search_space):\n",
    "    x = search_space['x']\n",
    "    y = search_space['y']\n",
    "    # 최소값을 찾는 함수\n",
    "    retval = x**2 - 20*y\n",
    "    return retval"
   ],
   "metadata": {
    "collapsed": false,
    "ExecuteTime": {
     "end_time": "2024-08-25T09:27:46.823925Z",
     "start_time": "2024-08-25T09:27:46.820062Z"
    }
   },
   "id": "3d0e8ae7158ff357",
   "execution_count": 10
  },
  {
   "cell_type": "code",
   "outputs": [
    {
     "name": "stdout",
     "output_type": "stream",
     "text": [
      "100%|██████████| 1000/1000 [00:15<00:00, 66.54trial/s, best loss: -300.0]\n",
      "best {'x': -0.0, 'y': 15.0}\n"
     ]
    }
   ],
   "source": [
    "from hyperopt import fmin, tpe, Trials\n",
    "import numpy as np\n",
    "\n",
    "trial_val = Trials()\n",
    "best = fmin(objective_func, search_space, algo=tpe.suggest, max_evals=100, trials=trial_val, rstate=np.random.default_rng(seed=0))\n",
    "print('best', best)"
   ],
   "metadata": {
    "collapsed": false,
    "ExecuteTime": {
     "end_time": "2024-08-25T09:31:43.357830Z",
     "start_time": "2024-08-25T09:31:28.322495Z"
    }
   },
   "id": "96b3f13fe9b0aeaa",
   "execution_count": 19
  },
  {
   "cell_type": "code",
   "outputs": [
    {
     "name": "stdout",
     "output_type": "stream",
     "text": [
      "[{'loss': -64.0, 'status': 'ok'}, {'loss': -184.0, 'status': 'ok'}, {'loss': 56.0, 'status': 'ok'}, {'loss': -224.0, 'status': 'ok'}, {'loss': 61.0, 'status': 'ok'}, {'loss': -296.0, 'status': 'ok'}, {'loss': -40.0, 'status': 'ok'}, {'loss': 281.0, 'status': 'ok'}, {'loss': 64.0, 'status': 'ok'}, {'loss': 100.0, 'status': 'ok'}, {'loss': 60.0, 'status': 'ok'}, {'loss': -39.0, 'status': 'ok'}, {'loss': 1.0, 'status': 'ok'}, {'loss': -164.0, 'status': 'ok'}, {'loss': 21.0, 'status': 'ok'}, {'loss': -56.0, 'status': 'ok'}, {'loss': 284.0, 'status': 'ok'}, {'loss': 176.0, 'status': 'ok'}, {'loss': -171.0, 'status': 'ok'}, {'loss': 0.0, 'status': 'ok'}, {'loss': -291.0, 'status': 'ok'}, {'loss': -271.0, 'status': 'ok'}, {'loss': -255.0, 'status': 'ok'}, {'loss': -156.0, 'status': 'ok'}, {'loss': -291.0, 'status': 'ok'}, {'loss': -136.0, 'status': 'ok'}, {'loss': -211.0, 'status': 'ok'}, {'loss': -176.0, 'status': 'ok'}, {'loss': -95.0, 'status': 'ok'}, {'loss': -264.0, 'status': 'ok'}, {'loss': -51.0, 'status': 'ok'}, {'loss': 316.0, 'status': 'ok'}, {'loss': -239.0, 'status': 'ok'}, {'loss': -175.0, 'status': 'ok'}, {'loss': 44.0, 'status': 'ok'}, {'loss': 256.0, 'status': 'ok'}, {'loss': -231.0, 'status': 'ok'}, {'loss': 121.0, 'status': 'ok'}, {'loss': -96.0, 'status': 'ok'}, {'loss': -264.0, 'status': 'ok'}, {'loss': -176.0, 'status': 'ok'}, {'loss': 81.0, 'status': 'ok'}, {'loss': -20.0, 'status': 'ok'}, {'loss': 21.0, 'status': 'ok'}, {'loss': 189.0, 'status': 'ok'}, {'loss': -15.0, 'status': 'ok'}, {'loss': -199.0, 'status': 'ok'}, {'loss': -180.0, 'status': 'ok'}, {'loss': 165.0, 'status': 'ok'}, {'loss': 256.0, 'status': 'ok'}, {'loss': -79.0, 'status': 'ok'}, {'loss': -156.0, 'status': 'ok'}, {'loss': -251.0, 'status': 'ok'}, {'loss': -151.0, 'status': 'ok'}, {'loss': -4.0, 'status': 'ok'}, {'loss': -180.0, 'status': 'ok'}, {'loss': -36.0, 'status': 'ok'}, {'loss': -196.0, 'status': 'ok'}, {'loss': -216.0, 'status': 'ok'}, {'loss': 141.0, 'status': 'ok'}, {'loss': -131.0, 'status': 'ok'}, {'loss': -179.0, 'status': 'ok'}, {'loss': -31.0, 'status': 'ok'}, {'loss': -244.0, 'status': 'ok'}, {'loss': -275.0, 'status': 'ok'}, {'loss': -251.0, 'status': 'ok'}, {'loss': -284.0, 'status': 'ok'}, {'loss': -211.0, 'status': 'ok'}, {'loss': -276.0, 'status': 'ok'}, {'loss': -199.0, 'status': 'ok'}, {'loss': -240.0, 'status': 'ok'}, {'loss': -144.0, 'status': 'ok'}, {'loss': -71.0, 'status': 'ok'}, {'loss': -296.0, 'status': 'ok'}, {'loss': -235.0, 'status': 'ok'}, {'loss': -176.0, 'status': 'ok'}, {'loss': -124.0, 'status': 'ok'}, {'loss': -284.0, 'status': 'ok'}, {'loss': -239.0, 'status': 'ok'}, {'loss': -244.0, 'status': 'ok'}, {'loss': -191.0, 'status': 'ok'}, {'loss': -39.0, 'status': 'ok'}, {'loss': 284.0, 'status': 'ok'}, {'loss': -216.0, 'status': 'ok'}, {'loss': 20.0, 'status': 'ok'}, {'loss': -56.0, 'status': 'ok'}, {'loss': -75.0, 'status': 'ok'}, {'loss': -231.0, 'status': 'ok'}, {'loss': 101.0, 'status': 'ok'}, {'loss': -239.0, 'status': 'ok'}, {'loss': -20.0, 'status': 'ok'}, {'loss': 241.0, 'status': 'ok'}, {'loss': -151.0, 'status': 'ok'}, {'loss': -256.0, 'status': 'ok'}, {'loss': -84.0, 'status': 'ok'}, {'loss': -164.0, 'status': 'ok'}, {'loss': -204.0, 'status': 'ok'}, {'loss': 265.0, 'status': 'ok'}, {'loss': -159.0, 'status': 'ok'}, {'loss': -251.0, 'status': 'ok'}, {'loss': -175.0, 'status': 'ok'}, {'loss': -299.0, 'status': 'ok'}, {'loss': -136.0, 'status': 'ok'}, {'loss': -299.0, 'status': 'ok'}, {'loss': -231.0, 'status': 'ok'}, {'loss': 61.0, 'status': 'ok'}, {'loss': -80.0, 'status': 'ok'}, {'loss': -219.0, 'status': 'ok'}, {'loss': -291.0, 'status': 'ok'}, {'loss': -299.0, 'status': 'ok'}, {'loss': 4.0, 'status': 'ok'}, {'loss': -151.0, 'status': 'ok'}, {'loss': 21.0, 'status': 'ok'}, {'loss': -24.0, 'status': 'ok'}, {'loss': -111.0, 'status': 'ok'}, {'loss': -276.0, 'status': 'ok'}, {'loss': -124.0, 'status': 'ok'}, {'loss': -260.0, 'status': 'ok'}, {'loss': -59.0, 'status': 'ok'}, {'loss': 144.0, 'status': 'ok'}, {'loss': -84.0, 'status': 'ok'}, {'loss': -179.0, 'status': 'ok'}, {'loss': -264.0, 'status': 'ok'}, {'loss': -231.0, 'status': 'ok'}, {'loss': 220.0, 'status': 'ok'}, {'loss': -195.0, 'status': 'ok'}, {'loss': 129.0, 'status': 'ok'}, {'loss': -40.0, 'status': 'ok'}, {'loss': -244.0, 'status': 'ok'}, {'loss': 281.0, 'status': 'ok'}, {'loss': -276.0, 'status': 'ok'}, {'loss': -144.0, 'status': 'ok'}, {'loss': -191.0, 'status': 'ok'}, {'loss': -156.0, 'status': 'ok'}, {'loss': -215.0, 'status': 'ok'}, {'loss': 181.0, 'status': 'ok'}, {'loss': 29.0, 'status': 'ok'}, {'loss': -300.0, 'status': 'ok'}, {'loss': -260.0, 'status': 'ok'}, {'loss': -64.0, 'status': 'ok'}, {'loss': -195.0, 'status': 'ok'}, {'loss': 121.0, 'status': 'ok'}, {'loss': -124.0, 'status': 'ok'}, {'loss': -279.0, 'status': 'ok'}, {'loss': -196.0, 'status': 'ok'}, {'loss': -299.0, 'status': 'ok'}, {'loss': -239.0, 'status': 'ok'}, {'loss': -276.0, 'status': 'ok'}, {'loss': -300.0, 'status': 'ok'}, {'loss': -300.0, 'status': 'ok'}, {'loss': -260.0, 'status': 'ok'}, {'loss': -271.0, 'status': 'ok'}, {'loss': -216.0, 'status': 'ok'}, {'loss': -231.0, 'status': 'ok'}, {'loss': -296.0, 'status': 'ok'}, {'loss': -179.0, 'status': 'ok'}, {'loss': -251.0, 'status': 'ok'}, {'loss': -220.0, 'status': 'ok'}, {'loss': -64.0, 'status': 'ok'}, {'loss': -196.0, 'status': 'ok'}, {'loss': -276.0, 'status': 'ok'}, {'loss': -300.0, 'status': 'ok'}, {'loss': -236.0, 'status': 'ok'}, {'loss': -244.0, 'status': 'ok'}, {'loss': -180.0, 'status': 'ok'}, {'loss': -151.0, 'status': 'ok'}, {'loss': -291.0, 'status': 'ok'}, {'loss': -59.0, 'status': 'ok'}, {'loss': -175.0, 'status': 'ok'}, {'loss': -120.0, 'status': 'ok'}, {'loss': -239.0, 'status': 'ok'}, {'loss': -264.0, 'status': 'ok'}, {'loss': 244.0, 'status': 'ok'}, {'loss': -219.0, 'status': 'ok'}, {'loss': 149.0, 'status': 'ok'}, {'loss': -256.0, 'status': 'ok'}, {'loss': -264.0, 'status': 'ok'}, {'loss': -160.0, 'status': 'ok'}, {'loss': -179.0, 'status': 'ok'}, {'loss': 105.0, 'status': 'ok'}, {'loss': -259.0, 'status': 'ok'}, {'loss': -299.0, 'status': 'ok'}, {'loss': 304.0, 'status': 'ok'}, {'loss': -204.0, 'status': 'ok'}, {'loss': -180.0, 'status': 'ok'}, {'loss': -216.0, 'status': 'ok'}, {'loss': -131.0, 'status': 'ok'}, {'loss': 49.0, 'status': 'ok'}, {'loss': -175.0, 'status': 'ok'}, {'loss': -299.0, 'status': 'ok'}, {'loss': -264.0, 'status': 'ok'}, {'loss': 260.0, 'status': 'ok'}, {'loss': -39.0, 'status': 'ok'}, {'loss': 204.0, 'status': 'ok'}, {'loss': 49.0, 'status': 'ok'}, {'loss': -119.0, 'status': 'ok'}, {'loss': -240.0, 'status': 'ok'}, {'loss': -191.0, 'status': 'ok'}, {'loss': -256.0, 'status': 'ok'}, {'loss': -64.0, 'status': 'ok'}, {'loss': -211.0, 'status': 'ok'}, {'loss': 101.0, 'status': 'ok'}, {'loss': -275.0, 'status': 'ok'}, {'loss': -231.0, 'status': 'ok'}, {'loss': -216.0, 'status': 'ok'}, {'loss': -179.0, 'status': 'ok'}, {'loss': -300.0, 'status': 'ok'}, {'loss': -135.0, 'status': 'ok'}, {'loss': -256.0, 'status': 'ok'}, {'loss': -184.0, 'status': 'ok'}, {'loss': -284.0, 'status': 'ok'}, {'loss': -100.0, 'status': 'ok'}, {'loss': 124.0, 'status': 'ok'}, {'loss': -191.0, 'status': 'ok'}, {'loss': -259.0, 'status': 'ok'}, {'loss': 76.0, 'status': 'ok'}, {'loss': -139.0, 'status': 'ok'}, {'loss': -176.0, 'status': 'ok'}, {'loss': -236.0, 'status': 'ok'}, {'loss': -279.0, 'status': 'ok'}, {'loss': 160.0, 'status': 'ok'}, {'loss': -111.0, 'status': 'ok'}, {'loss': -104.0, 'status': 'ok'}, {'loss': 44.0, 'status': 'ok'}, {'loss': 36.0, 'status': 'ok'}, {'loss': -219.0, 'status': 'ok'}, {'loss': -296.0, 'status': 'ok'}, {'loss': -264.0, 'status': 'ok'}, {'loss': -151.0, 'status': 'ok'}, {'loss': -256.0, 'status': 'ok'}, {'loss': -219.0, 'status': 'ok'}, {'loss': -200.0, 'status': 'ok'}, {'loss': -179.0, 'status': 'ok'}, {'loss': -204.0, 'status': 'ok'}, {'loss': -255.0, 'status': 'ok'}, {'loss': -191.0, 'status': 'ok'}, {'loss': -219.0, 'status': 'ok'}, {'loss': -256.0, 'status': 'ok'}, {'loss': 49.0, 'status': 'ok'}, {'loss': -44.0, 'status': 'ok'}, {'loss': -275.0, 'status': 'ok'}, {'loss': -256.0, 'status': 'ok'}, {'loss': -264.0, 'status': 'ok'}, {'loss': -100.0, 'status': 'ok'}, {'loss': 165.0, 'status': 'ok'}, {'loss': -139.0, 'status': 'ok'}, {'loss': -159.0, 'status': 'ok'}, {'loss': -236.0, 'status': 'ok'}, {'loss': -211.0, 'status': 'ok'}, {'loss': -196.0, 'status': 'ok'}, {'loss': 180.0, 'status': 'ok'}, {'loss': -71.0, 'status': 'ok'}, {'loss': -251.0, 'status': 'ok'}, {'loss': 41.0, 'status': 'ok'}, {'loss': -259.0, 'status': 'ok'}, {'loss': -179.0, 'status': 'ok'}, {'loss': 296.0, 'status': 'ok'}, {'loss': -300.0, 'status': 'ok'}, {'loss': -280.0, 'status': 'ok'}, {'loss': -279.0, 'status': 'ok'}, {'loss': -299.0, 'status': 'ok'}, {'loss': -256.0, 'status': 'ok'}, {'loss': -239.0, 'status': 'ok'}, {'loss': -276.0, 'status': 'ok'}, {'loss': -220.0, 'status': 'ok'}, {'loss': -299.0, 'status': 'ok'}, {'loss': -260.0, 'status': 'ok'}, {'loss': -296.0, 'status': 'ok'}, {'loss': -231.0, 'status': 'ok'}, {'loss': -191.0, 'status': 'ok'}, {'loss': -276.0, 'status': 'ok'}, {'loss': -219.0, 'status': 'ok'}, {'loss': -239.0, 'status': 'ok'}, {'loss': -299.0, 'status': 'ok'}, {'loss': -260.0, 'status': 'ok'}, {'loss': -276.0, 'status': 'ok'}, {'loss': -296.0, 'status': 'ok'}, {'loss': -251.0, 'status': 'ok'}, {'loss': -199.0, 'status': 'ok'}, {'loss': -291.0, 'status': 'ok'}, {'loss': -240.0, 'status': 'ok'}, {'loss': -176.0, 'status': 'ok'}, {'loss': -264.0, 'status': 'ok'}, {'loss': -204.0, 'status': 'ok'}, {'loss': -259.0, 'status': 'ok'}, {'loss': -219.0, 'status': 'ok'}, {'loss': -151.0, 'status': 'ok'}, {'loss': -276.0, 'status': 'ok'}, {'loss': 100.0, 'status': 'ok'}, {'loss': -175.0, 'status': 'ok'}, {'loss': -231.0, 'status': 'ok'}, {'loss': -279.0, 'status': 'ok'}, {'loss': -296.0, 'status': 'ok'}, {'loss': -259.0, 'status': 'ok'}, {'loss': -120.0, 'status': 'ok'}, {'loss': -156.0, 'status': 'ok'}, {'loss': -204.0, 'status': 'ok'}, {'loss': -236.0, 'status': 'ok'}, {'loss': -176.0, 'status': 'ok'}, {'loss': -291.0, 'status': 'ok'}, {'loss': -259.0, 'status': 'ok'}, {'loss': -264.0, 'status': 'ok'}, {'loss': 301.0, 'status': 'ok'}, {'loss': 209.0, 'status': 'ok'}, {'loss': -200.0, 'status': 'ok'}, {'loss': -275.0, 'status': 'ok'}, {'loss': -20.0, 'status': 'ok'}, {'loss': 1.0, 'status': 'ok'}, {'loss': -251.0, 'status': 'ok'}, {'loss': -236.0, 'status': 'ok'}, {'loss': -139.0, 'status': 'ok'}, {'loss': -196.0, 'status': 'ok'}, {'loss': -279.0, 'status': 'ok'}, {'loss': 320.0, 'status': 'ok'}, {'loss': -219.0, 'status': 'ok'}, {'loss': -240.0, 'status': 'ok'}, {'loss': -284.0, 'status': 'ok'}, {'loss': -271.0, 'status': 'ok'}, {'loss': -256.0, 'status': 'ok'}, {'loss': -164.0, 'status': 'ok'}, {'loss': -219.0, 'status': 'ok'}, {'loss': -296.0, 'status': 'ok'}, {'loss': 29.0, 'status': 'ok'}, {'loss': -240.0, 'status': 'ok'}, {'loss': 81.0, 'status': 'ok'}, {'loss': -271.0, 'status': 'ok'}, {'loss': -235.0, 'status': 'ok'}, {'loss': -160.0, 'status': 'ok'}, {'loss': -196.0, 'status': 'ok'}, {'loss': -296.0, 'status': 'ok'}, {'loss': -115.0, 'status': 'ok'}, {'loss': -171.0, 'status': 'ok'}, {'loss': -279.0, 'status': 'ok'}, {'loss': -84.0, 'status': 'ok'}, {'loss': -104.0, 'status': 'ok'}, {'loss': -259.0, 'status': 'ok'}, {'loss': -216.0, 'status': 'ok'}, {'loss': -239.0, 'status': 'ok'}, {'loss': -300.0, 'status': 'ok'}, {'loss': -196.0, 'status': 'ok'}, {'loss': -291.0, 'status': 'ok'}, {'loss': -216.0, 'status': 'ok'}, {'loss': -239.0, 'status': 'ok'}, {'loss': 96.0, 'status': 'ok'}, {'loss': -251.0, 'status': 'ok'}, {'loss': -219.0, 'status': 'ok'}, {'loss': -59.0, 'status': 'ok'}, {'loss': -256.0, 'status': 'ok'}, {'loss': -296.0, 'status': 'ok'}, {'loss': 156.0, 'status': 'ok'}, {'loss': 296.0, 'status': 'ok'}, {'loss': -255.0, 'status': 'ok'}, {'loss': -80.0, 'status': 'ok'}, {'loss': -271.0, 'status': 'ok'}, {'loss': -180.0, 'status': 'ok'}, {'loss': 121.0, 'status': 'ok'}, {'loss': -224.0, 'status': 'ok'}, {'loss': -216.0, 'status': 'ok'}, {'loss': -159.0, 'status': 'ok'}, {'loss': -291.0, 'status': 'ok'}, {'loss': -151.0, 'status': 'ok'}, {'loss': -259.0, 'status': 'ok'}, {'loss': 280.0, 'status': 'ok'}, {'loss': -104.0, 'status': 'ok'}, {'loss': -276.0, 'status': 'ok'}, {'loss': -180.0, 'status': 'ok'}, {'loss': -219.0, 'status': 'ok'}, {'loss': -224.0, 'status': 'ok'}, {'loss': -31.0, 'status': 'ok'}, {'loss': -296.0, 'status': 'ok'}, {'loss': -259.0, 'status': 'ok'}, {'loss': -175.0, 'status': 'ok'}, {'loss': -236.0, 'status': 'ok'}, {'loss': -299.0, 'status': 'ok'}, {'loss': 180.0, 'status': 'ok'}, {'loss': -251.0, 'status': 'ok'}, {'loss': -279.0, 'status': 'ok'}, {'loss': -124.0, 'status': 'ok'}, {'loss': -139.0, 'status': 'ok'}, {'loss': -211.0, 'status': 'ok'}, {'loss': -96.0, 'status': 'ok'}, {'loss': 185.0, 'status': 'ok'}, {'loss': -176.0, 'status': 'ok'}, {'loss': -180.0, 'status': 'ok'}, {'loss': 40.0, 'status': 'ok'}, {'loss': 84.0, 'status': 'ok'}, {'loss': -284.0, 'status': 'ok'}, {'loss': -239.0, 'status': 'ok'}, {'loss': -259.0, 'status': 'ok'}, {'loss': -236.0, 'status': 'ok'}, {'loss': -151.0, 'status': 'ok'}, {'loss': 209.0, 'status': 'ok'}, {'loss': -280.0, 'status': 'ok'}, {'loss': -124.0, 'status': 'ok'}, {'loss': -251.0, 'status': 'ok'}, {'loss': -24.0, 'status': 'ok'}, {'loss': -219.0, 'status': 'ok'}, {'loss': -196.0, 'status': 'ok'}, {'loss': -159.0, 'status': 'ok'}, {'loss': -236.0, 'status': 'ok'}, {'loss': -280.0, 'status': 'ok'}, {'loss': -300.0, 'status': 'ok'}, {'loss': -279.0, 'status': 'ok'}, {'loss': -300.0, 'status': 'ok'}, {'loss': -299.0, 'status': 'ok'}, {'loss': -256.0, 'status': 'ok'}, {'loss': -280.0, 'status': 'ok'}, {'loss': -299.0, 'status': 'ok'}, {'loss': -299.0, 'status': 'ok'}, {'loss': -256.0, 'status': 'ok'}, {'loss': -280.0, 'status': 'ok'}, {'loss': -239.0, 'status': 'ok'}, {'loss': -299.0, 'status': 'ok'}, {'loss': -236.0, 'status': 'ok'}, {'loss': -260.0, 'status': 'ok'}, {'loss': -299.0, 'status': 'ok'}, {'loss': -216.0, 'status': 'ok'}, {'loss': -280.0, 'status': 'ok'}, {'loss': -259.0, 'status': 'ok'}, {'loss': -276.0, 'status': 'ok'}, {'loss': -231.0, 'status': 'ok'}, {'loss': -299.0, 'status': 'ok'}, {'loss': -211.0, 'status': 'ok'}, {'loss': -279.0, 'status': 'ok'}, {'loss': -256.0, 'status': 'ok'}, {'loss': -300.0, 'status': 'ok'}, {'loss': -239.0, 'status': 'ok'}, {'loss': -296.0, 'status': 'ok'}, {'loss': -219.0, 'status': 'ok'}, {'loss': 100.0, 'status': 'ok'}, {'loss': -276.0, 'status': 'ok'}, {'loss': -191.0, 'status': 'ok'}, {'loss': -256.0, 'status': 'ok'}, {'loss': -271.0, 'status': 'ok'}, {'loss': -239.0, 'status': 'ok'}, {'loss': -176.0, 'status': 'ok'}, {'loss': -259.0, 'status': 'ok'}, {'loss': -300.0, 'status': 'ok'}, {'loss': -220.0, 'status': 'ok'}, {'loss': -299.0, 'status': 'ok'}, {'loss': -251.0, 'status': 'ok'}, {'loss': -271.0, 'status': 'ok'}, {'loss': -216.0, 'status': 'ok'}, {'loss': -299.0, 'status': 'ok'}, {'loss': -239.0, 'status': 'ok'}, {'loss': -276.0, 'status': 'ok'}, {'loss': 0.0, 'status': 'ok'}, {'loss': -191.0, 'status': 'ok'}, {'loss': -244.0, 'status': 'ok'}, {'loss': -236.0, 'status': 'ok'}, {'loss': -179.0, 'status': 'ok'}, {'loss': -300.0, 'status': 'ok'}, {'loss': -300.0, 'status': 'ok'}, {'loss': -244.0, 'status': 'ok'}, {'loss': -279.0, 'status': 'ok'}, {'loss': 24.0, 'status': 'ok'}, {'loss': 241.0, 'status': 'ok'}, {'loss': -220.0, 'status': 'ok'}, {'loss': -239.0, 'status': 'ok'}, {'loss': -271.0, 'status': 'ok'}, {'loss': -196.0, 'status': 'ok'}, {'loss': -299.0, 'status': 'ok'}, {'loss': -256.0, 'status': 'ok'}, {'loss': -231.0, 'status': 'ok'}, {'loss': -291.0, 'status': 'ok'}, {'loss': -255.0, 'status': 'ok'}, {'loss': -24.0, 'status': 'ok'}, {'loss': -256.0, 'status': 'ok'}, {'loss': -220.0, 'status': 'ok'}, {'loss': -179.0, 'status': 'ok'}, {'loss': -196.0, 'status': 'ok'}, {'loss': -224.0, 'status': 'ok'}, {'loss': -251.0, 'status': 'ok'}, {'loss': -80.0, 'status': 'ok'}, {'loss': -159.0, 'status': 'ok'}, {'loss': -279.0, 'status': 'ok'}, {'loss': -16.0, 'status': 'ok'}, {'loss': -219.0, 'status': 'ok'}, {'loss': 185.0, 'status': 'ok'}, {'loss': -299.0, 'status': 'ok'}, {'loss': -300.0, 'status': 'ok'}, {'loss': -136.0, 'status': 'ok'}, {'loss': -279.0, 'status': 'ok'}, {'loss': -236.0, 'status': 'ok'}, {'loss': -251.0, 'status': 'ok'}, {'loss': 224.0, 'status': 'ok'}, {'loss': -191.0, 'status': 'ok'}, {'loss': 136.0, 'status': 'ok'}, {'loss': -264.0, 'status': 'ok'}, {'loss': -299.0, 'status': 'ok'}, {'loss': -179.0, 'status': 'ok'}, {'loss': -220.0, 'status': 'ok'}, {'loss': -259.0, 'status': 'ok'}, {'loss': -300.0, 'status': 'ok'}, {'loss': -236.0, 'status': 'ok'}, {'loss': -271.0, 'status': 'ok'}, {'loss': -199.0, 'status': 'ok'}, {'loss': -219.0, 'status': 'ok'}, {'loss': -116.0, 'status': 'ok'}, {'loss': -300.0, 'status': 'ok'}, {'loss': 60.0, 'status': 'ok'}, {'loss': -159.0, 'status': 'ok'}, {'loss': -256.0, 'status': 'ok'}, {'loss': -231.0, 'status': 'ok'}, {'loss': -264.0, 'status': 'ok'}, {'loss': -264.0, 'status': 'ok'}, {'loss': -251.0, 'status': 'ok'}, {'loss': -219.0, 'status': 'ok'}, {'loss': -75.0, 'status': 'ok'}, {'loss': -300.0, 'status': 'ok'}, {'loss': -236.0, 'status': 'ok'}, {'loss': -216.0, 'status': 'ok'}, {'loss': -279.0, 'status': 'ok'}, {'loss': -179.0, 'status': 'ok'}, {'loss': -259.0, 'status': 'ok'}, {'loss': -231.0, 'status': 'ok'}, {'loss': 304.0, 'status': 'ok'}, {'loss': -300.0, 'status': 'ok'}, {'loss': 284.0, 'status': 'ok'}, {'loss': -199.0, 'status': 'ok'}, {'loss': 5.0, 'status': 'ok'}, {'loss': -260.0, 'status': 'ok'}, {'loss': -299.0, 'status': 'ok'}, {'loss': -276.0, 'status': 'ok'}, {'loss': -279.0, 'status': 'ok'}, {'loss': -211.0, 'status': 'ok'}, {'loss': -239.0, 'status': 'ok'}, {'loss': -171.0, 'status': 'ok'}, {'loss': -300.0, 'status': 'ok'}, {'loss': -156.0, 'status': 'ok'}, {'loss': -200.0, 'status': 'ok'}, {'loss': 181.0, 'status': 'ok'}, {'loss': -244.0, 'status': 'ok'}, {'loss': -291.0, 'status': 'ok'}, {'loss': -136.0, 'status': 'ok'}, {'loss': -276.0, 'status': 'ok'}, {'loss': -236.0, 'status': 'ok'}, {'loss': -264.0, 'status': 'ok'}, {'loss': -59.0, 'status': 'ok'}, {'loss': -219.0, 'status': 'ok'}, {'loss': -235.0, 'status': 'ok'}, {'loss': -224.0, 'status': 'ok'}, {'loss': -111.0, 'status': 'ok'}, {'loss': -280.0, 'status': 'ok'}, {'loss': -259.0, 'status': 'ok'}, {'loss': -199.0, 'status': 'ok'}, {'loss': 140.0, 'status': 'ok'}, {'loss': -291.0, 'status': 'ok'}, {'loss': -216.0, 'status': 'ok'}, {'loss': -264.0, 'status': 'ok'}, {'loss': -176.0, 'status': 'ok'}, {'loss': -300.0, 'status': 'ok'}, {'loss': -199.0, 'status': 'ok'}, {'loss': -279.0, 'status': 'ok'}, {'loss': -256.0, 'status': 'ok'}, {'loss': -251.0, 'status': 'ok'}, {'loss': -144.0, 'status': 'ok'}, {'loss': -204.0, 'status': 'ok'}, {'loss': -236.0, 'status': 'ok'}, {'loss': -275.0, 'status': 'ok'}, {'loss': 41.0, 'status': 'ok'}, {'loss': -211.0, 'status': 'ok'}, {'loss': -279.0, 'status': 'ok'}, {'loss': -140.0, 'status': 'ok'}, {'loss': -256.0, 'status': 'ok'}, {'loss': -156.0, 'status': 'ok'}, {'loss': 269.0, 'status': 'ok'}, {'loss': -300.0, 'status': 'ok'}, {'loss': -279.0, 'status': 'ok'}, {'loss': -239.0, 'status': 'ok'}, {'loss': -171.0, 'status': 'ok'}, {'loss': -276.0, 'status': 'ok'}, {'loss': -184.0, 'status': 'ok'}, {'loss': -300.0, 'status': 'ok'}, {'loss': -299.0, 'status': 'ok'}, {'loss': -236.0, 'status': 'ok'}, {'loss': -259.0, 'status': 'ok'}, {'loss': -300.0, 'status': 'ok'}, {'loss': -199.0, 'status': 'ok'}, {'loss': -279.0, 'status': 'ok'}, {'loss': -300.0, 'status': 'ok'}, {'loss': -300.0, 'status': 'ok'}, {'loss': -299.0, 'status': 'ok'}, {'loss': -259.0, 'status': 'ok'}, {'loss': -280.0, 'status': 'ok'}, {'loss': -259.0, 'status': 'ok'}, {'loss': -300.0, 'status': 'ok'}, {'loss': -280.0, 'status': 'ok'}, {'loss': -259.0, 'status': 'ok'}, {'loss': -296.0, 'status': 'ok'}, {'loss': -299.0, 'status': 'ok'}, {'loss': -279.0, 'status': 'ok'}, {'loss': -236.0, 'status': 'ok'}, {'loss': -259.0, 'status': 'ok'}, {'loss': -276.0, 'status': 'ok'}, {'loss': -300.0, 'status': 'ok'}, {'loss': 80.0, 'status': 'ok'}, {'loss': -259.0, 'status': 'ok'}, {'loss': -239.0, 'status': 'ok'}, {'loss': -276.0, 'status': 'ok'}, {'loss': -296.0, 'status': 'ok'}, {'loss': -220.0, 'status': 'ok'}, {'loss': -279.0, 'status': 'ok'}, {'loss': -259.0, 'status': 'ok'}, {'loss': -240.0, 'status': 'ok'}, {'loss': -216.0, 'status': 'ok'}, {'loss': -299.0, 'status': 'ok'}, {'loss': -279.0, 'status': 'ok'}, {'loss': -236.0, 'status': 'ok'}, {'loss': 221.0, 'status': 'ok'}, {'loss': -256.0, 'status': 'ok'}, {'loss': -259.0, 'status': 'ok'}, {'loss': -280.0, 'status': 'ok'}, {'loss': -296.0, 'status': 'ok'}, {'loss': -291.0, 'status': 'ok'}, {'loss': -236.0, 'status': 'ok'}, {'loss': -211.0, 'status': 'ok'}, {'loss': 101.0, 'status': 'ok'}, {'loss': -280.0, 'status': 'ok'}, {'loss': -259.0, 'status': 'ok'}, {'loss': -271.0, 'status': 'ok'}, {'loss': -196.0, 'status': 'ok'}, {'loss': -219.0, 'status': 'ok'}, {'loss': -259.0, 'status': 'ok'}, {'loss': -240.0, 'status': 'ok'}, {'loss': -296.0, 'status': 'ok'}, {'loss': -299.0, 'status': 'ok'}, {'loss': -300.0, 'status': 'ok'}, {'loss': -271.0, 'status': 'ok'}, {'loss': -236.0, 'status': 'ok'}, {'loss': -279.0, 'status': 'ok'}, {'loss': 4.0, 'status': 'ok'}, {'loss': -259.0, 'status': 'ok'}, {'loss': -300.0, 'status': 'ok'}, {'loss': -211.0, 'status': 'ok'}, {'loss': -279.0, 'status': 'ok'}, {'loss': -256.0, 'status': 'ok'}, {'loss': -200.0, 'status': 'ok'}, {'loss': -239.0, 'status': 'ok'}, {'loss': -256.0, 'status': 'ok'}, {'loss': -279.0, 'status': 'ok'}, {'loss': -71.0, 'status': 'ok'}, {'loss': -220.0, 'status': 'ok'}, {'loss': -299.0, 'status': 'ok'}, {'loss': -176.0, 'status': 'ok'}, {'loss': -260.0, 'status': 'ok'}, {'loss': -284.0, 'status': 'ok'}, {'loss': -239.0, 'status': 'ok'}, {'loss': -196.0, 'status': 'ok'}, {'loss': -300.0, 'status': 'ok'}, {'loss': -279.0, 'status': 'ok'}, {'loss': -231.0, 'status': 'ok'}, {'loss': -219.0, 'status': 'ok'}, {'loss': -276.0, 'status': 'ok'}, {'loss': -271.0, 'status': 'ok'}, {'loss': 21.0, 'status': 'ok'}, {'loss': -256.0, 'status': 'ok'}, {'loss': 216.0, 'status': 'ok'}, {'loss': -260.0, 'status': 'ok'}, {'loss': -299.0, 'status': 'ok'}, {'loss': -299.0, 'status': 'ok'}, {'loss': -31.0, 'status': 'ok'}, {'loss': -156.0, 'status': 'ok'}, {'loss': -240.0, 'status': 'ok'}, {'loss': -199.0, 'status': 'ok'}, {'loss': -276.0, 'status': 'ok'}, {'loss': -211.0, 'status': 'ok'}, {'loss': -236.0, 'status': 'ok'}, {'loss': -300.0, 'status': 'ok'}, {'loss': -284.0, 'status': 'ok'}, {'loss': -279.0, 'status': 'ok'}, {'loss': -256.0, 'status': 'ok'}, {'loss': 61.0, 'status': 'ok'}, {'loss': -291.0, 'status': 'ok'}, {'loss': -259.0, 'status': 'ok'}, {'loss': -200.0, 'status': 'ok'}, {'loss': -219.0, 'status': 'ok'}, {'loss': -176.0, 'status': 'ok'}, {'loss': -280.0, 'status': 'ok'}, {'loss': -271.0, 'status': 'ok'}, {'loss': -236.0, 'status': 'ok'}, {'loss': -259.0, 'status': 'ok'}, {'loss': -99.0, 'status': 'ok'}, {'loss': -300.0, 'status': 'ok'}, {'loss': -216.0, 'status': 'ok'}, {'loss': -239.0, 'status': 'ok'}, {'loss': -264.0, 'status': 'ok'}, {'loss': -299.0, 'status': 'ok'}, {'loss': -251.0, 'status': 'ok'}, {'loss': -171.0, 'status': 'ok'}, {'loss': -156.0, 'status': 'ok'}, {'loss': 241.0, 'status': 'ok'}, {'loss': -300.0, 'status': 'ok'}, {'loss': -256.0, 'status': 'ok'}, {'loss': -199.0, 'status': 'ok'}, {'loss': -280.0, 'status': 'ok'}, {'loss': -231.0, 'status': 'ok'}, {'loss': -264.0, 'status': 'ok'}, {'loss': -296.0, 'status': 'ok'}, {'loss': -219.0, 'status': 'ok'}, {'loss': -120.0, 'status': 'ok'}, {'loss': -251.0, 'status': 'ok'}, {'loss': -236.0, 'status': 'ok'}, {'loss': -296.0, 'status': 'ok'}, {'loss': -279.0, 'status': 'ok'}, {'loss': -219.0, 'status': 'ok'}, {'loss': 120.0, 'status': 'ok'}, {'loss': -299.0, 'status': 'ok'}, {'loss': -115.0, 'status': 'ok'}, {'loss': 21.0, 'status': 'ok'}, {'loss': -259.0, 'status': 'ok'}, {'loss': -236.0, 'status': 'ok'}, {'loss': -275.0, 'status': 'ok'}, {'loss': -280.0, 'status': 'ok'}, {'loss': -244.0, 'status': 'ok'}, {'loss': -56.0, 'status': 'ok'}, {'loss': -300.0, 'status': 'ok'}, {'loss': -191.0, 'status': 'ok'}, {'loss': -279.0, 'status': 'ok'}, {'loss': 109.0, 'status': 'ok'}, {'loss': -224.0, 'status': 'ok'}, {'loss': -196.0, 'status': 'ok'}, {'loss': -216.0, 'status': 'ok'}, {'loss': -299.0, 'status': 'ok'}, {'loss': 164.0, 'status': 'ok'}, {'loss': -180.0, 'status': 'ok'}, {'loss': 300.0, 'status': 'ok'}, {'loss': -259.0, 'status': 'ok'}, {'loss': -79.0, 'status': 'ok'}, {'loss': -271.0, 'status': 'ok'}, {'loss': -251.0, 'status': 'ok'}, {'loss': -276.0, 'status': 'ok'}, {'loss': -239.0, 'status': 'ok'}, {'loss': -219.0, 'status': 'ok'}, {'loss': 80.0, 'status': 'ok'}, {'loss': -300.0, 'status': 'ok'}, {'loss': -300.0, 'status': 'ok'}, {'loss': -159.0, 'status': 'ok'}, {'loss': -256.0, 'status': 'ok'}, {'loss': -231.0, 'status': 'ok'}, {'loss': -264.0, 'status': 'ok'}, {'loss': -179.0, 'status': 'ok'}, {'loss': -296.0, 'status': 'ok'}, {'loss': 49.0, 'status': 'ok'}, {'loss': -259.0, 'status': 'ok'}, {'loss': -204.0, 'status': 'ok'}, {'loss': -279.0, 'status': 'ok'}, {'loss': -236.0, 'status': 'ok'}, {'loss': -220.0, 'status': 'ok'}, {'loss': -196.0, 'status': 'ok'}, {'loss': -284.0, 'status': 'ok'}, {'loss': -276.0, 'status': 'ok'}, {'loss': -235.0, 'status': 'ok'}, {'loss': -299.0, 'status': 'ok'}, {'loss': -240.0, 'status': 'ok'}, {'loss': -180.0, 'status': 'ok'}, {'loss': -251.0, 'status': 'ok'}, {'loss': -199.0, 'status': 'ok'}, {'loss': 184.0, 'status': 'ok'}, {'loss': -300.0, 'status': 'ok'}, {'loss': -276.0, 'status': 'ok'}, {'loss': -239.0, 'status': 'ok'}, {'loss': -259.0, 'status': 'ok'}, {'loss': 80.0, 'status': 'ok'}, {'loss': -299.0, 'status': 'ok'}, {'loss': -171.0, 'status': 'ok'}, {'loss': -216.0, 'status': 'ok'}, {'loss': -279.0, 'status': 'ok'}, {'loss': -91.0, 'status': 'ok'}, {'loss': -259.0, 'status': 'ok'}, {'loss': -191.0, 'status': 'ok'}, {'loss': -264.0, 'status': 'ok'}, {'loss': -291.0, 'status': 'ok'}, {'loss': -200.0, 'status': 'ok'}, {'loss': 144.0, 'status': 'ok'}, {'loss': -159.0, 'status': 'ok'}, {'loss': -276.0, 'status': 'ok'}, {'loss': -219.0, 'status': 'ok'}, {'loss': -204.0, 'status': 'ok'}, {'loss': 1.0, 'status': 'ok'}, {'loss': -120.0, 'status': 'ok'}, {'loss': -256.0, 'status': 'ok'}, {'loss': -236.0, 'status': 'ok'}, {'loss': -256.0, 'status': 'ok'}, {'loss': -300.0, 'status': 'ok'}, {'loss': -300.0, 'status': 'ok'}, {'loss': -300.0, 'status': 'ok'}, {'loss': -279.0, 'status': 'ok'}, {'loss': -280.0, 'status': 'ok'}, {'loss': -299.0, 'status': 'ok'}, {'loss': -300.0, 'status': 'ok'}, {'loss': -279.0, 'status': 'ok'}, {'loss': -279.0, 'status': 'ok'}, {'loss': -300.0, 'status': 'ok'}, {'loss': -259.0, 'status': 'ok'}, {'loss': -299.0, 'status': 'ok'}, {'loss': -279.0, 'status': 'ok'}, {'loss': -279.0, 'status': 'ok'}, {'loss': -260.0, 'status': 'ok'}, {'loss': -299.0, 'status': 'ok'}, {'loss': -260.0, 'status': 'ok'}, {'loss': -299.0, 'status': 'ok'}, {'loss': -299.0, 'status': 'ok'}, {'loss': -280.0, 'status': 'ok'}, {'loss': -239.0, 'status': 'ok'}, {'loss': -256.0, 'status': 'ok'}, {'loss': -276.0, 'status': 'ok'}, {'loss': -300.0, 'status': 'ok'}, {'loss': -259.0, 'status': 'ok'}, {'loss': -239.0, 'status': 'ok'}, {'loss': -280.0, 'status': 'ok'}, {'loss': -256.0, 'status': 'ok'}, {'loss': -276.0, 'status': 'ok'}, {'loss': -299.0, 'status': 'ok'}, {'loss': -240.0, 'status': 'ok'}, {'loss': -299.0, 'status': 'ok'}, {'loss': -279.0, 'status': 'ok'}, {'loss': -256.0, 'status': 'ok'}, {'loss': -300.0, 'status': 'ok'}, {'loss': -240.0, 'status': 'ok'}, {'loss': -276.0, 'status': 'ok'}, {'loss': -219.0, 'status': 'ok'}, {'loss': -259.0, 'status': 'ok'}, {'loss': -236.0, 'status': 'ok'}, {'loss': -300.0, 'status': 'ok'}, {'loss': -299.0, 'status': 'ok'}, {'loss': -276.0, 'status': 'ok'}, {'loss': -279.0, 'status': 'ok'}, {'loss': -219.0, 'status': 'ok'}, {'loss': -260.0, 'status': 'ok'}, {'loss': -296.0, 'status': 'ok'}, {'loss': -260.0, 'status': 'ok'}, {'loss': -239.0, 'status': 'ok'}, {'loss': -291.0, 'status': 'ok'}, {'loss': -276.0, 'status': 'ok'}, {'loss': -259.0, 'status': 'ok'}, {'loss': -239.0, 'status': 'ok'}, {'loss': 284.0, 'status': 'ok'}, {'loss': -299.0, 'status': 'ok'}, {'loss': -271.0, 'status': 'ok'}, {'loss': -216.0, 'status': 'ok'}, {'loss': -260.0, 'status': 'ok'}, {'loss': -299.0, 'status': 'ok'}, {'loss': -279.0, 'status': 'ok'}, {'loss': -276.0, 'status': 'ok'}, {'loss': -240.0, 'status': 'ok'}, {'loss': -300.0, 'status': 'ok'}, {'loss': -300.0, 'status': 'ok'}, {'loss': -219.0, 'status': 'ok'}, {'loss': -251.0, 'status': 'ok'}, {'loss': -279.0, 'status': 'ok'}, {'loss': -236.0, 'status': 'ok'}, {'loss': -251.0, 'status': 'ok'}, {'loss': -299.0, 'status': 'ok'}, {'loss': -279.0, 'status': 'ok'}, {'loss': -196.0, 'status': 'ok'}, {'loss': -256.0, 'status': 'ok'}, {'loss': -36.0, 'status': 'ok'}, {'loss': -240.0, 'status': 'ok'}, {'loss': -299.0, 'status': 'ok'}, {'loss': -279.0, 'status': 'ok'}, {'loss': -300.0, 'status': 'ok'}, {'loss': -199.0, 'status': 'ok'}, {'loss': 264.0, 'status': 'ok'}, {'loss': -211.0, 'status': 'ok'}, {'loss': -259.0, 'status': 'ok'}, {'loss': -291.0, 'status': 'ok'}, {'loss': -239.0, 'status': 'ok'}, {'loss': -280.0, 'status': 'ok'}, {'loss': -216.0, 'status': 'ok'}, {'loss': -256.0, 'status': 'ok'}, {'loss': -300.0, 'status': 'ok'}, {'loss': -279.0, 'status': 'ok'}, {'loss': -259.0, 'status': 'ok'}, {'loss': -236.0, 'status': 'ok'}, {'loss': -300.0, 'status': 'ok'}, {'loss': -279.0, 'status': 'ok'}, {'loss': -216.0, 'status': 'ok'}, {'loss': -300.0, 'status': 'ok'}, {'loss': -251.0, 'status': 'ok'}, {'loss': -171.0, 'status': 'ok'}, {'loss': -239.0, 'status': 'ok'}, {'loss': -279.0, 'status': 'ok'}, {'loss': -279.0, 'status': 'ok'}, {'loss': -256.0, 'status': 'ok'}, {'loss': -300.0, 'status': 'ok'}, {'loss': -231.0, 'status': 'ok'}, {'loss': -216.0, 'status': 'ok'}, {'loss': 221.0, 'status': 'ok'}, {'loss': -200.0, 'status': 'ok'}, {'loss': -279.0, 'status': 'ok'}, {'loss': -256.0, 'status': 'ok'}, {'loss': -291.0, 'status': 'ok'}, {'loss': -299.0, 'status': 'ok'}, {'loss': -280.0, 'status': 'ok'}, {'loss': -239.0, 'status': 'ok'}, {'loss': -256.0, 'status': 'ok'}, {'loss': -299.0, 'status': 'ok'}, {'loss': -119.0, 'status': 'ok'}, {'loss': -279.0, 'status': 'ok'}, {'loss': 244.0, 'status': 'ok'}, {'loss': -140.0, 'status': 'ok'}, {'loss': -216.0, 'status': 'ok'}, {'loss': 141.0, 'status': 'ok'}, {'loss': -279.0, 'status': 'ok'}, {'loss': -256.0, 'status': 'ok'}, {'loss': -239.0, 'status': 'ok'}, {'loss': -291.0, 'status': 'ok'}, {'loss': -211.0, 'status': 'ok'}, {'loss': -44.0, 'status': 'ok'}, {'loss': -300.0, 'status': 'ok'}, {'loss': 121.0, 'status': 'ok'}, {'loss': -216.0, 'status': 'ok'}, {'loss': -271.0, 'status': 'ok'}, {'loss': -240.0, 'status': 'ok'}, {'loss': -296.0, 'status': 'ok'}, {'loss': -279.0, 'status': 'ok'}, {'loss': -179.0, 'status': 'ok'}, {'loss': 160.0, 'status': 'ok'}, {'loss': -251.0, 'status': 'ok'}, {'loss': -199.0, 'status': 'ok'}, {'loss': -244.0, 'status': 'ok'}, {'loss': -276.0, 'status': 'ok'}, {'loss': -239.0, 'status': 'ok'}, {'loss': -300.0, 'status': 'ok'}, {'loss': -19.0, 'status': 'ok'}, {'loss': -211.0, 'status': 'ok'}, {'loss': -299.0, 'status': 'ok'}, {'loss': -276.0, 'status': 'ok'}, {'loss': -240.0, 'status': 'ok'}, {'loss': 104.0, 'status': 'ok'}, {'loss': 41.0, 'status': 'ok'}, {'loss': -271.0, 'status': 'ok'}, {'loss': -300.0, 'status': 'ok'}, {'loss': -259.0, 'status': 'ok'}, {'loss': -231.0, 'status': 'ok'}, {'loss': -244.0, 'status': 'ok'}, {'loss': -216.0, 'status': 'ok'}, {'loss': -176.0, 'status': 'ok'}, {'loss': -279.0, 'status': 'ok'}, {'loss': 16.0, 'status': 'ok'}, {'loss': -299.0, 'status': 'ok'}, {'loss': -80.0, 'status': 'ok'}, {'loss': -200.0, 'status': 'ok'}, {'loss': -276.0, 'status': 'ok'}, {'loss': -296.0, 'status': 'ok'}, {'loss': -259.0, 'status': 'ok'}, {'loss': -299.0, 'status': 'ok'}, {'loss': 24.0, 'status': 'ok'}, {'loss': -219.0, 'status': 'ok'}, {'loss': -300.0, 'status': 'ok'}, {'loss': -239.0, 'status': 'ok'}, {'loss': -251.0, 'status': 'ok'}, {'loss': -280.0, 'status': 'ok'}, {'loss': -151.0, 'status': 'ok'}, {'loss': -279.0, 'status': 'ok'}, {'loss': 204.0, 'status': 'ok'}, {'loss': -239.0, 'status': 'ok'}, {'loss': -260.0, 'status': 'ok'}, {'loss': -296.0, 'status': 'ok'}, {'loss': -279.0, 'status': 'ok'}, {'loss': -219.0, 'status': 'ok'}, {'loss': -300.0, 'status': 'ok'}, {'loss': -256.0, 'status': 'ok'}, {'loss': -191.0, 'status': 'ok'}, {'loss': -300.0, 'status': 'ok'}, {'loss': -239.0, 'status': 'ok'}, {'loss': -276.0, 'status': 'ok'}, {'loss': -256.0, 'status': 'ok'}, {'loss': -75.0, 'status': 'ok'}, {'loss': -204.0, 'status': 'ok'}, {'loss': 189.0, 'status': 'ok'}, {'loss': -279.0, 'status': 'ok'}, {'loss': -224.0, 'status': 'ok'}, {'loss': -300.0, 'status': 'ok'}, {'loss': -300.0, 'status': 'ok'}, {'loss': -259.0, 'status': 'ok'}, {'loss': -299.0, 'status': 'ok'}, {'loss': -280.0, 'status': 'ok'}, {'loss': -39.0, 'status': 'ok'}, {'loss': -256.0, 'status': 'ok'}, {'loss': -196.0, 'status': 'ok'}, {'loss': -271.0, 'status': 'ok'}, {'loss': 81.0, 'status': 'ok'}, {'loss': -231.0, 'status': 'ok'}, {'loss': -279.0, 'status': 'ok'}, {'loss': -179.0, 'status': 'ok'}, {'loss': -196.0, 'status': 'ok'}, {'loss': -140.0, 'status': 'ok'}, {'loss': -236.0, 'status': 'ok'}, {'loss': -299.0, 'status': 'ok'}, {'loss': -216.0, 'status': 'ok'}, {'loss': -244.0, 'status': 'ok'}, {'loss': -279.0, 'status': 'ok'}, {'loss': -296.0, 'status': 'ok'}, {'loss': -251.0, 'status': 'ok'}, {'loss': -280.0, 'status': 'ok'}, {'loss': -160.0, 'status': 'ok'}, {'loss': -219.0, 'status': 'ok'}, {'loss': -239.0, 'status': 'ok'}]\n"
     ]
    }
   ],
   "source": [
    "print(trial_val.results)"
   ],
   "metadata": {
    "collapsed": false,
    "ExecuteTime": {
     "end_time": "2024-08-25T09:32:07.605104Z",
     "start_time": "2024-08-25T09:32:07.600635Z"
    }
   },
   "id": "9d5fad270623762f",
   "execution_count": 20
  },
  {
   "cell_type": "code",
   "outputs": [
    {
     "name": "stdout",
     "output_type": "stream",
     "text": [
      "{'x': [-6.0, -4.0, 4.0, -4.0, 9.0, 2.0, 10.0, -9.0, -8.0, -0.0, -0.0, 1.0, 9.0, 6.0, 9.0, 2.0, -2.0, -4.0, 7.0, -0.0, 3.0, 3.0, 5.0, -2.0, 3.0, -2.0, 7.0, 2.0, 5.0, -6.0, 7.0, 4.0, -1.0, -5.0, 2.0, 4.0, -3.0, 1.0, -8.0, 6.0, 8.0, -1.0, 10.0, 1.0, 3.0, 5.0, -1.0, -10.0, -5.0, 6.0, 1.0, 8.0, -3.0, 3.0, 4.0, -0.0, -8.0, 8.0, 2.0, 9.0, -3.0, 1.0, -7.0, 6.0, 5.0, 3.0, 4.0, 3.0, 2.0, -1.0, 0.0, 4.0, 7.0, -2.0, -5.0, -2.0, -4.0, -4.0, -1.0, -6.0, -3.0, 1.0, 2.0, -2.0, -0.0, -2.0, 5.0, -7.0, 1.0, -1.0, 0.0, -9.0, 3.0, 2.0, 6.0, -4.0, 4.0, -5.0, 9.0, -3.0, 5.0, 1.0, -2.0, 1.0, -7.0, 1.0, -0.0, -1.0, -3.0, 1.0, 2.0, 7.0, 1.0, 4.0, 3.0, 2.0, 6.0, -0.0, -1.0, 8.0, 4.0, 1.0, -6.0, 3.0, -0.0, 5.0, -3.0, 10.0, -4.0, -1.0, 2.0, 6.0, 3.0, -2.0, 5.0, 1.0, 7.0, -0.0, 0.0, -6.0, -5.0, -9.0, -4.0, -1.0, 2.0, 1.0, -1.0, -2.0, 0.0, 0.0, 0.0, -3.0, -2.0, -3.0, 2.0, -1.0, 3.0, -0.0, 4.0, -2.0, 2.0, -0.0, -2.0, -4.0, -0.0, 3.0, -3.0, -1.0, -5.0, 0.0, -1.0, 4.0, 2.0, 1.0, -3.0, -2.0, -4.0, -0.0, -1.0, -5.0, 1.0, -1.0, 2.0, -6.0, -10.0, -2.0, 3.0, -7.0, 5.0, 1.0, -4.0, -0.0, 1.0, 2.0, -3.0, -1.0, 0.0, 3.0, -2.0, 4.0, -3.0, -1.0, 5.0, 3.0, -8.0, 1.0, 0.0, -5.0, 2.0, 6.0, 4.0, -0.0, -2.0, -3.0, 1.0, -4.0, -1.0, 2.0, -2.0, 1.0, 0.0, 3.0, -6.0, 8.0, -4.0, -1.0, 2.0, 4.0, -3.0, -2.0, -9.0, -0.0, -1.0, 6.0, -5.0, -7.0, 1.0, 2.0, 3.0, -4.0, 5.0, -2.0, 4.0, 0.0, -5.0, 1.0, -1.0, -2.0, -3.0, 2.0, 0.0, 3.0, 7.0, 9.0, 1.0, -1.0, -6.0, 0.0, 0.0, 1.0, -1.0, 2.0, -1.0, -2.0, 0.0, 1.0, -0.0, 2.0, -3.0, 3.0, -2.0, 1.0, -1.0, -1.0, -0.0, -2.0, 2.0, -3.0, 1.0, 3.0, -0.0, 2.0, 4.0, -4.0, 1.0, -1.0, -3.0, -2.0, -0.0, 5.0, 3.0, 1.0, 2.0, -1.0, 0.0, -2.0, -4.0, -2.0, 2.0, -3.0, 1.0, 4.0, -1.0, 3.0, -0.0, -5.0, -0.0, -1.0, -3.0, 2.0, 1.0, -2.0, 1.0, 10.0, -1.0, -0.0, -4.0, 3.0, 2.0, 4.0, -1.0, -2.0, -3.0, 0.0, 1.0, 3.0, 5.0, 0.0, 2.0, -2.0, -5.0, -3.0, 1.0, 4.0, -4.0, -1.0, 2.0, 1.0, -0.0, -2.0, 3.0, -8.0, -1.0, 6.0, -3.0, -1.0, 1.0, 2.0, -2.0, 4.0, -6.0, 5.0, 0.0, 3.0, 0.0, 1.0, -4.0, 2.0, -1.0, -3.0, 7.0, 1.0, 0.0, -4.0, -2.0, 0.0, -1.0, 4.0, 3.0, 2.0, 1.0, -5.0, -2.0, -1.0, 0.0, -3.0, 1.0, 6.0, -1.0, 3.0, -2.0, 5.0, 2.0, -10.0, 0.0, 2.0, -4.0, -1.0, 1.0, 8.0, -7.0, 3.0, 0.0, 4.0, -3.0, -6.0, -1.0, -2.0, 1.0, 2.0, -0.0, -0.0, -1.0, -0.0, 1.0, -2.0, 0.0, 1.0, -1.0, 2.0, -0.0, 1.0, -1.0, -2.0, -0.0, -1.0, 2.0, 0.0, 1.0, -2.0, -3.0, 1.0, 3.0, -1.0, 2.0, 0.0, -1.0, -2.0, 1.0, 0.0, -2.0, 3.0, 2.0, -3.0, -1.0, 2.0, 1.0, 0.0, 0.0, -1.0, -3.0, 3.0, -2.0, 1.0, 1.0, 2.0, -0.0, -3.0, -4.0, -2.0, -1.0, -0.0, 0.0, 4.0, 1.0, 2.0, -1.0, -0.0, 1.0, 3.0, -2.0, -1.0, 2.0, -3.0, 3.0, -5.0, -4.0, -2.0, 0.0, 1.0, 2.0, 4.0, -3.0, -0.0, -1.0, 1.0, -2.0, -1.0, 5.0, -1.0, 0.0, 2.0, 1.0, -2.0, 3.0, 2.0, -3.0, -4.0, 4.0, -1.0, 1.0, 0.0, -1.0, 0.0, -2.0, 3.0, 1.0, 1.0, 2.0, -0.0, 0.0, -1.0, -2.0, -3.0, 4.0, -4.0, 3.0, 9.0, -5.0, -0.0, 2.0, -2.0, 1.0, -1.0, 1.0, -3.0, -2.0, 0.0, 2.0, -1.0, 5.0, -0.0, -1.0, 2.0, 1.0, 3.0, -1.0, -3.0, -0.0, -2.0, -0.0, 1.0, -4.0, 3.0, 2.0, -2.0, 2.0, 6.0, -1.0, 1.0, -5.0, 4.0, -3.0, -0.0, 1.0, -1.0, -0.0, 3.0, -2.0, -4.0, 2.0, -0.0, 1.0, -1.0, -2.0, -3.0, 4.0, -6.0, -2.0, 5.0, 1.0, 3.0, -1.0, 0.0, 2.0, -8.0, -3.0, -0.0, 1.0, -1.0, 3.0, 2.0, -4.0, -0.0, 1.0, -2.0, -1.0, 0.0, -9.0, 1.0, -0.0, 0.0, -1.0, 1.0, 0.0, -1.0, -0.0, -0.0, -1.0, 2.0, 1.0, -1.0, -2.0, 1.0, 2.0, -0.0, -0.0, -1.0, 1.0, 2.0, -2.0, 0.0, 1.0, -1.0, -0.0, -2.0, -1.0, 1.0, 2.0, -1.0, -2.0, 1.0, -0.0, -2.0, -3.0, 2.0, 3.0, 1.0, -0.0, -1.0, -3.0, 2.0, 1.0, -1.0, -0.0, -2.0, -1.0, -0.0, 3.0, 2.0, 1.0, -2.0, 1.0, 0.0, -3.0, -1.0, 2.0, -0.0, 1.0, -2.0, -1.0, 3.0, -0.0, -1.0, 2.0, -0.0, 4.0, 1.0, -2.0, 0.0, 1.0, -3.0, -1.0, 2.0, 3.0, 1.0, -2.0, -4.0, 0.0, -1.0, 1.0, -3.0, 2.0, 0.0, -1.0, -2.0, 3.0, 2.0, -0.0, 4.0, -1.0, -2.0, 1.0, -3.0, -1.0, -0.0, 1.0, 2.0, -0.0, 3.0, -2.0, -1.0, 1.0, 0.0, 2.0, 1.0, -4.0, -1.0, -3.0, 3.0, -2.0, -1.0, -0.0, 2.0, 1.0, -0.0, 3.0, 4.0, -2.0, -1.0, 0.0, -3.0, -2.0, 2.0, 1.0, -1.0, 0.0, 1.0, -5.0, -1.0, 1.0, 2.0, 5.0, -0.0, 4.0, -2.0, -0.0, 3.0, 1.0, -3.0, -4.0, -2.0, 2.0, -1.0, 2.0, 0.0, 0.0, -1.0, 1.0, 3.0, -3.0, -2.0, 1.0, -1.0, 10.0, 0.0, -0.0, -1.0, 2.0, -3.0, -4.0, 1.0, -2.0, 3.0, -1.0, 4.0, 1.0, 2.0, 0.0, -2.0, -4.0, 2.0, -5.0, 1.0, -0.0, -10.0, -3.0, -1.0, -2.0, -0.0, 2.0, 1.0, -1.0, 0.0, 1.0, 3.0, -2.0, -1.0, -3.0, -1.0, 7.0, 4.0, 3.0, -0.0, -2.0, 1.0, 2.0, -1.0, 6.0, 1.0, 0.0, 2.0, 8.0, -2.0, 0.0, 0.0, 0.0, 1.0, 0.0, -1.0, -0.0, 1.0, -1.0, -0.0, 1.0, -1.0, -1.0, 1.0, 0.0, -1.0, -0.0, 1.0, -1.0, 0.0, 1.0, 2.0, -2.0, 0.0, -1.0, 1.0, -0.0, 2.0, -2.0, -1.0, 0.0, 1.0, -1.0, 2.0, 0.0, 0.0, -2.0, 1.0, -1.0, 2.0, -0.0, 1.0, -2.0, -1.0, 1.0, 0.0, 2.0, -0.0, 1.0, -3.0, -2.0, -1.0, 1.0, 2.0, -1.0, 3.0, -2.0, -0.0, -1.0, 1.0, 2.0, 0.0, 0.0, 0.0, -1.0, -3.0, 1.0, -2.0, 3.0, -1.0, 1.0, 2.0, -2.0, 2.0, -0.0, 1.0, -1.0, 0.0, 1.0, -2.0, -3.0, -1.0, 3.0, 1.0, 0.0, -2.0, 2.0, 0.0, -1.0, 1.0, 2.0, 0.0, -1.0, -2.0, 0.0, -3.0, 3.0, -1.0, 1.0, 1.0, -2.0, 0.0, -3.0, 2.0, -1.0, -0.0, -1.0, 2.0, 3.0, 1.0, 0.0, -1.0, -2.0, 1.0, -9.0, -1.0, 2.0, 0.0, -2.0, 9.0, 1.0, 2.0, -1.0, -3.0, -7.0, -4.0, 0.0, 1.0, -2.0, 3.0, 0.0, 2.0, 1.0, -1.0, -0.0, -3.0, -1.0, 4.0, -2.0, 1.0, 0.0, 1.0, 3.0, -1.0, 2.0, -0.0, -2.0, -1.0, -3.0, -0.0, 1.0, 3.0, -4.0, -2.0, 2.0, -1.0, 4.0, 1.0, -0.0, -0.0, 2.0, -2.0, -1.0, 1.0, 2.0, 1.0, 0.0, -1.0, 3.0, 0.0, -3.0, -1.0, -2.0, 1.0, -0.0, 2.0, 1.0, -1.0, -0.0, -2.0, -3.0, 0.0, -1.0, 2.0, -2.0, 5.0, 4.0, 3.0, 1.0, -4.0, -0.0, 0.0, -1.0, 1.0, 0.0, -1.0, 2.0, -2.0, -3.0, 1.0, 3.0, 1.0, -1.0, 2.0, -0.0, -2.0, -1.0, 2.0, -4.0, 1.0, -2.0, -3.0, -0.0, -0.0, -1.0, 1.0], 'y': [5.0, 10.0, -2.0, 12.0, 1.0, 15.0, 7.0, -10.0, 0.0, -5.0, -3.0, 2.0, 4.0, 10.0, 3.0, 3.0, -14.0, -8.0, 11.0, -0.0, 15.0, 14.0, 14.0, 8.0, 15.0, 7.0, 13.0, 9.0, 6.0, 15.0, 5.0, -15.0, 12.0, 10.0, -2.0, -12.0, 12.0, -6.0, 8.0, 15.0, 12.0, -4.0, 6.0, -1.0, -9.0, 2.0, 10.0, 14.0, -7.0, -11.0, 4.0, 11.0, 13.0, 8.0, 1.0, 9.0, 5.0, 13.0, 11.0, -3.0, 7.0, 9.0, 4.0, 14.0, 15.0, 13.0, 15.0, 11.0, 14.0, 10.0, 12.0, 8.0, 6.0, 15.0, 13.0, 9.0, 7.0, 15.0, 12.0, 14.0, 10.0, 2.0, -14.0, 11.0, -1.0, 3.0, 5.0, 14.0, -5.0, 12.0, 1.0, -8.0, 8.0, 13.0, 6.0, 9.0, 11.0, -12.0, 12.0, 13.0, 10.0, 15.0, 7.0, 15.0, 14.0, -3.0, 4.0, 11.0, 15.0, 15.0, -0.0, 10.0, -1.0, 2.0, 6.0, 14.0, 8.0, 13.0, 3.0, -4.0, 5.0, 9.0, 15.0, 12.0, -11.0, 11.0, -6.0, 7.0, 13.0, -14.0, 14.0, 9.0, 10.0, 8.0, 12.0, -9.0, 1.0, 15.0, 13.0, 5.0, 11.0, -2.0, 7.0, 14.0, 10.0, 15.0, 12.0, 14.0, 15.0, 15.0, 13.0, 14.0, 11.0, 12.0, 15.0, 9.0, 13.0, 11.0, 4.0, 10.0, 14.0, 15.0, 12.0, 13.0, 9.0, 8.0, 15.0, 3.0, 10.0, 6.0, 12.0, 14.0, -12.0, 11.0, -7.0, 13.0, 14.0, 8.0, 9.0, -4.0, 13.0, 15.0, -15.0, 12.0, 14.0, 11.0, 7.0, -0.0, 10.0, 15.0, 14.0, -13.0, 2.0, -10.0, -2.0, 6.0, 12.0, 10.0, 13.0, 4.0, 11.0, -5.0, 15.0, 12.0, 14.0, 9.0, 15.0, 8.0, 13.0, 11.0, 15.0, 5.0, -6.0, 10.0, 13.0, -3.0, 7.0, 9.0, 12.0, 14.0, -8.0, 6.0, 7.0, 1.0, -1.0, 11.0, 15.0, 14.0, 8.0, 13.0, 15.0, 10.0, 9.0, 12.0, 14.0, 12.0, 11.0, 13.0, -2.0, 3.0, 15.0, 13.0, 14.0, 5.0, -7.0, 7.0, 8.0, 12.0, 11.0, 10.0, -9.0, 4.0, 15.0, 2.0, 13.0, 9.0, -13.0, 15.0, 14.0, 14.0, 15.0, 13.0, 12.0, 14.0, 11.0, 15.0, 13.0, 15.0, 12.0, 10.0, 14.0, 11.0, 12.0, 15.0, 13.0, 14.0, 15.0, 13.0, 10.0, 15.0, 12.0, 9.0, 14.0, 11.0, 13.0, 11.0, 8.0, 14.0, -5.0, 10.0, 12.0, 14.0, 15.0, 13.0, 6.0, 8.0, 11.0, 12.0, 9.0, 15.0, 13.0, 14.0, -15.0, -10.0, 10.0, 15.0, 1.0, -0.0, 13.0, 12.0, 7.0, 10.0, 14.0, -11.0, 11.0, 12.0, 15.0, 14.0, 13.0, 9.0, 11.0, 15.0, -1.0, 12.0, -4.0, 14.0, 13.0, 8.0, 10.0, 15.0, 7.0, 9.0, 14.0, 5.0, 6.0, 13.0, 11.0, 12.0, 15.0, 10.0, 15.0, 14.0, 12.0, -3.0, 13.0, 11.0, 3.0, 13.0, 15.0, -7.0, -13.0, 14.0, 4.0, 14.0, 9.0, -6.0, 12.0, 11.0, 8.0, 15.0, 10.0, 13.0, -14.0, 6.0, 14.0, 9.0, 11.0, 12.0, 2.0, 15.0, 13.0, 10.0, 12.0, 15.0, -9.0, 13.0, 14.0, 8.0, 7.0, 11.0, 5.0, -8.0, 9.0, 14.0, -2.0, -4.0, 15.0, 12.0, 13.0, 15.0, 10.0, -10.0, 14.0, 7.0, 13.0, 3.0, 11.0, 10.0, 8.0, 12.0, 14.0, 15.0, 14.0, 15.0, 15.0, 13.0, 14.0, 15.0, 15.0, 13.0, 14.0, 12.0, 15.0, 12.0, 13.0, 15.0, 11.0, 14.0, 13.0, 14.0, 12.0, 15.0, 11.0, 14.0, 13.0, 15.0, 12.0, 15.0, 11.0, -5.0, 14.0, 10.0, 13.0, 14.0, 12.0, 9.0, 13.0, 15.0, 11.0, 15.0, 13.0, 14.0, 11.0, 15.0, 12.0, 14.0, -0.0, 10.0, 13.0, 12.0, 9.0, 15.0, 15.0, 13.0, 14.0, -1.0, -12.0, 11.0, 12.0, 14.0, 10.0, 15.0, 13.0, 12.0, 15.0, 14.0, 2.0, 13.0, 11.0, 9.0, 10.0, 12.0, 13.0, 4.0, 8.0, 14.0, 1.0, 11.0, -8.0, 15.0, 15.0, 7.0, 14.0, 12.0, 13.0, -11.0, 10.0, -6.0, 14.0, 15.0, 9.0, 11.0, 13.0, 15.0, 12.0, 14.0, 10.0, 11.0, 6.0, 15.0, -3.0, 8.0, 13.0, 12.0, 14.0, 14.0, 13.0, 15.0, 5.0, 15.0, 12.0, 11.0, 14.0, 9.0, 13.0, 12.0, -15.0, 15.0, -14.0, 10.0, 1.0, 13.0, 15.0, 14.0, 14.0, 11.0, 12.0, 9.0, 15.0, 8.0, 10.0, -9.0, 13.0, 15.0, 7.0, 14.0, 12.0, 15.0, 3.0, 11.0, 13.0, 12.0, 6.0, 14.0, 13.0, 10.0, -7.0, 15.0, 11.0, 14.0, 9.0, 15.0, 10.0, 14.0, 13.0, 13.0, 8.0, 12.0, 12.0, 15.0, -2.0, 11.0, 14.0, 7.0, 13.0, 11.0, -13.0, 15.0, 14.0, 12.0, 9.0, 14.0, 10.0, 15.0, 15.0, 12.0, 13.0, 15.0, 14.0, 14.0, 15.0, 15.0, 15.0, 13.0, 14.0, 13.0, 15.0, 14.0, 13.0, 15.0, 15.0, 14.0, 12.0, 13.0, 14.0, 15.0, -4.0, 13.0, 12.0, 14.0, 15.0, 11.0, 14.0, 13.0, 12.0, 11.0, 15.0, 14.0, 12.0, -11.0, 13.0, 13.0, 14.0, 15.0, 15.0, 12.0, 11.0, -5.0, 14.0, 13.0, 14.0, 10.0, 11.0, 13.0, 12.0, 15.0, 15.0, 15.0, 14.0, 12.0, 14.0, -0.0, 13.0, 15.0, 11.0, 14.0, 13.0, 10.0, 12.0, 13.0, 14.0, 4.0, 11.0, 15.0, 9.0, 13.0, 15.0, 12.0, 10.0, 15.0, 14.0, 12.0, 11.0, 14.0, 14.0, -1.0, 13.0, -10.0, 13.0, 15.0, 15.0, 2.0, 8.0, 12.0, 10.0, 14.0, 11.0, 12.0, 15.0, 15.0, 14.0, 13.0, -3.0, 15.0, 13.0, 10.0, 11.0, 9.0, 14.0, 14.0, 12.0, 13.0, 5.0, 15.0, 11.0, 12.0, 14.0, 15.0, 13.0, 9.0, 8.0, -12.0, 15.0, 13.0, 10.0, 14.0, 12.0, 14.0, 15.0, 11.0, 6.0, 13.0, 12.0, 15.0, 14.0, 11.0, -6.0, 15.0, 7.0, -1.0, 13.0, 12.0, 15.0, 14.0, 13.0, 3.0, 15.0, 10.0, 14.0, -5.0, 12.0, 10.0, 11.0, 15.0, -8.0, 9.0, -15.0, 13.0, 4.0, 14.0, 13.0, 14.0, 12.0, 11.0, 1.0, 15.0, 15.0, 8.0, 13.0, 12.0, 14.0, 9.0, 15.0, -2.0, 13.0, 11.0, 14.0, 12.0, 11.0, 10.0, 15.0, 14.0, 13.0, 15.0, 12.0, 14.0, 13.0, 10.0, -9.0, 15.0, 14.0, 12.0, 13.0, -4.0, 15.0, 9.0, 11.0, 14.0, 5.0, 13.0, 12.0, 14.0, 15.0, 10.0, -7.0, 8.0, 14.0, 11.0, 12.0, 0.0, 6.0, 13.0, 15.0, 13.0, 15.0, 15.0, 15.0, 14.0, 14.0, 15.0, 15.0, 14.0, 14.0, 15.0, 13.0, 15.0, 14.0, 14.0, 13.0, 15.0, 13.0, 15.0, 15.0, 14.0, 12.0, 13.0, 14.0, 15.0, 13.0, 12.0, 14.0, 13.0, 14.0, 15.0, 12.0, 15.0, 14.0, 13.0, 15.0, 12.0, 14.0, 11.0, 13.0, 12.0, 15.0, 15.0, 14.0, 14.0, 11.0, 13.0, 15.0, 13.0, 12.0, 15.0, 14.0, 13.0, 12.0, -14.0, 15.0, 14.0, 11.0, 13.0, 15.0, 14.0, 14.0, 12.0, 15.0, 15.0, 11.0, 13.0, 14.0, 12.0, 13.0, 15.0, 14.0, 10.0, 13.0, 2.0, 12.0, 15.0, 14.0, 15.0, 10.0, -13.0, 11.0, 13.0, 15.0, 12.0, 14.0, 11.0, 13.0, 15.0, 14.0, 13.0, 12.0, 15.0, 14.0, 11.0, 15.0, 13.0, 9.0, 12.0, 14.0, 14.0, 13.0, 15.0, 12.0, 11.0, -11.0, 10.0, 14.0, 13.0, 15.0, 15.0, 14.0, 12.0, 13.0, 15.0, 10.0, 14.0, -12.0, 7.0, 11.0, -3.0, 14.0, 13.0, 12.0, 15.0, 13.0, 3.0, 15.0, -6.0, 11.0, 14.0, 12.0, 15.0, 14.0, 9.0, -8.0, 13.0, 10.0, 13.0, 14.0, 12.0, 15.0, 1.0, 11.0, 15.0, 14.0, 12.0, -5.0, -2.0, 14.0, 15.0, 13.0, 12.0, 13.0, 11.0, 9.0, 14.0, 0.0, 15.0, 4.0, 10.0, 14.0, 15.0, 13.0, 15.0, -1.0, 11.0, 15.0, 12.0, 13.0, 14.0, 8.0, 14.0, -10.0, 12.0, 13.0, 15.0, 14.0, 11.0, 15.0, 13.0, 10.0, 15.0, 12.0, 14.0, 13.0, 5.0, 11.0, -9.0, 14.0, 12.0, 15.0, 15.0, 13.0, 15.0, 14.0, 2.0, 13.0, 10.0, 14.0, -4.0, 12.0, 14.0, 9.0, 10.0, 7.0, 12.0, 15.0, 11.0, 13.0, 14.0, 15.0, 13.0, 14.0, 8.0, 11.0, 12.0]}\n"
     ]
    }
   ],
   "source": [
    "print(trial_val.vals)"
   ],
   "metadata": {
    "collapsed": false,
    "ExecuteTime": {
     "end_time": "2024-08-25T09:32:48.280408Z",
     "start_time": "2024-08-25T09:32:48.277566Z"
    }
   },
   "id": "e55837c9c789cc53",
   "execution_count": 21
  },
  {
   "cell_type": "code",
   "outputs": [
    {
     "data": {
      "text/plain": "       x     y  losses\n0   -6.0   5.0   -64.0\n1   -4.0  10.0  -184.0\n2    4.0  -2.0    56.0\n3   -4.0  12.0  -224.0\n4    9.0   1.0    61.0\n..   ...   ...     ...\n995 -3.0  13.0  -251.0\n996 -0.0  14.0  -280.0\n997 -0.0   8.0  -160.0\n998 -1.0  11.0  -219.0\n999  1.0  12.0  -239.0\n\n[1000 rows x 3 columns]",
      "text/html": "<div>\n<style scoped>\n    .dataframe tbody tr th:only-of-type {\n        vertical-align: middle;\n    }\n\n    .dataframe tbody tr th {\n        vertical-align: top;\n    }\n\n    .dataframe thead th {\n        text-align: right;\n    }\n</style>\n<table border=\"1\" class=\"dataframe\">\n  <thead>\n    <tr style=\"text-align: right;\">\n      <th></th>\n      <th>x</th>\n      <th>y</th>\n      <th>losses</th>\n    </tr>\n  </thead>\n  <tbody>\n    <tr>\n      <th>0</th>\n      <td>-6.0</td>\n      <td>5.0</td>\n      <td>-64.0</td>\n    </tr>\n    <tr>\n      <th>1</th>\n      <td>-4.0</td>\n      <td>10.0</td>\n      <td>-184.0</td>\n    </tr>\n    <tr>\n      <th>2</th>\n      <td>4.0</td>\n      <td>-2.0</td>\n      <td>56.0</td>\n    </tr>\n    <tr>\n      <th>3</th>\n      <td>-4.0</td>\n      <td>12.0</td>\n      <td>-224.0</td>\n    </tr>\n    <tr>\n      <th>4</th>\n      <td>9.0</td>\n      <td>1.0</td>\n      <td>61.0</td>\n    </tr>\n    <tr>\n      <th>...</th>\n      <td>...</td>\n      <td>...</td>\n      <td>...</td>\n    </tr>\n    <tr>\n      <th>995</th>\n      <td>-3.0</td>\n      <td>13.0</td>\n      <td>-251.0</td>\n    </tr>\n    <tr>\n      <th>996</th>\n      <td>-0.0</td>\n      <td>14.0</td>\n      <td>-280.0</td>\n    </tr>\n    <tr>\n      <th>997</th>\n      <td>-0.0</td>\n      <td>8.0</td>\n      <td>-160.0</td>\n    </tr>\n    <tr>\n      <th>998</th>\n      <td>-1.0</td>\n      <td>11.0</td>\n      <td>-219.0</td>\n    </tr>\n    <tr>\n      <th>999</th>\n      <td>1.0</td>\n      <td>12.0</td>\n      <td>-239.0</td>\n    </tr>\n  </tbody>\n</table>\n<p>1000 rows × 3 columns</p>\n</div>"
     },
     "execution_count": 22,
     "metadata": {},
     "output_type": "execute_result"
    }
   ],
   "source": [
    "import pandas as pd \n",
    "\n",
    "# results에서 loss 키값에 해당하는 밸류들을 추출하여 list로 생성. \n",
    "losses = [loss_dict['loss'] for loss_dict in trial_val.results]\n",
    "\n",
    "# DataFrame으로 생성. \n",
    "result_df = pd.DataFrame({'x': trial_val.vals['x'],\n",
    "                         'y': trial_val.vals['y'],\n",
    "                          'losses': losses\n",
    "                         }\n",
    "                        )\n",
    "result_df"
   ],
   "metadata": {
    "collapsed": false,
    "ExecuteTime": {
     "end_time": "2024-08-25T09:33:20.005210Z",
     "start_time": "2024-08-25T09:33:19.760459Z"
    }
   },
   "id": "c7ca0fb02f8e0214",
   "execution_count": 22
  },
  {
   "cell_type": "code",
   "outputs": [],
   "source": [
    "import pandas as pd\n",
    "import numpy as np\n",
    "from sklearn.datasets import load_breast_cancer\n",
    "from sklearn.model_selection import train_test_split\n",
    "import warnings\n",
    "warnings.filterwarnings('ignore')\n",
    "\n",
    "dataset = load_breast_cancer()\n",
    "\n",
    "cancer_df = pd.DataFrame(data=dataset.data, columns=dataset.feature_names)\n",
    "cancer_df['target']= dataset.target\n",
    "X_features = cancer_df.iloc[:, :-1]\n",
    "y_label = cancer_df.iloc[:, -1]\n",
    "\n",
    "# 전체 데이터 중 80%는 학습용 데이터, 20%는 테스트용 데이터 추출\n",
    "X_train, X_test, y_train, y_test=train_test_split(X_features, y_label,\n",
    "                                         test_size=0.2, random_state=156 )\n",
    "\n",
    "# 학습 데이터를 다시 학습과 검증 데이터로 분리 \n",
    "X_tr, X_val, y_tr, y_val= train_test_split(X_train, y_train,\n",
    "                                         test_size=0.1, random_state=156 )"
   ],
   "metadata": {
    "collapsed": false,
    "ExecuteTime": {
     "end_time": "2024-08-25T09:34:53.418230Z",
     "start_time": "2024-08-25T09:34:53.268935Z"
    }
   },
   "id": "80d442536eeb2abe",
   "execution_count": 23
  },
  {
   "cell_type": "code",
   "outputs": [],
   "source": [
    "from hyperopt import hp\n",
    "\n",
    "# max_depth는 5에서 20까지 1간격으로, min_child_weight는 1에서 2까지 1간격으로\n",
    "# colsample_bytree는 0.5에서 1사이, learning_rate는 0.01에서 0.2사이 정규 분포된 값으로 검색. \n",
    "xgb_search_space = {'max_depth': hp.quniform('max_depth', 5, 20, 1),\n",
    "                    'min_child_weight': hp.quniform('min_child_weight', 1, 2, 1),\n",
    "                    'learning_rate': hp.uniform('learning_rate', 0.01, 0.2),\n",
    "                    'colsample_bytree': hp.uniform('colsample_bytree', 0.5, 1)\n",
    "               }"
   ],
   "metadata": {
    "collapsed": false,
    "ExecuteTime": {
     "end_time": "2024-08-25T14:51:44.815463Z",
     "start_time": "2024-08-25T14:51:44.806011Z"
    }
   },
   "id": "95fb09877f499f86",
   "execution_count": 25
  },
  {
   "cell_type": "code",
   "outputs": [],
   "source": [
    "from sklearn.model_selection import cross_val_score\n",
    "from xgboost import XGBClassifier\n",
    "from hyperopt import STATUS_OK\n",
    "\n",
    "# fmin()에서 입력된 search_space값으로 입력된 모든 값은 실수형임. \n",
    "# XGBClassifier의 정수형 하이퍼 파라미터는 정수형 변환을 해줘야 함. \n",
    "# 정확도는 높은 수록 더 좋은 수치임. -1* 정확도를 곱해서 큰 정확도 값일 수록 최소가 되도록 변환\n",
    "def objective_func(search_space):\n",
    "    # 수행 시간 절약을 위해 n_estimators는 100으로 축소\n",
    "    xgb_clf = XGBClassifier(n_estimators=100, max_depth=int(search_space['max_depth']),\n",
    "                            min_child_weight=int(search_space['min_child_weight']),\n",
    "                            learning_rate=search_space['learning_rate'],\n",
    "                            colsample_bytree=search_space['colsample_bytree'], \n",
    "                            eval_metric='logloss')\n",
    "    \n",
    "    accuracy = cross_val_score(xgb_clf, X_train, y_train, scoring='accuracy', cv=3)\n",
    "        \n",
    "    # accuracy는 cv=3 개수만큼의 정확도 결과를 가지므로 이를 평균해서 반환하되 -1을 곱해줌. \n",
    "    return {'loss':-1 * np.mean(accuracy), 'status': STATUS_OK}"
   ],
   "metadata": {
    "collapsed": false,
    "ExecuteTime": {
     "end_time": "2024-08-25T14:51:52.505892Z",
     "start_time": "2024-08-25T14:51:52.474136Z"
    }
   },
   "id": "448d26cc9805a70f",
   "execution_count": 26
  },
  {
   "cell_type": "code",
   "outputs": [
    {
     "name": "stdout",
     "output_type": "stream",
     "text": [
      "100%|██████████| 50/50 [00:11<00:00,  4.43trial/s, best loss: -0.9648541884512606]\n",
      "best: {'colsample_bytree': 0.6743364060621724, 'learning_rate': 0.14239187540914813, 'max_depth': 16.0, 'min_child_weight': 2.0}\n"
     ]
    }
   ],
   "source": [
    "from hyperopt import fmin, tpe, Trials\n",
    "\n",
    "trial_val = Trials()\n",
    "best = fmin(fn=objective_func,\n",
    "            space=xgb_search_space,\n",
    "            algo=tpe.suggest,\n",
    "            max_evals=50, # 최대 반복 횟수를 지정합니다.\n",
    "            trials=trial_val, rstate=np.random.default_rng(seed=9))\n",
    "print('best:', best)"
   ],
   "metadata": {
    "collapsed": false,
    "ExecuteTime": {
     "end_time": "2024-08-25T14:52:10.076392Z",
     "start_time": "2024-08-25T14:51:58.772683Z"
    }
   },
   "id": "305149544d34e0a3",
   "execution_count": 27
  },
  {
   "cell_type": "code",
   "outputs": [
    {
     "name": "stdout",
     "output_type": "stream",
     "text": [
      "colsample_bytree:0.67434, learning_rate:0.14239, max_depth:16, min_child_weight:2\n"
     ]
    }
   ],
   "source": [
    "print('colsample_bytree:{0}, learning_rate:{1}, max_depth:{2}, min_child_weight:{3}'.format(\n",
    "                        round(best['colsample_bytree'], 5), round(best['learning_rate'], 5),\n",
    "                        int(best['max_depth']), int(best['min_child_weight'])))"
   ],
   "metadata": {
    "collapsed": false,
    "ExecuteTime": {
     "end_time": "2024-08-25T14:53:27.903883Z",
     "start_time": "2024-08-25T14:53:27.901659Z"
    }
   },
   "id": "5aae09798a174431",
   "execution_count": 28
  },
  {
   "cell_type": "code",
   "outputs": [],
   "source": [
    "from sklearn.metrics import confusion_matrix, accuracy_score\n",
    "from sklearn.metrics import precision_score, recall_score\n",
    "from sklearn.metrics import f1_score, roc_auc_score\n",
    "\n",
    "def get_clf_eval(y_test, pred=None, pred_proba=None):\n",
    "    confusion = confusion_matrix( y_test, pred)\n",
    "    accuracy = accuracy_score(y_test , pred)\n",
    "    precision = precision_score(y_test , pred)\n",
    "    recall = recall_score(y_test , pred)\n",
    "    f1 = f1_score(y_test,pred)\n",
    "    # ROC-AUC 추가 \n",
    "    roc_auc = roc_auc_score(y_test, pred_proba)\n",
    "    print('오차 행렬')\n",
    "    print(confusion)\n",
    "    # ROC-AUC print 추가\n",
    "    print('정확도: {0:.4f}, 정밀도: {1:.4f}, 재현율: {2:.4f},\\\n",
    "    F1: {3:.4f}, AUC:{4:.4f}'.format(accuracy, precision, recall, f1, roc_auc))"
   ],
   "metadata": {
    "collapsed": false,
    "ExecuteTime": {
     "end_time": "2024-08-25T14:53:45.051881Z",
     "start_time": "2024-08-25T14:53:45.049171Z"
    }
   },
   "id": "a8e3061e44ea0dd2",
   "execution_count": 29
  },
  {
   "cell_type": "code",
   "outputs": [
    {
     "name": "stdout",
     "output_type": "stream",
     "text": [
      "[0]\tvalidation_0-logloss:0.55456\tvalidation_1-logloss:0.57763\n",
      "[1]\tvalidation_0-logloss:0.47162\tvalidation_1-logloss:0.51353\n",
      "[2]\tvalidation_0-logloss:0.40552\tvalidation_1-logloss:0.47397\n",
      "[3]\tvalidation_0-logloss:0.35030\tvalidation_1-logloss:0.43285\n",
      "[4]\tvalidation_0-logloss:0.30548\tvalidation_1-logloss:0.40387\n",
      "[5]\tvalidation_0-logloss:0.26818\tvalidation_1-logloss:0.37609\n",
      "[6]\tvalidation_0-logloss:0.23708\tvalidation_1-logloss:0.35723\n",
      "[7]\tvalidation_0-logloss:0.21178\tvalidation_1-logloss:0.33985\n",
      "[8]\tvalidation_0-logloss:0.18935\tvalidation_1-logloss:0.32521\n",
      "[9]\tvalidation_0-logloss:0.17084\tvalidation_1-logloss:0.31862\n",
      "[10]\tvalidation_0-logloss:0.15438\tvalidation_1-logloss:0.30917\n",
      "[11]\tvalidation_0-logloss:0.14001\tvalidation_1-logloss:0.29975\n",
      "[12]\tvalidation_0-logloss:0.12827\tvalidation_1-logloss:0.29311\n",
      "[13]\tvalidation_0-logloss:0.11671\tvalidation_1-logloss:0.28698\n",
      "[14]\tvalidation_0-logloss:0.10693\tvalidation_1-logloss:0.28265\n",
      "[15]\tvalidation_0-logloss:0.09943\tvalidation_1-logloss:0.27860\n",
      "[16]\tvalidation_0-logloss:0.09234\tvalidation_1-logloss:0.27509\n",
      "[17]\tvalidation_0-logloss:0.08485\tvalidation_1-logloss:0.26845\n",
      "[18]\tvalidation_0-logloss:0.07782\tvalidation_1-logloss:0.26557\n",
      "[19]\tvalidation_0-logloss:0.07344\tvalidation_1-logloss:0.26429\n",
      "[20]\tvalidation_0-logloss:0.06891\tvalidation_1-logloss:0.25950\n",
      "[21]\tvalidation_0-logloss:0.06433\tvalidation_1-logloss:0.25823\n",
      "[22]\tvalidation_0-logloss:0.06002\tvalidation_1-logloss:0.25623\n",
      "[23]\tvalidation_0-logloss:0.05692\tvalidation_1-logloss:0.25646\n",
      "[24]\tvalidation_0-logloss:0.05339\tvalidation_1-logloss:0.25664\n",
      "[25]\tvalidation_0-logloss:0.05022\tvalidation_1-logloss:0.25535\n",
      "[26]\tvalidation_0-logloss:0.04735\tvalidation_1-logloss:0.25407\n",
      "[27]\tvalidation_0-logloss:0.04501\tvalidation_1-logloss:0.24970\n",
      "[28]\tvalidation_0-logloss:0.04293\tvalidation_1-logloss:0.24998\n",
      "[29]\tvalidation_0-logloss:0.04136\tvalidation_1-logloss:0.24721\n",
      "[30]\tvalidation_0-logloss:0.03986\tvalidation_1-logloss:0.24750\n",
      "[31]\tvalidation_0-logloss:0.03788\tvalidation_1-logloss:0.24876\n",
      "[32]\tvalidation_0-logloss:0.03669\tvalidation_1-logloss:0.24989\n",
      "[33]\tvalidation_0-logloss:0.03538\tvalidation_1-logloss:0.24825\n",
      "[34]\tvalidation_0-logloss:0.03401\tvalidation_1-logloss:0.24922\n",
      "[35]\tvalidation_0-logloss:0.03316\tvalidation_1-logloss:0.24586\n",
      "[36]\tvalidation_0-logloss:0.03213\tvalidation_1-logloss:0.24135\n",
      "[37]\tvalidation_0-logloss:0.03141\tvalidation_1-logloss:0.23880\n",
      "[38]\tvalidation_0-logloss:0.03010\tvalidation_1-logloss:0.24069\n",
      "[39]\tvalidation_0-logloss:0.02937\tvalidation_1-logloss:0.24142\n",
      "[40]\tvalidation_0-logloss:0.02867\tvalidation_1-logloss:0.23831\n",
      "[41]\tvalidation_0-logloss:0.02813\tvalidation_1-logloss:0.24167\n",
      "[42]\tvalidation_0-logloss:0.02756\tvalidation_1-logloss:0.23891\n",
      "[43]\tvalidation_0-logloss:0.02695\tvalidation_1-logloss:0.23933\n",
      "[44]\tvalidation_0-logloss:0.02647\tvalidation_1-logloss:0.24154\n",
      "[45]\tvalidation_0-logloss:0.02592\tvalidation_1-logloss:0.24161\n",
      "[46]\tvalidation_0-logloss:0.02551\tvalidation_1-logloss:0.24260\n",
      "[47]\tvalidation_0-logloss:0.02527\tvalidation_1-logloss:0.24098\n",
      "[48]\tvalidation_0-logloss:0.02476\tvalidation_1-logloss:0.24252\n",
      "[49]\tvalidation_0-logloss:0.02442\tvalidation_1-logloss:0.24470\n",
      "[50]\tvalidation_0-logloss:0.02422\tvalidation_1-logloss:0.24323\n",
      "[51]\tvalidation_0-logloss:0.02402\tvalidation_1-logloss:0.24275\n",
      "[52]\tvalidation_0-logloss:0.02366\tvalidation_1-logloss:0.24325\n",
      "[53]\tvalidation_0-logloss:0.02347\tvalidation_1-logloss:0.24183\n",
      "[54]\tvalidation_0-logloss:0.02330\tvalidation_1-logloss:0.24142\n",
      "[55]\tvalidation_0-logloss:0.02289\tvalidation_1-logloss:0.24177\n",
      "[56]\tvalidation_0-logloss:0.02249\tvalidation_1-logloss:0.23923\n",
      "[57]\tvalidation_0-logloss:0.02216\tvalidation_1-logloss:0.23784\n",
      "[58]\tvalidation_0-logloss:0.02202\tvalidation_1-logloss:0.23792\n",
      "[59]\tvalidation_0-logloss:0.02183\tvalidation_1-logloss:0.23973\n",
      "[60]\tvalidation_0-logloss:0.02167\tvalidation_1-logloss:0.24140\n",
      "[61]\tvalidation_0-logloss:0.02153\tvalidation_1-logloss:0.24014\n",
      "[62]\tvalidation_0-logloss:0.02139\tvalidation_1-logloss:0.23981\n",
      "[63]\tvalidation_0-logloss:0.02116\tvalidation_1-logloss:0.24014\n",
      "[64]\tvalidation_0-logloss:0.02102\tvalidation_1-logloss:0.24175\n",
      "[65]\tvalidation_0-logloss:0.02090\tvalidation_1-logloss:0.23936\n",
      "[66]\tvalidation_0-logloss:0.02077\tvalidation_1-logloss:0.23942\n",
      "[67]\tvalidation_0-logloss:0.02064\tvalidation_1-logloss:0.23823\n",
      "[68]\tvalidation_0-logloss:0.02051\tvalidation_1-logloss:0.23983\n",
      "[69]\tvalidation_0-logloss:0.02040\tvalidation_1-logloss:0.23957\n",
      "[70]\tvalidation_0-logloss:0.02029\tvalidation_1-logloss:0.24013\n",
      "[71]\tvalidation_0-logloss:0.02018\tvalidation_1-logloss:0.23895\n",
      "[72]\tvalidation_0-logloss:0.02007\tvalidation_1-logloss:0.23886\n",
      "[73]\tvalidation_0-logloss:0.01995\tvalidation_1-logloss:0.24041\n",
      "[74]\tvalidation_0-logloss:0.01985\tvalidation_1-logloss:0.24014\n",
      "[75]\tvalidation_0-logloss:0.01974\tvalidation_1-logloss:0.23905\n",
      "[76]\tvalidation_0-logloss:0.01964\tvalidation_1-logloss:0.24054\n",
      "[77]\tvalidation_0-logloss:0.01953\tvalidation_1-logloss:0.23835\n",
      "[78]\tvalidation_0-logloss:0.01944\tvalidation_1-logloss:0.23811\n",
      "[79]\tvalidation_0-logloss:0.01934\tvalidation_1-logloss:0.23700\n",
      "[80]\tvalidation_0-logloss:0.01925\tvalidation_1-logloss:0.23705\n",
      "[81]\tvalidation_0-logloss:0.01916\tvalidation_1-logloss:0.23755\n",
      "[82]\tvalidation_0-logloss:0.01906\tvalidation_1-logloss:0.23529\n",
      "[83]\tvalidation_0-logloss:0.01896\tvalidation_1-logloss:0.23678\n",
      "[84]\tvalidation_0-logloss:0.01888\tvalidation_1-logloss:0.23471\n",
      "[85]\tvalidation_0-logloss:0.01879\tvalidation_1-logloss:0.23609\n",
      "[86]\tvalidation_0-logloss:0.01870\tvalidation_1-logloss:0.23504\n",
      "[87]\tvalidation_0-logloss:0.01861\tvalidation_1-logloss:0.23509\n",
      "[88]\tvalidation_0-logloss:0.01853\tvalidation_1-logloss:0.23561\n",
      "[89]\tvalidation_0-logloss:0.01844\tvalidation_1-logloss:0.23459\n",
      "[90]\tvalidation_0-logloss:0.01836\tvalidation_1-logloss:0.23266\n",
      "[91]\tvalidation_0-logloss:0.01828\tvalidation_1-logloss:0.23402\n",
      "[92]\tvalidation_0-logloss:0.01820\tvalidation_1-logloss:0.23410\n",
      "[93]\tvalidation_0-logloss:0.01811\tvalidation_1-logloss:0.23313\n",
      "[94]\tvalidation_0-logloss:0.01804\tvalidation_1-logloss:0.23308\n",
      "[95]\tvalidation_0-logloss:0.01796\tvalidation_1-logloss:0.23282\n",
      "[96]\tvalidation_0-logloss:0.01788\tvalidation_1-logloss:0.23188\n",
      "[97]\tvalidation_0-logloss:0.01781\tvalidation_1-logloss:0.23268\n",
      "[98]\tvalidation_0-logloss:0.01773\tvalidation_1-logloss:0.23063\n",
      "[99]\tvalidation_0-logloss:0.01766\tvalidation_1-logloss:0.22885\n",
      "[100]\tvalidation_0-logloss:0.01759\tvalidation_1-logloss:0.22966\n",
      "[101]\tvalidation_0-logloss:0.01752\tvalidation_1-logloss:0.22774\n",
      "[102]\tvalidation_0-logloss:0.01745\tvalidation_1-logloss:0.22770\n",
      "[103]\tvalidation_0-logloss:0.01738\tvalidation_1-logloss:0.22683\n",
      "[104]\tvalidation_0-logloss:0.01732\tvalidation_1-logloss:0.22509\n",
      "[105]\tvalidation_0-logloss:0.01725\tvalidation_1-logloss:0.22484\n",
      "[106]\tvalidation_0-logloss:0.01718\tvalidation_1-logloss:0.22565\n",
      "[107]\tvalidation_0-logloss:0.01712\tvalidation_1-logloss:0.22704\n",
      "[108]\tvalidation_0-logloss:0.01706\tvalidation_1-logloss:0.22710\n",
      "[109]\tvalidation_0-logloss:0.01700\tvalidation_1-logloss:0.22708\n",
      "[110]\tvalidation_0-logloss:0.01693\tvalidation_1-logloss:0.22524\n",
      "[111]\tvalidation_0-logloss:0.01687\tvalidation_1-logloss:0.22597\n",
      "[112]\tvalidation_0-logloss:0.01681\tvalidation_1-logloss:0.22426\n",
      "[113]\tvalidation_0-logloss:0.01675\tvalidation_1-logloss:0.22436\n",
      "[114]\tvalidation_0-logloss:0.01669\tvalidation_1-logloss:0.22260\n",
      "[115]\tvalidation_0-logloss:0.01663\tvalidation_1-logloss:0.22237\n",
      "[116]\tvalidation_0-logloss:0.01657\tvalidation_1-logloss:0.22155\n",
      "[117]\tvalidation_0-logloss:0.01651\tvalidation_1-logloss:0.22228\n",
      "[118]\tvalidation_0-logloss:0.01646\tvalidation_1-logloss:0.22233\n",
      "[119]\tvalidation_0-logloss:0.01640\tvalidation_1-logloss:0.22370\n",
      "[120]\tvalidation_0-logloss:0.01635\tvalidation_1-logloss:0.22207\n",
      "[121]\tvalidation_0-logloss:0.01629\tvalidation_1-logloss:0.22221\n",
      "[122]\tvalidation_0-logloss:0.01624\tvalidation_1-logloss:0.22146\n",
      "[123]\tvalidation_0-logloss:0.01618\tvalidation_1-logloss:0.22149\n",
      "[124]\tvalidation_0-logloss:0.01613\tvalidation_1-logloss:0.21992\n",
      "[125]\tvalidation_0-logloss:0.01608\tvalidation_1-logloss:0.21997\n",
      "[126]\tvalidation_0-logloss:0.01603\tvalidation_1-logloss:0.22074\n",
      "[127]\tvalidation_0-logloss:0.01597\tvalidation_1-logloss:0.21915\n",
      "[128]\tvalidation_0-logloss:0.01592\tvalidation_1-logloss:0.22049\n",
      "[129]\tvalidation_0-logloss:0.01587\tvalidation_1-logloss:0.21899\n",
      "[130]\tvalidation_0-logloss:0.01582\tvalidation_1-logloss:0.21904\n",
      "[131]\tvalidation_0-logloss:0.01578\tvalidation_1-logloss:0.21975\n",
      "[132]\tvalidation_0-logloss:0.01573\tvalidation_1-logloss:0.21904\n",
      "[133]\tvalidation_0-logloss:0.01568\tvalidation_1-logloss:0.21876\n",
      "[134]\tvalidation_0-logloss:0.01563\tvalidation_1-logloss:0.21880\n",
      "[135]\tvalidation_0-logloss:0.01559\tvalidation_1-logloss:0.22009\n",
      "[136]\tvalidation_0-logloss:0.01554\tvalidation_1-logloss:0.21862\n",
      "[137]\tvalidation_0-logloss:0.01549\tvalidation_1-logloss:0.21935\n",
      "[138]\tvalidation_0-logloss:0.01545\tvalidation_1-logloss:0.21954\n",
      "[139]\tvalidation_0-logloss:0.01540\tvalidation_1-logloss:0.21810\n",
      "[140]\tvalidation_0-logloss:0.01535\tvalidation_1-logloss:0.21790\n",
      "[141]\tvalidation_0-logloss:0.01531\tvalidation_1-logloss:0.21808\n",
      "[142]\tvalidation_0-logloss:0.01527\tvalidation_1-logloss:0.21742\n",
      "[143]\tvalidation_0-logloss:0.01523\tvalidation_1-logloss:0.21715\n",
      "[144]\tvalidation_0-logloss:0.01518\tvalidation_1-logloss:0.21791\n",
      "[145]\tvalidation_0-logloss:0.01514\tvalidation_1-logloss:0.21734\n",
      "[146]\tvalidation_0-logloss:0.01510\tvalidation_1-logloss:0.21854\n",
      "[147]\tvalidation_0-logloss:0.01506\tvalidation_1-logloss:0.21857\n",
      "[148]\tvalidation_0-logloss:0.01502\tvalidation_1-logloss:0.21877\n",
      "[149]\tvalidation_0-logloss:0.01497\tvalidation_1-logloss:0.21739\n",
      "[150]\tvalidation_0-logloss:0.01493\tvalidation_1-logloss:0.21810\n",
      "[151]\tvalidation_0-logloss:0.01489\tvalidation_1-logloss:0.21791\n",
      "[152]\tvalidation_0-logloss:0.01486\tvalidation_1-logloss:0.21666\n",
      "[153]\tvalidation_0-logloss:0.01482\tvalidation_1-logloss:0.21686\n",
      "[154]\tvalidation_0-logloss:0.01478\tvalidation_1-logloss:0.21806\n",
      "[155]\tvalidation_0-logloss:0.01474\tvalidation_1-logloss:0.21744\n",
      "[156]\tvalidation_0-logloss:0.01471\tvalidation_1-logloss:0.21888\n",
      "[157]\tvalidation_0-logloss:0.01467\tvalidation_1-logloss:0.21860\n",
      "[158]\tvalidation_0-logloss:0.01463\tvalidation_1-logloss:0.21934\n",
      "[159]\tvalidation_0-logloss:0.01459\tvalidation_1-logloss:0.21806\n",
      "[160]\tvalidation_0-logloss:0.01456\tvalidation_1-logloss:0.21846\n",
      "[161]\tvalidation_0-logloss:0.01452\tvalidation_1-logloss:0.21787\n",
      "[162]\tvalidation_0-logloss:0.01449\tvalidation_1-logloss:0.21858\n",
      "[163]\tvalidation_0-logloss:0.01445\tvalidation_1-logloss:0.21799\n",
      "[164]\tvalidation_0-logloss:0.01442\tvalidation_1-logloss:0.21821\n",
      "[165]\tvalidation_0-logloss:0.01438\tvalidation_1-logloss:0.21793\n",
      "[166]\tvalidation_0-logloss:0.01435\tvalidation_1-logloss:0.21749\n",
      "[167]\tvalidation_0-logloss:0.01431\tvalidation_1-logloss:0.21863\n",
      "[168]\tvalidation_0-logloss:0.01428\tvalidation_1-logloss:0.21747\n",
      "[169]\tvalidation_0-logloss:0.01425\tvalidation_1-logloss:0.21770\n",
      "[170]\tvalidation_0-logloss:0.01421\tvalidation_1-logloss:0.21745\n",
      "[171]\tvalidation_0-logloss:0.01418\tvalidation_1-logloss:0.21815\n",
      "[172]\tvalidation_0-logloss:0.01415\tvalidation_1-logloss:0.21759\n",
      "[173]\tvalidation_0-logloss:0.01412\tvalidation_1-logloss:0.21894\n",
      "[174]\tvalidation_0-logloss:0.01409\tvalidation_1-logloss:0.22002\n",
      "[175]\tvalidation_0-logloss:0.01406\tvalidation_1-logloss:0.21941\n",
      "[176]\tvalidation_0-logloss:0.01403\tvalidation_1-logloss:0.21968\n",
      "[177]\tvalidation_0-logloss:0.01400\tvalidation_1-logloss:0.21913\n",
      "[178]\tvalidation_0-logloss:0.01397\tvalidation_1-logloss:0.21936\n",
      "[179]\tvalidation_0-logloss:0.01393\tvalidation_1-logloss:0.21910\n",
      "[180]\tvalidation_0-logloss:0.01391\tvalidation_1-logloss:0.21980\n",
      "[181]\tvalidation_0-logloss:0.01388\tvalidation_1-logloss:0.21927\n",
      "[182]\tvalidation_0-logloss:0.01385\tvalidation_1-logloss:0.21903\n",
      "[183]\tvalidation_0-logloss:0.01382\tvalidation_1-logloss:0.22008\n",
      "[184]\tvalidation_0-logloss:0.01380\tvalidation_1-logloss:0.22031\n",
      "[185]\tvalidation_0-logloss:0.01377\tvalidation_1-logloss:0.22009\n",
      "[186]\tvalidation_0-logloss:0.01374\tvalidation_1-logloss:0.21970\n",
      "[187]\tvalidation_0-logloss:0.01371\tvalidation_1-logloss:0.22036\n",
      "[188]\tvalidation_0-logloss:0.01369\tvalidation_1-logloss:0.22016\n",
      "[189]\tvalidation_0-logloss:0.01366\tvalidation_1-logloss:0.21965\n",
      "[190]\tvalidation_0-logloss:0.01364\tvalidation_1-logloss:0.21987\n",
      "[191]\tvalidation_0-logloss:0.01361\tvalidation_1-logloss:0.21963\n",
      "[192]\tvalidation_0-logloss:0.01359\tvalidation_1-logloss:0.22029\n",
      "[193]\tvalidation_0-logloss:0.01356\tvalidation_1-logloss:0.21979\n",
      "[194]\tvalidation_0-logloss:0.01354\tvalidation_1-logloss:0.21945\n",
      "[195]\tvalidation_0-logloss:0.01351\tvalidation_1-logloss:0.21921\n",
      "[196]\tvalidation_0-logloss:0.01349\tvalidation_1-logloss:0.21877\n",
      "[197]\tvalidation_0-logloss:0.01347\tvalidation_1-logloss:0.21855\n",
      "[198]\tvalidation_0-logloss:0.01344\tvalidation_1-logloss:0.21880\n",
      "[199]\tvalidation_0-logloss:0.01342\tvalidation_1-logloss:0.21946\n",
      "[200]\tvalidation_0-logloss:0.01339\tvalidation_1-logloss:0.21913\n",
      "[201]\tvalidation_0-logloss:0.01337\tvalidation_1-logloss:0.21937\n",
      "[202]\tvalidation_0-logloss:0.01335\tvalidation_1-logloss:0.21916\n",
      "오차 행렬\n",
      "[[35  2]\n",
      " [ 2 75]]\n",
      "정확도: 0.9649, 정밀도: 0.9740, 재현율: 0.9740,    F1: 0.9740, AUC:0.9940\n"
     ]
    }
   ],
   "source": [
    "xgb_wrapper = XGBClassifier(n_estimators=400, learning_rate=round(best['learning_rate'], 5), \n",
    "                            max_depth=int(best['max_depth']), min_child_weight=int(best['min_child_weight']),\n",
    "                            early_stopping_rounds=50, \n",
    "                            colsample_bytree=round(best['colsample_bytree'], 5)\n",
    "                           )\n",
    "\n",
    "evals = [(X_tr, y_tr), (X_val, y_val)]\n",
    "xgb_wrapper.fit(X_tr, y_tr,\n",
    "                eval_set=evals, verbose=True)\n",
    "\n",
    "preds = xgb_wrapper.predict(X_test)\n",
    "pred_proba = xgb_wrapper.predict_proba(X_test)[:, 1]\n",
    "\n",
    "get_clf_eval(y_test, preds, pred_proba)"
   ],
   "metadata": {
    "collapsed": false,
    "ExecuteTime": {
     "end_time": "2024-08-25T14:54:13.093438Z",
     "start_time": "2024-08-25T14:54:12.750170Z"
    }
   },
   "id": "4abbf5297883a1fd",
   "execution_count": 32
  },
  {
   "cell_type": "code",
   "outputs": [
    {
     "data": {
      "text/plain": "    max_depth  min_child_weight  colsample_bytree  learning_rate    losses\n0        19.0               2.0          0.585235       0.033688 -0.947296\n1         5.0               2.0          0.727186       0.105956 -0.958275\n2         6.0               2.0          0.959945       0.154804 -0.960454\n3         6.0               2.0          0.950012       0.120686 -0.960468\n4        16.0               2.0          0.674336       0.142392 -0.964854\n5         8.0               2.0          0.863774       0.106579 -0.958275\n6        14.0               2.0          0.957521       0.079111 -0.956082\n7        19.0               2.0          0.695018       0.095213 -0.960483\n8         9.0               2.0          0.684442       0.147520 -0.960483\n9         8.0               1.0          0.592116       0.081179 -0.958290\n10        6.0               2.0          0.614798       0.076255 -0.960483\n11        7.0               2.0          0.776738       0.089624 -0.962676\n12        8.0               2.0          0.514772       0.092214 -0.960483\n13       19.0               1.0          0.949783       0.083983 -0.949503\n14       10.0               1.0          0.926121       0.112477 -0.949503\n15        6.0               2.0          0.570990       0.064663 -0.958290\n16        7.0               2.0          0.884549       0.042766 -0.953904\n17       18.0               2.0          0.548302       0.184028 -0.960468\n18        6.0               2.0          0.910278       0.133006 -0.958261\n19        9.0               2.0          0.532501       0.091771 -0.960483\n20       15.0               1.0          0.813570       0.189043 -0.958290\n21       12.0               1.0          0.766711       0.154057 -0.962676\n22       12.0               1.0          0.647222       0.162628 -0.962661\n23       16.0               2.0          0.790628       0.055192 -0.951696\n24       17.0               2.0          0.813718       0.011072 -0.940717\n25       14.0               2.0          0.721848       0.126014 -0.960468\n26       12.0               1.0          0.653973       0.171861 -0.960483\n27       11.0               2.0          0.832993       0.138894 -0.960468\n28       17.0               2.0          0.755943       0.040738 -0.949503\n29       13.0               1.0          0.641440       0.173422 -0.962676\n30       14.0               1.0          0.624455       0.175341 -0.962661\n31       13.0               1.0          0.722442       0.192232 -0.962676\n32       16.0               1.0          0.724079       0.195664 -0.962676\n33       20.0               1.0          0.675185       0.195456 -0.962676\n34       20.0               1.0          0.671895       0.143404 -0.953889\n35       16.0               1.0          0.992730       0.161850 -0.953889\n36       18.0               1.0          0.591854       0.115272 -0.956097\n37       13.0               1.0          0.700742       0.126307 -0.958290\n38       15.0               1.0          0.734703       0.199356 -0.960483\n39       20.0               2.0          0.558528       0.102859 -0.953889\n40       18.0               1.0          0.849342       0.183067 -0.960483\n41       10.0               2.0          0.783361       0.015392 -0.936331\n42       19.0               2.0          0.619606       0.153129 -0.962661\n43       15.0               1.0          0.770935       0.160257 -0.960483\n44       11.0               2.0          0.879004       0.102915 -0.953875\n45       11.0               1.0          0.643013       0.136868 -0.953904\n46       16.0               2.0          0.703787       0.147665 -0.962676\n47       17.0               2.0          0.516999       0.067299 -0.958290\n48       15.0               2.0          0.696660       0.117622 -0.960483\n49       18.0               2.0          0.602416       0.146912 -0.960468",
      "text/html": "<div>\n<style scoped>\n    .dataframe tbody tr th:only-of-type {\n        vertical-align: middle;\n    }\n\n    .dataframe tbody tr th {\n        vertical-align: top;\n    }\n\n    .dataframe thead th {\n        text-align: right;\n    }\n</style>\n<table border=\"1\" class=\"dataframe\">\n  <thead>\n    <tr style=\"text-align: right;\">\n      <th></th>\n      <th>max_depth</th>\n      <th>min_child_weight</th>\n      <th>colsample_bytree</th>\n      <th>learning_rate</th>\n      <th>losses</th>\n    </tr>\n  </thead>\n  <tbody>\n    <tr>\n      <th>0</th>\n      <td>19.0</td>\n      <td>2.0</td>\n      <td>0.585235</td>\n      <td>0.033688</td>\n      <td>-0.947296</td>\n    </tr>\n    <tr>\n      <th>1</th>\n      <td>5.0</td>\n      <td>2.0</td>\n      <td>0.727186</td>\n      <td>0.105956</td>\n      <td>-0.958275</td>\n    </tr>\n    <tr>\n      <th>2</th>\n      <td>6.0</td>\n      <td>2.0</td>\n      <td>0.959945</td>\n      <td>0.154804</td>\n      <td>-0.960454</td>\n    </tr>\n    <tr>\n      <th>3</th>\n      <td>6.0</td>\n      <td>2.0</td>\n      <td>0.950012</td>\n      <td>0.120686</td>\n      <td>-0.960468</td>\n    </tr>\n    <tr>\n      <th>4</th>\n      <td>16.0</td>\n      <td>2.0</td>\n      <td>0.674336</td>\n      <td>0.142392</td>\n      <td>-0.964854</td>\n    </tr>\n    <tr>\n      <th>5</th>\n      <td>8.0</td>\n      <td>2.0</td>\n      <td>0.863774</td>\n      <td>0.106579</td>\n      <td>-0.958275</td>\n    </tr>\n    <tr>\n      <th>6</th>\n      <td>14.0</td>\n      <td>2.0</td>\n      <td>0.957521</td>\n      <td>0.079111</td>\n      <td>-0.956082</td>\n    </tr>\n    <tr>\n      <th>7</th>\n      <td>19.0</td>\n      <td>2.0</td>\n      <td>0.695018</td>\n      <td>0.095213</td>\n      <td>-0.960483</td>\n    </tr>\n    <tr>\n      <th>8</th>\n      <td>9.0</td>\n      <td>2.0</td>\n      <td>0.684442</td>\n      <td>0.147520</td>\n      <td>-0.960483</td>\n    </tr>\n    <tr>\n      <th>9</th>\n      <td>8.0</td>\n      <td>1.0</td>\n      <td>0.592116</td>\n      <td>0.081179</td>\n      <td>-0.958290</td>\n    </tr>\n    <tr>\n      <th>10</th>\n      <td>6.0</td>\n      <td>2.0</td>\n      <td>0.614798</td>\n      <td>0.076255</td>\n      <td>-0.960483</td>\n    </tr>\n    <tr>\n      <th>11</th>\n      <td>7.0</td>\n      <td>2.0</td>\n      <td>0.776738</td>\n      <td>0.089624</td>\n      <td>-0.962676</td>\n    </tr>\n    <tr>\n      <th>12</th>\n      <td>8.0</td>\n      <td>2.0</td>\n      <td>0.514772</td>\n      <td>0.092214</td>\n      <td>-0.960483</td>\n    </tr>\n    <tr>\n      <th>13</th>\n      <td>19.0</td>\n      <td>1.0</td>\n      <td>0.949783</td>\n      <td>0.083983</td>\n      <td>-0.949503</td>\n    </tr>\n    <tr>\n      <th>14</th>\n      <td>10.0</td>\n      <td>1.0</td>\n      <td>0.926121</td>\n      <td>0.112477</td>\n      <td>-0.949503</td>\n    </tr>\n    <tr>\n      <th>15</th>\n      <td>6.0</td>\n      <td>2.0</td>\n      <td>0.570990</td>\n      <td>0.064663</td>\n      <td>-0.958290</td>\n    </tr>\n    <tr>\n      <th>16</th>\n      <td>7.0</td>\n      <td>2.0</td>\n      <td>0.884549</td>\n      <td>0.042766</td>\n      <td>-0.953904</td>\n    </tr>\n    <tr>\n      <th>17</th>\n      <td>18.0</td>\n      <td>2.0</td>\n      <td>0.548302</td>\n      <td>0.184028</td>\n      <td>-0.960468</td>\n    </tr>\n    <tr>\n      <th>18</th>\n      <td>6.0</td>\n      <td>2.0</td>\n      <td>0.910278</td>\n      <td>0.133006</td>\n      <td>-0.958261</td>\n    </tr>\n    <tr>\n      <th>19</th>\n      <td>9.0</td>\n      <td>2.0</td>\n      <td>0.532501</td>\n      <td>0.091771</td>\n      <td>-0.960483</td>\n    </tr>\n    <tr>\n      <th>20</th>\n      <td>15.0</td>\n      <td>1.0</td>\n      <td>0.813570</td>\n      <td>0.189043</td>\n      <td>-0.958290</td>\n    </tr>\n    <tr>\n      <th>21</th>\n      <td>12.0</td>\n      <td>1.0</td>\n      <td>0.766711</td>\n      <td>0.154057</td>\n      <td>-0.962676</td>\n    </tr>\n    <tr>\n      <th>22</th>\n      <td>12.0</td>\n      <td>1.0</td>\n      <td>0.647222</td>\n      <td>0.162628</td>\n      <td>-0.962661</td>\n    </tr>\n    <tr>\n      <th>23</th>\n      <td>16.0</td>\n      <td>2.0</td>\n      <td>0.790628</td>\n      <td>0.055192</td>\n      <td>-0.951696</td>\n    </tr>\n    <tr>\n      <th>24</th>\n      <td>17.0</td>\n      <td>2.0</td>\n      <td>0.813718</td>\n      <td>0.011072</td>\n      <td>-0.940717</td>\n    </tr>\n    <tr>\n      <th>25</th>\n      <td>14.0</td>\n      <td>2.0</td>\n      <td>0.721848</td>\n      <td>0.126014</td>\n      <td>-0.960468</td>\n    </tr>\n    <tr>\n      <th>26</th>\n      <td>12.0</td>\n      <td>1.0</td>\n      <td>0.653973</td>\n      <td>0.171861</td>\n      <td>-0.960483</td>\n    </tr>\n    <tr>\n      <th>27</th>\n      <td>11.0</td>\n      <td>2.0</td>\n      <td>0.832993</td>\n      <td>0.138894</td>\n      <td>-0.960468</td>\n    </tr>\n    <tr>\n      <th>28</th>\n      <td>17.0</td>\n      <td>2.0</td>\n      <td>0.755943</td>\n      <td>0.040738</td>\n      <td>-0.949503</td>\n    </tr>\n    <tr>\n      <th>29</th>\n      <td>13.0</td>\n      <td>1.0</td>\n      <td>0.641440</td>\n      <td>0.173422</td>\n      <td>-0.962676</td>\n    </tr>\n    <tr>\n      <th>30</th>\n      <td>14.0</td>\n      <td>1.0</td>\n      <td>0.624455</td>\n      <td>0.175341</td>\n      <td>-0.962661</td>\n    </tr>\n    <tr>\n      <th>31</th>\n      <td>13.0</td>\n      <td>1.0</td>\n      <td>0.722442</td>\n      <td>0.192232</td>\n      <td>-0.962676</td>\n    </tr>\n    <tr>\n      <th>32</th>\n      <td>16.0</td>\n      <td>1.0</td>\n      <td>0.724079</td>\n      <td>0.195664</td>\n      <td>-0.962676</td>\n    </tr>\n    <tr>\n      <th>33</th>\n      <td>20.0</td>\n      <td>1.0</td>\n      <td>0.675185</td>\n      <td>0.195456</td>\n      <td>-0.962676</td>\n    </tr>\n    <tr>\n      <th>34</th>\n      <td>20.0</td>\n      <td>1.0</td>\n      <td>0.671895</td>\n      <td>0.143404</td>\n      <td>-0.953889</td>\n    </tr>\n    <tr>\n      <th>35</th>\n      <td>16.0</td>\n      <td>1.0</td>\n      <td>0.992730</td>\n      <td>0.161850</td>\n      <td>-0.953889</td>\n    </tr>\n    <tr>\n      <th>36</th>\n      <td>18.0</td>\n      <td>1.0</td>\n      <td>0.591854</td>\n      <td>0.115272</td>\n      <td>-0.956097</td>\n    </tr>\n    <tr>\n      <th>37</th>\n      <td>13.0</td>\n      <td>1.0</td>\n      <td>0.700742</td>\n      <td>0.126307</td>\n      <td>-0.958290</td>\n    </tr>\n    <tr>\n      <th>38</th>\n      <td>15.0</td>\n      <td>1.0</td>\n      <td>0.734703</td>\n      <td>0.199356</td>\n      <td>-0.960483</td>\n    </tr>\n    <tr>\n      <th>39</th>\n      <td>20.0</td>\n      <td>2.0</td>\n      <td>0.558528</td>\n      <td>0.102859</td>\n      <td>-0.953889</td>\n    </tr>\n    <tr>\n      <th>40</th>\n      <td>18.0</td>\n      <td>1.0</td>\n      <td>0.849342</td>\n      <td>0.183067</td>\n      <td>-0.960483</td>\n    </tr>\n    <tr>\n      <th>41</th>\n      <td>10.0</td>\n      <td>2.0</td>\n      <td>0.783361</td>\n      <td>0.015392</td>\n      <td>-0.936331</td>\n    </tr>\n    <tr>\n      <th>42</th>\n      <td>19.0</td>\n      <td>2.0</td>\n      <td>0.619606</td>\n      <td>0.153129</td>\n      <td>-0.962661</td>\n    </tr>\n    <tr>\n      <th>43</th>\n      <td>15.0</td>\n      <td>1.0</td>\n      <td>0.770935</td>\n      <td>0.160257</td>\n      <td>-0.960483</td>\n    </tr>\n    <tr>\n      <th>44</th>\n      <td>11.0</td>\n      <td>2.0</td>\n      <td>0.879004</td>\n      <td>0.102915</td>\n      <td>-0.953875</td>\n    </tr>\n    <tr>\n      <th>45</th>\n      <td>11.0</td>\n      <td>1.0</td>\n      <td>0.643013</td>\n      <td>0.136868</td>\n      <td>-0.953904</td>\n    </tr>\n    <tr>\n      <th>46</th>\n      <td>16.0</td>\n      <td>2.0</td>\n      <td>0.703787</td>\n      <td>0.147665</td>\n      <td>-0.962676</td>\n    </tr>\n    <tr>\n      <th>47</th>\n      <td>17.0</td>\n      <td>2.0</td>\n      <td>0.516999</td>\n      <td>0.067299</td>\n      <td>-0.958290</td>\n    </tr>\n    <tr>\n      <th>48</th>\n      <td>15.0</td>\n      <td>2.0</td>\n      <td>0.696660</td>\n      <td>0.117622</td>\n      <td>-0.960483</td>\n    </tr>\n    <tr>\n      <th>49</th>\n      <td>18.0</td>\n      <td>2.0</td>\n      <td>0.602416</td>\n      <td>0.146912</td>\n      <td>-0.960468</td>\n    </tr>\n  </tbody>\n</table>\n</div>"
     },
     "execution_count": 33,
     "metadata": {},
     "output_type": "execute_result"
    }
   ],
   "source": [
    "losses = [loss_dict['loss'] for loss_dict in trial_val.results]\n",
    "result_df = pd.DataFrame({'max_depth': trial_val.vals['max_depth'],\n",
    "                          'min_child_weight': trial_val.vals['min_child_weight'],\n",
    "                          'colsample_bytree': trial_val.vals['colsample_bytree'],\n",
    "                          'learning_rate': trial_val.vals['learning_rate'],\n",
    "                          'losses': losses\n",
    "                         }\n",
    "                        )\n",
    "result_df"
   ],
   "metadata": {
    "collapsed": false,
    "ExecuteTime": {
     "end_time": "2024-08-25T14:54:42.735594Z",
     "start_time": "2024-08-25T14:54:42.726836Z"
    }
   },
   "id": "eca1f98e02c2f622",
   "execution_count": 33
  },
  {
   "cell_type": "code",
   "outputs": [],
   "source": [],
   "metadata": {
    "collapsed": false
   },
   "id": "d0679b9f6d5c1577"
  }
 ],
 "metadata": {
  "kernelspec": {
   "display_name": "Python 3",
   "language": "python",
   "name": "python3"
  },
  "language_info": {
   "codemirror_mode": {
    "name": "ipython",
    "version": 2
   },
   "file_extension": ".py",
   "mimetype": "text/x-python",
   "name": "python",
   "nbconvert_exporter": "python",
   "pygments_lexer": "ipython2",
   "version": "2.7.6"
  }
 },
 "nbformat": 4,
 "nbformat_minor": 5
}
